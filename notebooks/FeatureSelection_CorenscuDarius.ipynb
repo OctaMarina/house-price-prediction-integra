{
 "cells": [
  {
   "cell_type": "code",
   "execution_count": 37,
   "id": "707e81c3",
   "metadata": {},
   "outputs": [],
   "source": [
    "import pandas as pd\n",
    "import seaborn as sns\n",
    "import numpy as np \n",
    "import matplotlib.pyplot as plt \n",
    "import plotly.express as ptx"
   ]
  },
  {
   "cell_type": "code",
   "execution_count": 38,
   "id": "6c236e4c",
   "metadata": {},
   "outputs": [],
   "source": [
    "df = pd.read_csv('Cornescu_Darius_features_encoded.csv')\n"
   ]
  },
  {
   "cell_type": "code",
   "execution_count": 39,
   "id": "d21805af",
   "metadata": {},
   "outputs": [
    {
     "data": {
      "text/plain": [
       "SalePrice             1.000000\n",
       "LotFrontage           0.322751\n",
       "ZoningScore           0.310521\n",
       "EVI                   0.299640\n",
       "LotArea               0.266204\n",
       "LotArea_m^2           0.266204\n",
       "LotAreaNorm           0.266204\n",
       "Price_per_m^2         0.265210\n",
       "Price_per_m^2_norm    0.265210\n",
       "PDI                   0.241289\n",
       "MSZoning_RL           0.224214\n",
       "LotConfig_CulDSac     0.150660\n",
       "LandContour_HLS       0.144847\n",
       "LotShape_IR2          0.137603\n",
       "Condition1_Norm       0.102339\n",
       "MSZoning_FV           0.097565\n",
       "Condition1_PosN       0.061106\n",
       "Condition2_PosN       0.055467\n",
       "Condition2_PosA       0.054413\n",
       "LandSlope_Sev         0.050202\n",
       "LandSlope_Mod         0.048691\n",
       "Condition1_PosA       0.047779\n",
       "LotShape_IR3          0.047473\n",
       "LandContour_Low       0.038092\n",
       "Condition1_RRAn       0.029157\n",
       "Condition1_RRNn       0.026284\n",
       "LotConfig_FR3         0.023145\n",
       "Street_Pave           0.015487\n",
       "Condition2_Norm       0.006393\n",
       "Condition2_RRAe       0.003244\n",
       "Condition1_RRNe       0.002107\n",
       "LotConfig_FR2        -0.007377\n",
       "Utilities_NoSeWa     -0.016655\n",
       "Condition2_RRAn      -0.016881\n",
       "Unnamed: 0           -0.019267\n",
       "Condition2_RRNn      -0.021393\n",
       "LandContour_Lvl      -0.033035\n",
       "Condition2_Feedr     -0.035881\n",
       "Condition1_RRAe      -0.048613\n",
       "LotConfig_Inside     -0.059510\n",
       "MSZoning_RH          -0.073813\n",
       "SubClassScore        -0.088081\n",
       "MSSubClass           -0.088081\n",
       "Condition1_Feedr     -0.125273\n",
       "LotShape_Reg         -0.251103\n",
       "MSZoning_RM          -0.279680\n",
       "Name: SalePrice, dtype: float64"
      ]
     },
     "execution_count": 39,
     "metadata": {},
     "output_type": "execute_result"
    }
   ],
   "source": [
    "correlation = df.corr(numeric_only=True)\n",
    "correlation[\"SalePrice\"].sort_values(ascending=False)"
   ]
  },
  {
   "cell_type": "code",
   "execution_count": 40,
   "id": "3cac02f8",
   "metadata": {},
   "outputs": [
    {
     "data": {
      "application/vnd.plotly.v1+json": {
       "config": {
        "plotlyServerURL": "https://plot.ly"
       },
       "data": [
        {
         "coloraxis": "coloraxis",
         "hovertemplate": "x: %{x}<br>y: %{y}<br>color: %{z}<extra></extra>",
         "name": "0",
         "texttemplate": "%{z}",
         "type": "heatmap",
         "x": [
          "Unnamed: 0",
          "MSSubClass",
          "LotFrontage",
          "LotArea",
          "SalePrice",
          "LotArea_m^2",
          "Price_per_m^2",
          "ZoningScore",
          "SubClassScore",
          "LotAreaNorm",
          "PDI",
          "Price_per_m^2_norm",
          "EVI",
          "MSZoning_FV",
          "MSZoning_RH",
          "MSZoning_RL",
          "MSZoning_RM",
          "Street_Pave",
          "LotShape_IR2",
          "LotShape_IR3",
          "LotShape_Reg",
          "LandContour_HLS",
          "LandContour_Low",
          "LandContour_Lvl",
          "Utilities_NoSeWa",
          "LotConfig_CulDSac",
          "LotConfig_FR2",
          "LotConfig_FR3",
          "LotConfig_Inside",
          "LandSlope_Mod",
          "LandSlope_Sev",
          "Condition1_Feedr",
          "Condition1_Norm",
          "Condition1_PosA",
          "Condition1_PosN",
          "Condition1_RRAe",
          "Condition1_RRAn",
          "Condition1_RRNe",
          "Condition1_RRNn",
          "Condition2_Feedr",
          "Condition2_Norm",
          "Condition2_PosA",
          "Condition2_PosN",
          "Condition2_RRAe",
          "Condition2_RRAn",
          "Condition2_RRNn"
         ],
         "xaxis": "x",
         "y": [
          "Unnamed: 0",
          "MSSubClass",
          "LotFrontage",
          "LotArea",
          "SalePrice",
          "LotArea_m^2",
          "Price_per_m^2",
          "ZoningScore",
          "SubClassScore",
          "LotAreaNorm",
          "PDI",
          "Price_per_m^2_norm",
          "EVI",
          "MSZoning_FV",
          "MSZoning_RH",
          "MSZoning_RL",
          "MSZoning_RM",
          "Street_Pave",
          "LotShape_IR2",
          "LotShape_IR3",
          "LotShape_Reg",
          "LandContour_HLS",
          "LandContour_Low",
          "LandContour_Lvl",
          "Utilities_NoSeWa",
          "LotConfig_CulDSac",
          "LotConfig_FR2",
          "LotConfig_FR3",
          "LotConfig_Inside",
          "LandSlope_Mod",
          "LandSlope_Sev",
          "Condition1_Feedr",
          "Condition1_Norm",
          "Condition1_PosA",
          "Condition1_PosN",
          "Condition1_RRAe",
          "Condition1_RRAn",
          "Condition1_RRNe",
          "Condition1_RRNn",
          "Condition2_Feedr",
          "Condition2_Norm",
          "Condition2_PosA",
          "Condition2_PosN",
          "Condition2_RRAe",
          "Condition2_RRAn",
          "Condition2_RRNn"
         ],
         "yaxis": "y",
         "z": {
          "bdata": "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",
          "dtype": "f8",
          "shape": "46, 46"
         }
        }
       ],
       "layout": {
        "coloraxis": {
         "colorscale": [
          [
           0,
           "#0d0887"
          ],
          [
           0.1111111111111111,
           "#46039f"
          ],
          [
           0.2222222222222222,
           "#7201a8"
          ],
          [
           0.3333333333333333,
           "#9c179e"
          ],
          [
           0.4444444444444444,
           "#bd3786"
          ],
          [
           0.5555555555555556,
           "#d8576b"
          ],
          [
           0.6666666666666666,
           "#ed7953"
          ],
          [
           0.7777777777777778,
           "#fb9f3a"
          ],
          [
           0.8888888888888888,
           "#fdca26"
          ],
          [
           1,
           "#f0f921"
          ]
         ]
        },
        "margin": {
         "t": 60
        },
        "template": {
         "data": {
          "bar": [
           {
            "error_x": {
             "color": "#2a3f5f"
            },
            "error_y": {
             "color": "#2a3f5f"
            },
            "marker": {
             "line": {
              "color": "#E5ECF6",
              "width": 0.5
             },
             "pattern": {
              "fillmode": "overlay",
              "size": 10,
              "solidity": 0.2
             }
            },
            "type": "bar"
           }
          ],
          "barpolar": [
           {
            "marker": {
             "line": {
              "color": "#E5ECF6",
              "width": 0.5
             },
             "pattern": {
              "fillmode": "overlay",
              "size": 10,
              "solidity": 0.2
             }
            },
            "type": "barpolar"
           }
          ],
          "carpet": [
           {
            "aaxis": {
             "endlinecolor": "#2a3f5f",
             "gridcolor": "white",
             "linecolor": "white",
             "minorgridcolor": "white",
             "startlinecolor": "#2a3f5f"
            },
            "baxis": {
             "endlinecolor": "#2a3f5f",
             "gridcolor": "white",
             "linecolor": "white",
             "minorgridcolor": "white",
             "startlinecolor": "#2a3f5f"
            },
            "type": "carpet"
           }
          ],
          "choropleth": [
           {
            "colorbar": {
             "outlinewidth": 0,
             "ticks": ""
            },
            "type": "choropleth"
           }
          ],
          "contour": [
           {
            "colorbar": {
             "outlinewidth": 0,
             "ticks": ""
            },
            "colorscale": [
             [
              0,
              "#0d0887"
             ],
             [
              0.1111111111111111,
              "#46039f"
             ],
             [
              0.2222222222222222,
              "#7201a8"
             ],
             [
              0.3333333333333333,
              "#9c179e"
             ],
             [
              0.4444444444444444,
              "#bd3786"
             ],
             [
              0.5555555555555556,
              "#d8576b"
             ],
             [
              0.6666666666666666,
              "#ed7953"
             ],
             [
              0.7777777777777778,
              "#fb9f3a"
             ],
             [
              0.8888888888888888,
              "#fdca26"
             ],
             [
              1,
              "#f0f921"
             ]
            ],
            "type": "contour"
           }
          ],
          "contourcarpet": [
           {
            "colorbar": {
             "outlinewidth": 0,
             "ticks": ""
            },
            "type": "contourcarpet"
           }
          ],
          "heatmap": [
           {
            "colorbar": {
             "outlinewidth": 0,
             "ticks": ""
            },
            "colorscale": [
             [
              0,
              "#0d0887"
             ],
             [
              0.1111111111111111,
              "#46039f"
             ],
             [
              0.2222222222222222,
              "#7201a8"
             ],
             [
              0.3333333333333333,
              "#9c179e"
             ],
             [
              0.4444444444444444,
              "#bd3786"
             ],
             [
              0.5555555555555556,
              "#d8576b"
             ],
             [
              0.6666666666666666,
              "#ed7953"
             ],
             [
              0.7777777777777778,
              "#fb9f3a"
             ],
             [
              0.8888888888888888,
              "#fdca26"
             ],
             [
              1,
              "#f0f921"
             ]
            ],
            "type": "heatmap"
           }
          ],
          "histogram": [
           {
            "marker": {
             "pattern": {
              "fillmode": "overlay",
              "size": 10,
              "solidity": 0.2
             }
            },
            "type": "histogram"
           }
          ],
          "histogram2d": [
           {
            "colorbar": {
             "outlinewidth": 0,
             "ticks": ""
            },
            "colorscale": [
             [
              0,
              "#0d0887"
             ],
             [
              0.1111111111111111,
              "#46039f"
             ],
             [
              0.2222222222222222,
              "#7201a8"
             ],
             [
              0.3333333333333333,
              "#9c179e"
             ],
             [
              0.4444444444444444,
              "#bd3786"
             ],
             [
              0.5555555555555556,
              "#d8576b"
             ],
             [
              0.6666666666666666,
              "#ed7953"
             ],
             [
              0.7777777777777778,
              "#fb9f3a"
             ],
             [
              0.8888888888888888,
              "#fdca26"
             ],
             [
              1,
              "#f0f921"
             ]
            ],
            "type": "histogram2d"
           }
          ],
          "histogram2dcontour": [
           {
            "colorbar": {
             "outlinewidth": 0,
             "ticks": ""
            },
            "colorscale": [
             [
              0,
              "#0d0887"
             ],
             [
              0.1111111111111111,
              "#46039f"
             ],
             [
              0.2222222222222222,
              "#7201a8"
             ],
             [
              0.3333333333333333,
              "#9c179e"
             ],
             [
              0.4444444444444444,
              "#bd3786"
             ],
             [
              0.5555555555555556,
              "#d8576b"
             ],
             [
              0.6666666666666666,
              "#ed7953"
             ],
             [
              0.7777777777777778,
              "#fb9f3a"
             ],
             [
              0.8888888888888888,
              "#fdca26"
             ],
             [
              1,
              "#f0f921"
             ]
            ],
            "type": "histogram2dcontour"
           }
          ],
          "mesh3d": [
           {
            "colorbar": {
             "outlinewidth": 0,
             "ticks": ""
            },
            "type": "mesh3d"
           }
          ],
          "parcoords": [
           {
            "line": {
             "colorbar": {
              "outlinewidth": 0,
              "ticks": ""
             }
            },
            "type": "parcoords"
           }
          ],
          "pie": [
           {
            "automargin": true,
            "type": "pie"
           }
          ],
          "scatter": [
           {
            "fillpattern": {
             "fillmode": "overlay",
             "size": 10,
             "solidity": 0.2
            },
            "type": "scatter"
           }
          ],
          "scatter3d": [
           {
            "line": {
             "colorbar": {
              "outlinewidth": 0,
              "ticks": ""
             }
            },
            "marker": {
             "colorbar": {
              "outlinewidth": 0,
              "ticks": ""
             }
            },
            "type": "scatter3d"
           }
          ],
          "scattercarpet": [
           {
            "marker": {
             "colorbar": {
              "outlinewidth": 0,
              "ticks": ""
             }
            },
            "type": "scattercarpet"
           }
          ],
          "scattergeo": [
           {
            "marker": {
             "colorbar": {
              "outlinewidth": 0,
              "ticks": ""
             }
            },
            "type": "scattergeo"
           }
          ],
          "scattergl": [
           {
            "marker": {
             "colorbar": {
              "outlinewidth": 0,
              "ticks": ""
             }
            },
            "type": "scattergl"
           }
          ],
          "scattermap": [
           {
            "marker": {
             "colorbar": {
              "outlinewidth": 0,
              "ticks": ""
             }
            },
            "type": "scattermap"
           }
          ],
          "scattermapbox": [
           {
            "marker": {
             "colorbar": {
              "outlinewidth": 0,
              "ticks": ""
             }
            },
            "type": "scattermapbox"
           }
          ],
          "scatterpolar": [
           {
            "marker": {
             "colorbar": {
              "outlinewidth": 0,
              "ticks": ""
             }
            },
            "type": "scatterpolar"
           }
          ],
          "scatterpolargl": [
           {
            "marker": {
             "colorbar": {
              "outlinewidth": 0,
              "ticks": ""
             }
            },
            "type": "scatterpolargl"
           }
          ],
          "scatterternary": [
           {
            "marker": {
             "colorbar": {
              "outlinewidth": 0,
              "ticks": ""
             }
            },
            "type": "scatterternary"
           }
          ],
          "surface": [
           {
            "colorbar": {
             "outlinewidth": 0,
             "ticks": ""
            },
            "colorscale": [
             [
              0,
              "#0d0887"
             ],
             [
              0.1111111111111111,
              "#46039f"
             ],
             [
              0.2222222222222222,
              "#7201a8"
             ],
             [
              0.3333333333333333,
              "#9c179e"
             ],
             [
              0.4444444444444444,
              "#bd3786"
             ],
             [
              0.5555555555555556,
              "#d8576b"
             ],
             [
              0.6666666666666666,
              "#ed7953"
             ],
             [
              0.7777777777777778,
              "#fb9f3a"
             ],
             [
              0.8888888888888888,
              "#fdca26"
             ],
             [
              1,
              "#f0f921"
             ]
            ],
            "type": "surface"
           }
          ],
          "table": [
           {
            "cells": {
             "fill": {
              "color": "#EBF0F8"
             },
             "line": {
              "color": "white"
             }
            },
            "header": {
             "fill": {
              "color": "#C8D4E3"
             },
             "line": {
              "color": "white"
             }
            },
            "type": "table"
           }
          ]
         },
         "layout": {
          "annotationdefaults": {
           "arrowcolor": "#2a3f5f",
           "arrowhead": 0,
           "arrowwidth": 1
          },
          "autotypenumbers": "strict",
          "coloraxis": {
           "colorbar": {
            "outlinewidth": 0,
            "ticks": ""
           }
          },
          "colorscale": {
           "diverging": [
            [
             0,
             "#8e0152"
            ],
            [
             0.1,
             "#c51b7d"
            ],
            [
             0.2,
             "#de77ae"
            ],
            [
             0.3,
             "#f1b6da"
            ],
            [
             0.4,
             "#fde0ef"
            ],
            [
             0.5,
             "#f7f7f7"
            ],
            [
             0.6,
             "#e6f5d0"
            ],
            [
             0.7,
             "#b8e186"
            ],
            [
             0.8,
             "#7fbc41"
            ],
            [
             0.9,
             "#4d9221"
            ],
            [
             1,
             "#276419"
            ]
           ],
           "sequential": [
            [
             0,
             "#0d0887"
            ],
            [
             0.1111111111111111,
             "#46039f"
            ],
            [
             0.2222222222222222,
             "#7201a8"
            ],
            [
             0.3333333333333333,
             "#9c179e"
            ],
            [
             0.4444444444444444,
             "#bd3786"
            ],
            [
             0.5555555555555556,
             "#d8576b"
            ],
            [
             0.6666666666666666,
             "#ed7953"
            ],
            [
             0.7777777777777778,
             "#fb9f3a"
            ],
            [
             0.8888888888888888,
             "#fdca26"
            ],
            [
             1,
             "#f0f921"
            ]
           ],
           "sequentialminus": [
            [
             0,
             "#0d0887"
            ],
            [
             0.1111111111111111,
             "#46039f"
            ],
            [
             0.2222222222222222,
             "#7201a8"
            ],
            [
             0.3333333333333333,
             "#9c179e"
            ],
            [
             0.4444444444444444,
             "#bd3786"
            ],
            [
             0.5555555555555556,
             "#d8576b"
            ],
            [
             0.6666666666666666,
             "#ed7953"
            ],
            [
             0.7777777777777778,
             "#fb9f3a"
            ],
            [
             0.8888888888888888,
             "#fdca26"
            ],
            [
             1,
             "#f0f921"
            ]
           ]
          },
          "colorway": [
           "#636efa",
           "#EF553B",
           "#00cc96",
           "#ab63fa",
           "#FFA15A",
           "#19d3f3",
           "#FF6692",
           "#B6E880",
           "#FF97FF",
           "#FECB52"
          ],
          "font": {
           "color": "#2a3f5f"
          },
          "geo": {
           "bgcolor": "white",
           "lakecolor": "white",
           "landcolor": "#E5ECF6",
           "showlakes": true,
           "showland": true,
           "subunitcolor": "white"
          },
          "hoverlabel": {
           "align": "left"
          },
          "hovermode": "closest",
          "mapbox": {
           "style": "light"
          },
          "paper_bgcolor": "white",
          "plot_bgcolor": "#E5ECF6",
          "polar": {
           "angularaxis": {
            "gridcolor": "white",
            "linecolor": "white",
            "ticks": ""
           },
           "bgcolor": "#E5ECF6",
           "radialaxis": {
            "gridcolor": "white",
            "linecolor": "white",
            "ticks": ""
           }
          },
          "scene": {
           "xaxis": {
            "backgroundcolor": "#E5ECF6",
            "gridcolor": "white",
            "gridwidth": 2,
            "linecolor": "white",
            "showbackground": true,
            "ticks": "",
            "zerolinecolor": "white"
           },
           "yaxis": {
            "backgroundcolor": "#E5ECF6",
            "gridcolor": "white",
            "gridwidth": 2,
            "linecolor": "white",
            "showbackground": true,
            "ticks": "",
            "zerolinecolor": "white"
           },
           "zaxis": {
            "backgroundcolor": "#E5ECF6",
            "gridcolor": "white",
            "gridwidth": 2,
            "linecolor": "white",
            "showbackground": true,
            "ticks": "",
            "zerolinecolor": "white"
           }
          },
          "shapedefaults": {
           "line": {
            "color": "#2a3f5f"
           }
          },
          "ternary": {
           "aaxis": {
            "gridcolor": "white",
            "linecolor": "white",
            "ticks": ""
           },
           "baxis": {
            "gridcolor": "white",
            "linecolor": "white",
            "ticks": ""
           },
           "bgcolor": "#E5ECF6",
           "caxis": {
            "gridcolor": "white",
            "linecolor": "white",
            "ticks": ""
           }
          },
          "title": {
           "x": 0.05
          },
          "xaxis": {
           "automargin": true,
           "gridcolor": "white",
           "linecolor": "white",
           "ticks": "",
           "title": {
            "standoff": 15
           },
           "zerolinecolor": "white",
           "zerolinewidth": 2
          },
          "yaxis": {
           "automargin": true,
           "gridcolor": "white",
           "linecolor": "white",
           "ticks": "",
           "title": {
            "standoff": 15
           },
           "zerolinecolor": "white",
           "zerolinewidth": 2
          }
         }
        },
        "xaxis": {
         "anchor": "y",
         "constrain": "domain",
         "domain": [
          0,
          1
         ],
         "scaleanchor": "y"
        },
        "yaxis": {
         "anchor": "x",
         "autorange": "reversed",
         "constrain": "domain",
         "domain": [
          0,
          1
         ]
        }
       }
      }
     },
     "metadata": {},
     "output_type": "display_data"
    }
   ],
   "source": [
    "fig = ptx.imshow(correlation, text_auto=True)\n",
    "fig.show()"
   ]
  },
  {
   "cell_type": "code",
   "execution_count": 41,
   "id": "b07f2e53",
   "metadata": {},
   "outputs": [
    {
     "name": "stdout",
     "output_type": "stream",
     "text": [
      "SalePrice             1.000000\n",
      "LotFrontage           0.322751\n",
      "ZoningScore           0.310521\n",
      "EVI                   0.299640\n",
      "MSZoning_RM           0.279680\n",
      "LotArea               0.266204\n",
      "LotArea_m^2           0.266204\n",
      "LotAreaNorm           0.266204\n",
      "Price_per_m^2         0.265210\n",
      "Price_per_m^2_norm    0.265210\n",
      "LotShape_Reg          0.251103\n",
      "PDI                   0.241289\n",
      "MSZoning_RL           0.224214\n",
      "LotConfig_CulDSac     0.150660\n",
      "LandContour_HLS       0.144847\n",
      "LotShape_IR2          0.137603\n",
      "Condition1_Feedr      0.125273\n",
      "Condition1_Norm       0.102339\n",
      "MSZoning_FV           0.097565\n",
      "MSSubClass            0.088081\n",
      "Name: SalePrice, dtype: float64\n"
     ]
    }
   ],
   "source": [
    "correlations = df.corr()['SalePrice'].abs().sort_values(ascending=False)\n",
    "print(correlations.head(20))"
   ]
  },
  {
   "cell_type": "code",
   "execution_count": 42,
   "id": "79ec4760",
   "metadata": {},
   "outputs": [
    {
     "name": "stdout",
     "output_type": "stream",
     "text": [
      "\n",
      "Număr de variabile selectate (corelație > 0.05): 27\n",
      "Variabile selectate: ['SalePrice', 'LotFrontage', 'ZoningScore', 'EVI', 'MSZoning_RM', 'LotArea', 'LotArea_m^2', 'LotAreaNorm', 'Price_per_m^2', 'Price_per_m^2_norm', 'LotShape_Reg', 'PDI', 'MSZoning_RL', 'LotConfig_CulDSac', 'LandContour_HLS', 'LotShape_IR2', 'Condition1_Feedr', 'Condition1_Norm', 'MSZoning_FV', 'MSSubClass', 'SubClassScore', 'MSZoning_RH', 'Condition1_PosN', 'LotConfig_Inside', 'Condition2_PosN', 'Condition2_PosA', 'LandSlope_Sev']\n"
     ]
    }
   ],
   "source": [
    "treshold = 0.05\n",
    "in_use_features = correlations[correlations > treshold].index.to_list()\n",
    "#in_use_features.remove('SalePrice')\n",
    "\n",
    "print(f\"\\nNumăr de variabile selectate (corelație > {treshold}): {len(in_use_features)}\")\n",
    "print(f\"Variabile selectate: {in_use_features[:30]}\")"
   ]
  },
  {
   "cell_type": "code",
   "execution_count": 43,
   "id": "99531fe0",
   "metadata": {},
   "outputs": [
    {
     "data": {
      "application/vnd.plotly.v1+json": {
       "config": {
        "plotlyServerURL": "https://plot.ly"
       },
       "data": [
        {
         "coloraxis": "coloraxis",
         "hovertemplate": "x: %{x}<br>y: %{y}<br>color: %{z}<extra></extra>",
         "name": "0",
         "texttemplate": "%{z}",
         "type": "heatmap",
         "x": [
          "SalePrice",
          "LotFrontage",
          "ZoningScore",
          "EVI",
          "MSZoning_RM",
          "LotArea",
          "LotArea_m^2",
          "LotAreaNorm",
          "Price_per_m^2",
          "Price_per_m^2_norm",
          "LotShape_Reg",
          "PDI",
          "MSZoning_RL",
          "LotConfig_CulDSac",
          "LandContour_HLS",
          "LotShape_IR2",
          "Condition1_Feedr",
          "Condition1_Norm",
          "MSZoning_FV",
          "MSSubClass",
          "SubClassScore",
          "MSZoning_RH",
          "Condition1_PosN",
          "LotConfig_Inside",
          "Condition2_PosN",
          "Condition2_PosA",
          "LandSlope_Sev"
         ],
         "xaxis": "x",
         "y": [
          "SalePrice",
          "LotFrontage",
          "ZoningScore",
          "EVI",
          "MSZoning_RM",
          "LotArea",
          "LotArea_m^2",
          "LotAreaNorm",
          "Price_per_m^2",
          "Price_per_m^2_norm",
          "LotShape_Reg",
          "PDI",
          "MSZoning_RL",
          "LotConfig_CulDSac",
          "LandContour_HLS",
          "LotShape_IR2",
          "Condition1_Feedr",
          "Condition1_Norm",
          "MSZoning_FV",
          "MSSubClass",
          "SubClassScore",
          "MSZoning_RH",
          "Condition1_PosN",
          "LotConfig_Inside",
          "Condition2_PosN",
          "Condition2_PosA",
          "LandSlope_Sev"
         ],
         "yaxis": "y",
         "z": {
          "bdata": "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",
          "dtype": "f8",
          "shape": "27, 27"
         }
        }
       ],
       "layout": {
        "coloraxis": {
         "colorscale": [
          [
           0,
           "#0d0887"
          ],
          [
           0.1111111111111111,
           "#46039f"
          ],
          [
           0.2222222222222222,
           "#7201a8"
          ],
          [
           0.3333333333333333,
           "#9c179e"
          ],
          [
           0.4444444444444444,
           "#bd3786"
          ],
          [
           0.5555555555555556,
           "#d8576b"
          ],
          [
           0.6666666666666666,
           "#ed7953"
          ],
          [
           0.7777777777777778,
           "#fb9f3a"
          ],
          [
           0.8888888888888888,
           "#fdca26"
          ],
          [
           1,
           "#f0f921"
          ]
         ]
        },
        "margin": {
         "t": 60
        },
        "template": {
         "data": {
          "bar": [
           {
            "error_x": {
             "color": "#2a3f5f"
            },
            "error_y": {
             "color": "#2a3f5f"
            },
            "marker": {
             "line": {
              "color": "#E5ECF6",
              "width": 0.5
             },
             "pattern": {
              "fillmode": "overlay",
              "size": 10,
              "solidity": 0.2
             }
            },
            "type": "bar"
           }
          ],
          "barpolar": [
           {
            "marker": {
             "line": {
              "color": "#E5ECF6",
              "width": 0.5
             },
             "pattern": {
              "fillmode": "overlay",
              "size": 10,
              "solidity": 0.2
             }
            },
            "type": "barpolar"
           }
          ],
          "carpet": [
           {
            "aaxis": {
             "endlinecolor": "#2a3f5f",
             "gridcolor": "white",
             "linecolor": "white",
             "minorgridcolor": "white",
             "startlinecolor": "#2a3f5f"
            },
            "baxis": {
             "endlinecolor": "#2a3f5f",
             "gridcolor": "white",
             "linecolor": "white",
             "minorgridcolor": "white",
             "startlinecolor": "#2a3f5f"
            },
            "type": "carpet"
           }
          ],
          "choropleth": [
           {
            "colorbar": {
             "outlinewidth": 0,
             "ticks": ""
            },
            "type": "choropleth"
           }
          ],
          "contour": [
           {
            "colorbar": {
             "outlinewidth": 0,
             "ticks": ""
            },
            "colorscale": [
             [
              0,
              "#0d0887"
             ],
             [
              0.1111111111111111,
              "#46039f"
             ],
             [
              0.2222222222222222,
              "#7201a8"
             ],
             [
              0.3333333333333333,
              "#9c179e"
             ],
             [
              0.4444444444444444,
              "#bd3786"
             ],
             [
              0.5555555555555556,
              "#d8576b"
             ],
             [
              0.6666666666666666,
              "#ed7953"
             ],
             [
              0.7777777777777778,
              "#fb9f3a"
             ],
             [
              0.8888888888888888,
              "#fdca26"
             ],
             [
              1,
              "#f0f921"
             ]
            ],
            "type": "contour"
           }
          ],
          "contourcarpet": [
           {
            "colorbar": {
             "outlinewidth": 0,
             "ticks": ""
            },
            "type": "contourcarpet"
           }
          ],
          "heatmap": [
           {
            "colorbar": {
             "outlinewidth": 0,
             "ticks": ""
            },
            "colorscale": [
             [
              0,
              "#0d0887"
             ],
             [
              0.1111111111111111,
              "#46039f"
             ],
             [
              0.2222222222222222,
              "#7201a8"
             ],
             [
              0.3333333333333333,
              "#9c179e"
             ],
             [
              0.4444444444444444,
              "#bd3786"
             ],
             [
              0.5555555555555556,
              "#d8576b"
             ],
             [
              0.6666666666666666,
              "#ed7953"
             ],
             [
              0.7777777777777778,
              "#fb9f3a"
             ],
             [
              0.8888888888888888,
              "#fdca26"
             ],
             [
              1,
              "#f0f921"
             ]
            ],
            "type": "heatmap"
           }
          ],
          "histogram": [
           {
            "marker": {
             "pattern": {
              "fillmode": "overlay",
              "size": 10,
              "solidity": 0.2
             }
            },
            "type": "histogram"
           }
          ],
          "histogram2d": [
           {
            "colorbar": {
             "outlinewidth": 0,
             "ticks": ""
            },
            "colorscale": [
             [
              0,
              "#0d0887"
             ],
             [
              0.1111111111111111,
              "#46039f"
             ],
             [
              0.2222222222222222,
              "#7201a8"
             ],
             [
              0.3333333333333333,
              "#9c179e"
             ],
             [
              0.4444444444444444,
              "#bd3786"
             ],
             [
              0.5555555555555556,
              "#d8576b"
             ],
             [
              0.6666666666666666,
              "#ed7953"
             ],
             [
              0.7777777777777778,
              "#fb9f3a"
             ],
             [
              0.8888888888888888,
              "#fdca26"
             ],
             [
              1,
              "#f0f921"
             ]
            ],
            "type": "histogram2d"
           }
          ],
          "histogram2dcontour": [
           {
            "colorbar": {
             "outlinewidth": 0,
             "ticks": ""
            },
            "colorscale": [
             [
              0,
              "#0d0887"
             ],
             [
              0.1111111111111111,
              "#46039f"
             ],
             [
              0.2222222222222222,
              "#7201a8"
             ],
             [
              0.3333333333333333,
              "#9c179e"
             ],
             [
              0.4444444444444444,
              "#bd3786"
             ],
             [
              0.5555555555555556,
              "#d8576b"
             ],
             [
              0.6666666666666666,
              "#ed7953"
             ],
             [
              0.7777777777777778,
              "#fb9f3a"
             ],
             [
              0.8888888888888888,
              "#fdca26"
             ],
             [
              1,
              "#f0f921"
             ]
            ],
            "type": "histogram2dcontour"
           }
          ],
          "mesh3d": [
           {
            "colorbar": {
             "outlinewidth": 0,
             "ticks": ""
            },
            "type": "mesh3d"
           }
          ],
          "parcoords": [
           {
            "line": {
             "colorbar": {
              "outlinewidth": 0,
              "ticks": ""
             }
            },
            "type": "parcoords"
           }
          ],
          "pie": [
           {
            "automargin": true,
            "type": "pie"
           }
          ],
          "scatter": [
           {
            "fillpattern": {
             "fillmode": "overlay",
             "size": 10,
             "solidity": 0.2
            },
            "type": "scatter"
           }
          ],
          "scatter3d": [
           {
            "line": {
             "colorbar": {
              "outlinewidth": 0,
              "ticks": ""
             }
            },
            "marker": {
             "colorbar": {
              "outlinewidth": 0,
              "ticks": ""
             }
            },
            "type": "scatter3d"
           }
          ],
          "scattercarpet": [
           {
            "marker": {
             "colorbar": {
              "outlinewidth": 0,
              "ticks": ""
             }
            },
            "type": "scattercarpet"
           }
          ],
          "scattergeo": [
           {
            "marker": {
             "colorbar": {
              "outlinewidth": 0,
              "ticks": ""
             }
            },
            "type": "scattergeo"
           }
          ],
          "scattergl": [
           {
            "marker": {
             "colorbar": {
              "outlinewidth": 0,
              "ticks": ""
             }
            },
            "type": "scattergl"
           }
          ],
          "scattermap": [
           {
            "marker": {
             "colorbar": {
              "outlinewidth": 0,
              "ticks": ""
             }
            },
            "type": "scattermap"
           }
          ],
          "scattermapbox": [
           {
            "marker": {
             "colorbar": {
              "outlinewidth": 0,
              "ticks": ""
             }
            },
            "type": "scattermapbox"
           }
          ],
          "scatterpolar": [
           {
            "marker": {
             "colorbar": {
              "outlinewidth": 0,
              "ticks": ""
             }
            },
            "type": "scatterpolar"
           }
          ],
          "scatterpolargl": [
           {
            "marker": {
             "colorbar": {
              "outlinewidth": 0,
              "ticks": ""
             }
            },
            "type": "scatterpolargl"
           }
          ],
          "scatterternary": [
           {
            "marker": {
             "colorbar": {
              "outlinewidth": 0,
              "ticks": ""
             }
            },
            "type": "scatterternary"
           }
          ],
          "surface": [
           {
            "colorbar": {
             "outlinewidth": 0,
             "ticks": ""
            },
            "colorscale": [
             [
              0,
              "#0d0887"
             ],
             [
              0.1111111111111111,
              "#46039f"
             ],
             [
              0.2222222222222222,
              "#7201a8"
             ],
             [
              0.3333333333333333,
              "#9c179e"
             ],
             [
              0.4444444444444444,
              "#bd3786"
             ],
             [
              0.5555555555555556,
              "#d8576b"
             ],
             [
              0.6666666666666666,
              "#ed7953"
             ],
             [
              0.7777777777777778,
              "#fb9f3a"
             ],
             [
              0.8888888888888888,
              "#fdca26"
             ],
             [
              1,
              "#f0f921"
             ]
            ],
            "type": "surface"
           }
          ],
          "table": [
           {
            "cells": {
             "fill": {
              "color": "#EBF0F8"
             },
             "line": {
              "color": "white"
             }
            },
            "header": {
             "fill": {
              "color": "#C8D4E3"
             },
             "line": {
              "color": "white"
             }
            },
            "type": "table"
           }
          ]
         },
         "layout": {
          "annotationdefaults": {
           "arrowcolor": "#2a3f5f",
           "arrowhead": 0,
           "arrowwidth": 1
          },
          "autotypenumbers": "strict",
          "coloraxis": {
           "colorbar": {
            "outlinewidth": 0,
            "ticks": ""
           }
          },
          "colorscale": {
           "diverging": [
            [
             0,
             "#8e0152"
            ],
            [
             0.1,
             "#c51b7d"
            ],
            [
             0.2,
             "#de77ae"
            ],
            [
             0.3,
             "#f1b6da"
            ],
            [
             0.4,
             "#fde0ef"
            ],
            [
             0.5,
             "#f7f7f7"
            ],
            [
             0.6,
             "#e6f5d0"
            ],
            [
             0.7,
             "#b8e186"
            ],
            [
             0.8,
             "#7fbc41"
            ],
            [
             0.9,
             "#4d9221"
            ],
            [
             1,
             "#276419"
            ]
           ],
           "sequential": [
            [
             0,
             "#0d0887"
            ],
            [
             0.1111111111111111,
             "#46039f"
            ],
            [
             0.2222222222222222,
             "#7201a8"
            ],
            [
             0.3333333333333333,
             "#9c179e"
            ],
            [
             0.4444444444444444,
             "#bd3786"
            ],
            [
             0.5555555555555556,
             "#d8576b"
            ],
            [
             0.6666666666666666,
             "#ed7953"
            ],
            [
             0.7777777777777778,
             "#fb9f3a"
            ],
            [
             0.8888888888888888,
             "#fdca26"
            ],
            [
             1,
             "#f0f921"
            ]
           ],
           "sequentialminus": [
            [
             0,
             "#0d0887"
            ],
            [
             0.1111111111111111,
             "#46039f"
            ],
            [
             0.2222222222222222,
             "#7201a8"
            ],
            [
             0.3333333333333333,
             "#9c179e"
            ],
            [
             0.4444444444444444,
             "#bd3786"
            ],
            [
             0.5555555555555556,
             "#d8576b"
            ],
            [
             0.6666666666666666,
             "#ed7953"
            ],
            [
             0.7777777777777778,
             "#fb9f3a"
            ],
            [
             0.8888888888888888,
             "#fdca26"
            ],
            [
             1,
             "#f0f921"
            ]
           ]
          },
          "colorway": [
           "#636efa",
           "#EF553B",
           "#00cc96",
           "#ab63fa",
           "#FFA15A",
           "#19d3f3",
           "#FF6692",
           "#B6E880",
           "#FF97FF",
           "#FECB52"
          ],
          "font": {
           "color": "#2a3f5f"
          },
          "geo": {
           "bgcolor": "white",
           "lakecolor": "white",
           "landcolor": "#E5ECF6",
           "showlakes": true,
           "showland": true,
           "subunitcolor": "white"
          },
          "hoverlabel": {
           "align": "left"
          },
          "hovermode": "closest",
          "mapbox": {
           "style": "light"
          },
          "paper_bgcolor": "white",
          "plot_bgcolor": "#E5ECF6",
          "polar": {
           "angularaxis": {
            "gridcolor": "white",
            "linecolor": "white",
            "ticks": ""
           },
           "bgcolor": "#E5ECF6",
           "radialaxis": {
            "gridcolor": "white",
            "linecolor": "white",
            "ticks": ""
           }
          },
          "scene": {
           "xaxis": {
            "backgroundcolor": "#E5ECF6",
            "gridcolor": "white",
            "gridwidth": 2,
            "linecolor": "white",
            "showbackground": true,
            "ticks": "",
            "zerolinecolor": "white"
           },
           "yaxis": {
            "backgroundcolor": "#E5ECF6",
            "gridcolor": "white",
            "gridwidth": 2,
            "linecolor": "white",
            "showbackground": true,
            "ticks": "",
            "zerolinecolor": "white"
           },
           "zaxis": {
            "backgroundcolor": "#E5ECF6",
            "gridcolor": "white",
            "gridwidth": 2,
            "linecolor": "white",
            "showbackground": true,
            "ticks": "",
            "zerolinecolor": "white"
           }
          },
          "shapedefaults": {
           "line": {
            "color": "#2a3f5f"
           }
          },
          "ternary": {
           "aaxis": {
            "gridcolor": "white",
            "linecolor": "white",
            "ticks": ""
           },
           "baxis": {
            "gridcolor": "white",
            "linecolor": "white",
            "ticks": ""
           },
           "bgcolor": "#E5ECF6",
           "caxis": {
            "gridcolor": "white",
            "linecolor": "white",
            "ticks": ""
           }
          },
          "title": {
           "x": 0.05
          },
          "xaxis": {
           "automargin": true,
           "gridcolor": "white",
           "linecolor": "white",
           "ticks": "",
           "title": {
            "standoff": 15
           },
           "zerolinecolor": "white",
           "zerolinewidth": 2
          },
          "yaxis": {
           "automargin": true,
           "gridcolor": "white",
           "linecolor": "white",
           "ticks": "",
           "title": {
            "standoff": 15
           },
           "zerolinecolor": "white",
           "zerolinewidth": 2
          }
         }
        },
        "xaxis": {
         "anchor": "y",
         "constrain": "domain",
         "domain": [
          0,
          1
         ],
         "scaleanchor": "y"
        },
        "yaxis": {
         "anchor": "x",
         "autorange": "reversed",
         "constrain": "domain",
         "domain": [
          0,
          1
         ]
        }
       }
      }
     },
     "metadata": {},
     "output_type": "display_data"
    }
   ],
   "source": [
    "corr_subset = correlation.loc[in_use_features, in_use_features]\n",
    "fig = ptx.imshow(corr_subset, text_auto=True)\n",
    "fig.show()"
   ]
  },
  {
   "cell_type": "code",
   "execution_count": 44,
   "id": "4d768713",
   "metadata": {},
   "outputs": [
    {
     "name": "stdout",
     "output_type": "stream",
     "text": [
      "SalePrice             1.000000\n",
      "LotFrontage           0.322751\n",
      "ZoningScore           0.310521\n",
      "EVI                   0.299640\n",
      "LotArea               0.266204\n",
      "LotArea_m^2           0.266204\n",
      "LotAreaNorm           0.266204\n",
      "Price_per_m^2         0.265210\n",
      "Price_per_m^2_norm    0.265210\n",
      "PDI                   0.241289\n",
      "MSZoning_RL           0.224214\n",
      "LotConfig_CulDSac     0.150660\n",
      "LandContour_HLS       0.144847\n",
      "LotShape_IR2          0.137603\n",
      "Condition1_Norm       0.102339\n",
      "MSZoning_FV           0.097565\n",
      "Condition1_PosN       0.061106\n",
      "Condition2_PosN       0.055467\n",
      "Condition2_PosA       0.054413\n",
      "LandSlope_Sev         0.050202\n",
      "LotConfig_Inside     -0.059510\n",
      "MSZoning_RH          -0.073813\n",
      "SubClassScore        -0.088081\n",
      "MSSubClass           -0.088081\n",
      "Condition1_Feedr     -0.125273\n",
      "LotShape_Reg         -0.251103\n",
      "MSZoning_RM          -0.279680\n",
      "Name: SalePrice, dtype: float64\n"
     ]
    }
   ],
   "source": [
    "selected =['SalePrice', 'LotFrontage', 'ZoningScore', 'EVI', 'MSZoning_RM', \n",
    "           'LotArea', 'LotArea_m^2', 'LotAreaNorm', 'Price_per_m^2', 'Price_per_m^2_norm',\n",
    "            'LotShape_Reg', 'PDI', 'MSZoning_RL', 'LotConfig_CulDSac', 'LandContour_HLS', \n",
    "            'LotShape_IR2', 'Condition1_Feedr', 'Condition1_Norm', 'MSZoning_FV', 'MSSubClass', \n",
    "            'SubClassScore', 'MSZoning_RH', 'Condition1_PosN', 'LotConfig_Inside', 'Condition2_PosN', \n",
    "            'Condition2_PosA', 'LandSlope_Sev']\n",
    "\n",
    "\n",
    "corr_matrix = df[selected].corr(numeric_only=True)\n",
    "sale_corr = corr_matrix[\"SalePrice\"].sort_values(ascending=False)\n",
    "print(sale_corr)"
   ]
  },
  {
   "cell_type": "markdown",
   "id": "57225602",
   "metadata": {},
   "source": [
    "După ce am analizat corelațiile cu variabila țintă `SalePrice`, am observat că unele caracteristici sunt redundant corelate între ele, reprezentând practic aceeași informație în forme diferite. De exemplu:\n",
    "\n",
    "* `LotArea`, `LotArea_m^2` și `LotAreaNorm` descriu aceeași dimensiune a terenului, doar în unități sau scale diferite;\n",
    "* `Price_per_m^2` și `Price_per_m^2_norm` derivă direct din `SalePrice` și pot introduce **colinearitate** (corelație artificial de mare) în model.\n",
    "\n",
    "Prin urmare, am decis să elimin aceste coloane pentru a reduce redundanța și a evita problemele de multicoliniaritate.\n",
    "\n",
    "În ceea ce privește *feature-urile derivate din variabile categorice* (de tip one-hot encoded), precum `MSZoning_RL`, `MSZoning_RM` sau `LotConfig_CulDSac`, inițial m-am gândit să le elimin, însă după câteva teste realizate pe modelul de decizie am observat că acestea pot aduce un plus în performanță.\n",
    "De aceea, am ales să le păstrez doar pe cele care prezintă o corelație absolută mai mare de **0.15** cu `SalePrice`, pentru a include doar acele variabile care contribuie semnificativ la precizia modelului.\n"
   ]
  },
  {
   "cell_type": "code",
   "execution_count": 45,
   "id": "f1dada14",
   "metadata": {},
   "outputs": [],
   "source": [
    "cols_to_drop = [\n",
    "    \"LotArea_m^2\",\n",
    "    \"LotAreaNorm\",\n",
    "    \"Price_per_m^2\"\n",
    "]\n",
    "\n",
    "df = df.drop(columns=cols_to_drop)\n",
    "correlations = df.corr(numeric_only=True)[\"SalePrice\"]\n"
   ]
  },
  {
   "cell_type": "code",
   "execution_count": 51,
   "id": "cd283ac4",
   "metadata": {},
   "outputs": [
    {
     "data": {
      "application/vnd.plotly.v1+json": {
       "config": {
        "plotlyServerURL": "https://plot.ly"
       },
       "data": [
        {
         "hovertemplate": "index=%{x}<br>y=%{y}<br>text=%{text}<extra></extra>",
         "legendgroup": "",
         "marker": {
          "color": "#636efa",
          "pattern": {
           "shape": ""
          }
         },
         "name": "",
         "orientation": "v",
         "showlegend": false,
         "text": {
          "bdata": "eekmMQis1D+BlUOLbOfTPzMzMzMzM9M/oBov3SQG0T/2KFyPwvXQPwwCK4cW2c4/eekmMQiszD+HFtnO91PDP4/C9Shcj8I/RIts5/upwT/pJjEIrBy6PwAAAAAAAMC/qvHSTWIQ0L/sUbgehevRvw==",
          "dtype": "f8"
         },
         "textposition": "outside",
         "type": "bar",
         "x": [
          "LotFrontage",
          "ZoningScore",
          "EVI",
          "LotArea",
          "Price_per_m^2_norm",
          "PDI",
          "MSZoning_RL",
          "LotConfig_CulDSac",
          "LandContour_HLS",
          "LotShape_IR2",
          "Condition1_Norm",
          "Condition1_Feedr",
          "LotShape_Reg",
          "MSZoning_RM"
         ],
         "xaxis": "x",
         "y": {
          "bdata": "YNbWifOn1D8RO8jfk9/TP1FKBrBOLdM/7fiNeHoJ0T88P1m7NPnQP5e+OniQ4s4/Vh0hTgqzzD9m4kJa1kjDP5JUFwVWisI/+uEKzfucwT8NUAYx3DK6P5E9XXf1CMC/4QjAKRIS0L93LbtSSObRvw==",
          "dtype": "f8"
         },
         "yaxis": "y"
        }
       ],
       "layout": {
        "barmode": "relative",
        "legend": {
         "tracegroupgap": 0
        },
        "template": {
         "data": {
          "bar": [
           {
            "error_x": {
             "color": "#2a3f5f"
            },
            "error_y": {
             "color": "#2a3f5f"
            },
            "marker": {
             "line": {
              "color": "#E5ECF6",
              "width": 0.5
             },
             "pattern": {
              "fillmode": "overlay",
              "size": 10,
              "solidity": 0.2
             }
            },
            "type": "bar"
           }
          ],
          "barpolar": [
           {
            "marker": {
             "line": {
              "color": "#E5ECF6",
              "width": 0.5
             },
             "pattern": {
              "fillmode": "overlay",
              "size": 10,
              "solidity": 0.2
             }
            },
            "type": "barpolar"
           }
          ],
          "carpet": [
           {
            "aaxis": {
             "endlinecolor": "#2a3f5f",
             "gridcolor": "white",
             "linecolor": "white",
             "minorgridcolor": "white",
             "startlinecolor": "#2a3f5f"
            },
            "baxis": {
             "endlinecolor": "#2a3f5f",
             "gridcolor": "white",
             "linecolor": "white",
             "minorgridcolor": "white",
             "startlinecolor": "#2a3f5f"
            },
            "type": "carpet"
           }
          ],
          "choropleth": [
           {
            "colorbar": {
             "outlinewidth": 0,
             "ticks": ""
            },
            "type": "choropleth"
           }
          ],
          "contour": [
           {
            "colorbar": {
             "outlinewidth": 0,
             "ticks": ""
            },
            "colorscale": [
             [
              0,
              "#0d0887"
             ],
             [
              0.1111111111111111,
              "#46039f"
             ],
             [
              0.2222222222222222,
              "#7201a8"
             ],
             [
              0.3333333333333333,
              "#9c179e"
             ],
             [
              0.4444444444444444,
              "#bd3786"
             ],
             [
              0.5555555555555556,
              "#d8576b"
             ],
             [
              0.6666666666666666,
              "#ed7953"
             ],
             [
              0.7777777777777778,
              "#fb9f3a"
             ],
             [
              0.8888888888888888,
              "#fdca26"
             ],
             [
              1,
              "#f0f921"
             ]
            ],
            "type": "contour"
           }
          ],
          "contourcarpet": [
           {
            "colorbar": {
             "outlinewidth": 0,
             "ticks": ""
            },
            "type": "contourcarpet"
           }
          ],
          "heatmap": [
           {
            "colorbar": {
             "outlinewidth": 0,
             "ticks": ""
            },
            "colorscale": [
             [
              0,
              "#0d0887"
             ],
             [
              0.1111111111111111,
              "#46039f"
             ],
             [
              0.2222222222222222,
              "#7201a8"
             ],
             [
              0.3333333333333333,
              "#9c179e"
             ],
             [
              0.4444444444444444,
              "#bd3786"
             ],
             [
              0.5555555555555556,
              "#d8576b"
             ],
             [
              0.6666666666666666,
              "#ed7953"
             ],
             [
              0.7777777777777778,
              "#fb9f3a"
             ],
             [
              0.8888888888888888,
              "#fdca26"
             ],
             [
              1,
              "#f0f921"
             ]
            ],
            "type": "heatmap"
           }
          ],
          "histogram": [
           {
            "marker": {
             "pattern": {
              "fillmode": "overlay",
              "size": 10,
              "solidity": 0.2
             }
            },
            "type": "histogram"
           }
          ],
          "histogram2d": [
           {
            "colorbar": {
             "outlinewidth": 0,
             "ticks": ""
            },
            "colorscale": [
             [
              0,
              "#0d0887"
             ],
             [
              0.1111111111111111,
              "#46039f"
             ],
             [
              0.2222222222222222,
              "#7201a8"
             ],
             [
              0.3333333333333333,
              "#9c179e"
             ],
             [
              0.4444444444444444,
              "#bd3786"
             ],
             [
              0.5555555555555556,
              "#d8576b"
             ],
             [
              0.6666666666666666,
              "#ed7953"
             ],
             [
              0.7777777777777778,
              "#fb9f3a"
             ],
             [
              0.8888888888888888,
              "#fdca26"
             ],
             [
              1,
              "#f0f921"
             ]
            ],
            "type": "histogram2d"
           }
          ],
          "histogram2dcontour": [
           {
            "colorbar": {
             "outlinewidth": 0,
             "ticks": ""
            },
            "colorscale": [
             [
              0,
              "#0d0887"
             ],
             [
              0.1111111111111111,
              "#46039f"
             ],
             [
              0.2222222222222222,
              "#7201a8"
             ],
             [
              0.3333333333333333,
              "#9c179e"
             ],
             [
              0.4444444444444444,
              "#bd3786"
             ],
             [
              0.5555555555555556,
              "#d8576b"
             ],
             [
              0.6666666666666666,
              "#ed7953"
             ],
             [
              0.7777777777777778,
              "#fb9f3a"
             ],
             [
              0.8888888888888888,
              "#fdca26"
             ],
             [
              1,
              "#f0f921"
             ]
            ],
            "type": "histogram2dcontour"
           }
          ],
          "mesh3d": [
           {
            "colorbar": {
             "outlinewidth": 0,
             "ticks": ""
            },
            "type": "mesh3d"
           }
          ],
          "parcoords": [
           {
            "line": {
             "colorbar": {
              "outlinewidth": 0,
              "ticks": ""
             }
            },
            "type": "parcoords"
           }
          ],
          "pie": [
           {
            "automargin": true,
            "type": "pie"
           }
          ],
          "scatter": [
           {
            "fillpattern": {
             "fillmode": "overlay",
             "size": 10,
             "solidity": 0.2
            },
            "type": "scatter"
           }
          ],
          "scatter3d": [
           {
            "line": {
             "colorbar": {
              "outlinewidth": 0,
              "ticks": ""
             }
            },
            "marker": {
             "colorbar": {
              "outlinewidth": 0,
              "ticks": ""
             }
            },
            "type": "scatter3d"
           }
          ],
          "scattercarpet": [
           {
            "marker": {
             "colorbar": {
              "outlinewidth": 0,
              "ticks": ""
             }
            },
            "type": "scattercarpet"
           }
          ],
          "scattergeo": [
           {
            "marker": {
             "colorbar": {
              "outlinewidth": 0,
              "ticks": ""
             }
            },
            "type": "scattergeo"
           }
          ],
          "scattergl": [
           {
            "marker": {
             "colorbar": {
              "outlinewidth": 0,
              "ticks": ""
             }
            },
            "type": "scattergl"
           }
          ],
          "scattermap": [
           {
            "marker": {
             "colorbar": {
              "outlinewidth": 0,
              "ticks": ""
             }
            },
            "type": "scattermap"
           }
          ],
          "scattermapbox": [
           {
            "marker": {
             "colorbar": {
              "outlinewidth": 0,
              "ticks": ""
             }
            },
            "type": "scattermapbox"
           }
          ],
          "scatterpolar": [
           {
            "marker": {
             "colorbar": {
              "outlinewidth": 0,
              "ticks": ""
             }
            },
            "type": "scatterpolar"
           }
          ],
          "scatterpolargl": [
           {
            "marker": {
             "colorbar": {
              "outlinewidth": 0,
              "ticks": ""
             }
            },
            "type": "scatterpolargl"
           }
          ],
          "scatterternary": [
           {
            "marker": {
             "colorbar": {
              "outlinewidth": 0,
              "ticks": ""
             }
            },
            "type": "scatterternary"
           }
          ],
          "surface": [
           {
            "colorbar": {
             "outlinewidth": 0,
             "ticks": ""
            },
            "colorscale": [
             [
              0,
              "#0d0887"
             ],
             [
              0.1111111111111111,
              "#46039f"
             ],
             [
              0.2222222222222222,
              "#7201a8"
             ],
             [
              0.3333333333333333,
              "#9c179e"
             ],
             [
              0.4444444444444444,
              "#bd3786"
             ],
             [
              0.5555555555555556,
              "#d8576b"
             ],
             [
              0.6666666666666666,
              "#ed7953"
             ],
             [
              0.7777777777777778,
              "#fb9f3a"
             ],
             [
              0.8888888888888888,
              "#fdca26"
             ],
             [
              1,
              "#f0f921"
             ]
            ],
            "type": "surface"
           }
          ],
          "table": [
           {
            "cells": {
             "fill": {
              "color": "#EBF0F8"
             },
             "line": {
              "color": "white"
             }
            },
            "header": {
             "fill": {
              "color": "#C8D4E3"
             },
             "line": {
              "color": "white"
             }
            },
            "type": "table"
           }
          ]
         },
         "layout": {
          "annotationdefaults": {
           "arrowcolor": "#2a3f5f",
           "arrowhead": 0,
           "arrowwidth": 1
          },
          "autotypenumbers": "strict",
          "coloraxis": {
           "colorbar": {
            "outlinewidth": 0,
            "ticks": ""
           }
          },
          "colorscale": {
           "diverging": [
            [
             0,
             "#8e0152"
            ],
            [
             0.1,
             "#c51b7d"
            ],
            [
             0.2,
             "#de77ae"
            ],
            [
             0.3,
             "#f1b6da"
            ],
            [
             0.4,
             "#fde0ef"
            ],
            [
             0.5,
             "#f7f7f7"
            ],
            [
             0.6,
             "#e6f5d0"
            ],
            [
             0.7,
             "#b8e186"
            ],
            [
             0.8,
             "#7fbc41"
            ],
            [
             0.9,
             "#4d9221"
            ],
            [
             1,
             "#276419"
            ]
           ],
           "sequential": [
            [
             0,
             "#0d0887"
            ],
            [
             0.1111111111111111,
             "#46039f"
            ],
            [
             0.2222222222222222,
             "#7201a8"
            ],
            [
             0.3333333333333333,
             "#9c179e"
            ],
            [
             0.4444444444444444,
             "#bd3786"
            ],
            [
             0.5555555555555556,
             "#d8576b"
            ],
            [
             0.6666666666666666,
             "#ed7953"
            ],
            [
             0.7777777777777778,
             "#fb9f3a"
            ],
            [
             0.8888888888888888,
             "#fdca26"
            ],
            [
             1,
             "#f0f921"
            ]
           ],
           "sequentialminus": [
            [
             0,
             "#0d0887"
            ],
            [
             0.1111111111111111,
             "#46039f"
            ],
            [
             0.2222222222222222,
             "#7201a8"
            ],
            [
             0.3333333333333333,
             "#9c179e"
            ],
            [
             0.4444444444444444,
             "#bd3786"
            ],
            [
             0.5555555555555556,
             "#d8576b"
            ],
            [
             0.6666666666666666,
             "#ed7953"
            ],
            [
             0.7777777777777778,
             "#fb9f3a"
            ],
            [
             0.8888888888888888,
             "#fdca26"
            ],
            [
             1,
             "#f0f921"
            ]
           ]
          },
          "colorway": [
           "#636efa",
           "#EF553B",
           "#00cc96",
           "#ab63fa",
           "#FFA15A",
           "#19d3f3",
           "#FF6692",
           "#B6E880",
           "#FF97FF",
           "#FECB52"
          ],
          "font": {
           "color": "#2a3f5f"
          },
          "geo": {
           "bgcolor": "white",
           "lakecolor": "white",
           "landcolor": "#E5ECF6",
           "showlakes": true,
           "showland": true,
           "subunitcolor": "white"
          },
          "hoverlabel": {
           "align": "left"
          },
          "hovermode": "closest",
          "mapbox": {
           "style": "light"
          },
          "paper_bgcolor": "white",
          "plot_bgcolor": "#E5ECF6",
          "polar": {
           "angularaxis": {
            "gridcolor": "white",
            "linecolor": "white",
            "ticks": ""
           },
           "bgcolor": "#E5ECF6",
           "radialaxis": {
            "gridcolor": "white",
            "linecolor": "white",
            "ticks": ""
           }
          },
          "scene": {
           "xaxis": {
            "backgroundcolor": "#E5ECF6",
            "gridcolor": "white",
            "gridwidth": 2,
            "linecolor": "white",
            "showbackground": true,
            "ticks": "",
            "zerolinecolor": "white"
           },
           "yaxis": {
            "backgroundcolor": "#E5ECF6",
            "gridcolor": "white",
            "gridwidth": 2,
            "linecolor": "white",
            "showbackground": true,
            "ticks": "",
            "zerolinecolor": "white"
           },
           "zaxis": {
            "backgroundcolor": "#E5ECF6",
            "gridcolor": "white",
            "gridwidth": 2,
            "linecolor": "white",
            "showbackground": true,
            "ticks": "",
            "zerolinecolor": "white"
           }
          },
          "shapedefaults": {
           "line": {
            "color": "#2a3f5f"
           }
          },
          "ternary": {
           "aaxis": {
            "gridcolor": "white",
            "linecolor": "white",
            "ticks": ""
           },
           "baxis": {
            "gridcolor": "white",
            "linecolor": "white",
            "ticks": ""
           },
           "bgcolor": "#E5ECF6",
           "caxis": {
            "gridcolor": "white",
            "linecolor": "white",
            "ticks": ""
           }
          },
          "title": {
           "x": 0.05
          },
          "xaxis": {
           "automargin": true,
           "gridcolor": "white",
           "linecolor": "white",
           "ticks": "",
           "title": {
            "standoff": 15
           },
           "zerolinecolor": "white",
           "zerolinewidth": 2
          },
          "yaxis": {
           "automargin": true,
           "gridcolor": "white",
           "linecolor": "white",
           "ticks": "",
           "title": {
            "standoff": 15
           },
           "zerolinecolor": "white",
           "zerolinewidth": 2
          }
         }
        },
        "title": {
         "text": "Features with |Correlation| > 0.1 to SalePrice"
        },
        "xaxis": {
         "anchor": "y",
         "domain": [
          0,
          1
         ],
         "title": {
          "text": "index"
         }
        },
        "yaxis": {
         "anchor": "x",
         "domain": [
          0,
          1
         ],
         "title": {
          "text": "y"
         }
        }
       }
      }
     },
     "metadata": {},
     "output_type": "display_data"
    }
   ],
   "source": [
    "strong_correlation = correlations[correlations.abs() > 0.10].sort_values(ascending=False)\n",
    "strong_correlation = strong_correlation.drop('SalePrice')\n",
    "\n",
    "fig = ptx.bar(\n",
    "    strong_correlation,\n",
    "    x=strong_correlation.index,\n",
    "    y=strong_correlation.values,\n",
    "    text=strong_correlation.values.round(3),\n",
    "    title=f\"Features with |Correlation| > {0.10} to SalePrice\"\n",
    ")\n",
    "fig.update_traces(textposition='outside')\n",
    "fig.show()"
   ]
  },
  {
   "cell_type": "code",
   "execution_count": 47,
   "id": "ee247002",
   "metadata": {},
   "outputs": [
    {
     "data": {
      "application/vnd.plotly.v1+json": {
       "config": {
        "plotlyServerURL": "https://plot.ly"
       },
       "data": [
        {
         "contours": {
          "coloring": "fill",
          "showlabels": true
         },
         "hovertemplate": "LotArea=%{x}<br>SalePrice=%{y}<br>count=%{z}<extra></extra>",
         "legendgroup": "",
         "line": {
          "color": "#636efa"
         },
         "name": "",
         "showlegend": false,
         "type": "histogram2dcontour",
         "x": {
          "bdata": "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",
          "dtype": "i4"
         },
         "xaxis": "x",
         "xbingroup": "x",
         "y": {
          "bdata": "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",
          "dtype": "i4"
         },
         "yaxis": "y",
         "ybingroup": "y"
        }
       ],
       "layout": {
        "legend": {
         "tracegroupgap": 0
        },
        "margin": {
         "t": 60
        },
        "template": {
         "data": {
          "bar": [
           {
            "error_x": {
             "color": "#2a3f5f"
            },
            "error_y": {
             "color": "#2a3f5f"
            },
            "marker": {
             "line": {
              "color": "white",
              "width": 0.5
             },
             "pattern": {
              "fillmode": "overlay",
              "size": 10,
              "solidity": 0.2
             }
            },
            "type": "bar"
           }
          ],
          "barpolar": [
           {
            "marker": {
             "line": {
              "color": "white",
              "width": 0.5
             },
             "pattern": {
              "fillmode": "overlay",
              "size": 10,
              "solidity": 0.2
             }
            },
            "type": "barpolar"
           }
          ],
          "carpet": [
           {
            "aaxis": {
             "endlinecolor": "#2a3f5f",
             "gridcolor": "#C8D4E3",
             "linecolor": "#C8D4E3",
             "minorgridcolor": "#C8D4E3",
             "startlinecolor": "#2a3f5f"
            },
            "baxis": {
             "endlinecolor": "#2a3f5f",
             "gridcolor": "#C8D4E3",
             "linecolor": "#C8D4E3",
             "minorgridcolor": "#C8D4E3",
             "startlinecolor": "#2a3f5f"
            },
            "type": "carpet"
           }
          ],
          "choropleth": [
           {
            "colorbar": {
             "outlinewidth": 0,
             "ticks": ""
            },
            "type": "choropleth"
           }
          ],
          "contour": [
           {
            "colorbar": {
             "outlinewidth": 0,
             "ticks": ""
            },
            "colorscale": [
             [
              0,
              "#0d0887"
             ],
             [
              0.1111111111111111,
              "#46039f"
             ],
             [
              0.2222222222222222,
              "#7201a8"
             ],
             [
              0.3333333333333333,
              "#9c179e"
             ],
             [
              0.4444444444444444,
              "#bd3786"
             ],
             [
              0.5555555555555556,
              "#d8576b"
             ],
             [
              0.6666666666666666,
              "#ed7953"
             ],
             [
              0.7777777777777778,
              "#fb9f3a"
             ],
             [
              0.8888888888888888,
              "#fdca26"
             ],
             [
              1,
              "#f0f921"
             ]
            ],
            "type": "contour"
           }
          ],
          "contourcarpet": [
           {
            "colorbar": {
             "outlinewidth": 0,
             "ticks": ""
            },
            "type": "contourcarpet"
           }
          ],
          "heatmap": [
           {
            "colorbar": {
             "outlinewidth": 0,
             "ticks": ""
            },
            "colorscale": [
             [
              0,
              "#0d0887"
             ],
             [
              0.1111111111111111,
              "#46039f"
             ],
             [
              0.2222222222222222,
              "#7201a8"
             ],
             [
              0.3333333333333333,
              "#9c179e"
             ],
             [
              0.4444444444444444,
              "#bd3786"
             ],
             [
              0.5555555555555556,
              "#d8576b"
             ],
             [
              0.6666666666666666,
              "#ed7953"
             ],
             [
              0.7777777777777778,
              "#fb9f3a"
             ],
             [
              0.8888888888888888,
              "#fdca26"
             ],
             [
              1,
              "#f0f921"
             ]
            ],
            "type": "heatmap"
           }
          ],
          "histogram": [
           {
            "marker": {
             "pattern": {
              "fillmode": "overlay",
              "size": 10,
              "solidity": 0.2
             }
            },
            "type": "histogram"
           }
          ],
          "histogram2d": [
           {
            "colorbar": {
             "outlinewidth": 0,
             "ticks": ""
            },
            "colorscale": [
             [
              0,
              "#0d0887"
             ],
             [
              0.1111111111111111,
              "#46039f"
             ],
             [
              0.2222222222222222,
              "#7201a8"
             ],
             [
              0.3333333333333333,
              "#9c179e"
             ],
             [
              0.4444444444444444,
              "#bd3786"
             ],
             [
              0.5555555555555556,
              "#d8576b"
             ],
             [
              0.6666666666666666,
              "#ed7953"
             ],
             [
              0.7777777777777778,
              "#fb9f3a"
             ],
             [
              0.8888888888888888,
              "#fdca26"
             ],
             [
              1,
              "#f0f921"
             ]
            ],
            "type": "histogram2d"
           }
          ],
          "histogram2dcontour": [
           {
            "colorbar": {
             "outlinewidth": 0,
             "ticks": ""
            },
            "colorscale": [
             [
              0,
              "#0d0887"
             ],
             [
              0.1111111111111111,
              "#46039f"
             ],
             [
              0.2222222222222222,
              "#7201a8"
             ],
             [
              0.3333333333333333,
              "#9c179e"
             ],
             [
              0.4444444444444444,
              "#bd3786"
             ],
             [
              0.5555555555555556,
              "#d8576b"
             ],
             [
              0.6666666666666666,
              "#ed7953"
             ],
             [
              0.7777777777777778,
              "#fb9f3a"
             ],
             [
              0.8888888888888888,
              "#fdca26"
             ],
             [
              1,
              "#f0f921"
             ]
            ],
            "type": "histogram2dcontour"
           }
          ],
          "mesh3d": [
           {
            "colorbar": {
             "outlinewidth": 0,
             "ticks": ""
            },
            "type": "mesh3d"
           }
          ],
          "parcoords": [
           {
            "line": {
             "colorbar": {
              "outlinewidth": 0,
              "ticks": ""
             }
            },
            "type": "parcoords"
           }
          ],
          "pie": [
           {
            "automargin": true,
            "type": "pie"
           }
          ],
          "scatter": [
           {
            "fillpattern": {
             "fillmode": "overlay",
             "size": 10,
             "solidity": 0.2
            },
            "type": "scatter"
           }
          ],
          "scatter3d": [
           {
            "line": {
             "colorbar": {
              "outlinewidth": 0,
              "ticks": ""
             }
            },
            "marker": {
             "colorbar": {
              "outlinewidth": 0,
              "ticks": ""
             }
            },
            "type": "scatter3d"
           }
          ],
          "scattercarpet": [
           {
            "marker": {
             "colorbar": {
              "outlinewidth": 0,
              "ticks": ""
             }
            },
            "type": "scattercarpet"
           }
          ],
          "scattergeo": [
           {
            "marker": {
             "colorbar": {
              "outlinewidth": 0,
              "ticks": ""
             }
            },
            "type": "scattergeo"
           }
          ],
          "scattergl": [
           {
            "marker": {
             "colorbar": {
              "outlinewidth": 0,
              "ticks": ""
             }
            },
            "type": "scattergl"
           }
          ],
          "scattermap": [
           {
            "marker": {
             "colorbar": {
              "outlinewidth": 0,
              "ticks": ""
             }
            },
            "type": "scattermap"
           }
          ],
          "scattermapbox": [
           {
            "marker": {
             "colorbar": {
              "outlinewidth": 0,
              "ticks": ""
             }
            },
            "type": "scattermapbox"
           }
          ],
          "scatterpolar": [
           {
            "marker": {
             "colorbar": {
              "outlinewidth": 0,
              "ticks": ""
             }
            },
            "type": "scatterpolar"
           }
          ],
          "scatterpolargl": [
           {
            "marker": {
             "colorbar": {
              "outlinewidth": 0,
              "ticks": ""
             }
            },
            "type": "scatterpolargl"
           }
          ],
          "scatterternary": [
           {
            "marker": {
             "colorbar": {
              "outlinewidth": 0,
              "ticks": ""
             }
            },
            "type": "scatterternary"
           }
          ],
          "surface": [
           {
            "colorbar": {
             "outlinewidth": 0,
             "ticks": ""
            },
            "colorscale": [
             [
              0,
              "#0d0887"
             ],
             [
              0.1111111111111111,
              "#46039f"
             ],
             [
              0.2222222222222222,
              "#7201a8"
             ],
             [
              0.3333333333333333,
              "#9c179e"
             ],
             [
              0.4444444444444444,
              "#bd3786"
             ],
             [
              0.5555555555555556,
              "#d8576b"
             ],
             [
              0.6666666666666666,
              "#ed7953"
             ],
             [
              0.7777777777777778,
              "#fb9f3a"
             ],
             [
              0.8888888888888888,
              "#fdca26"
             ],
             [
              1,
              "#f0f921"
             ]
            ],
            "type": "surface"
           }
          ],
          "table": [
           {
            "cells": {
             "fill": {
              "color": "#EBF0F8"
             },
             "line": {
              "color": "white"
             }
            },
            "header": {
             "fill": {
              "color": "#C8D4E3"
             },
             "line": {
              "color": "white"
             }
            },
            "type": "table"
           }
          ]
         },
         "layout": {
          "annotationdefaults": {
           "arrowcolor": "#2a3f5f",
           "arrowhead": 0,
           "arrowwidth": 1
          },
          "autotypenumbers": "strict",
          "coloraxis": {
           "colorbar": {
            "outlinewidth": 0,
            "ticks": ""
           }
          },
          "colorscale": {
           "diverging": [
            [
             0,
             "#8e0152"
            ],
            [
             0.1,
             "#c51b7d"
            ],
            [
             0.2,
             "#de77ae"
            ],
            [
             0.3,
             "#f1b6da"
            ],
            [
             0.4,
             "#fde0ef"
            ],
            [
             0.5,
             "#f7f7f7"
            ],
            [
             0.6,
             "#e6f5d0"
            ],
            [
             0.7,
             "#b8e186"
            ],
            [
             0.8,
             "#7fbc41"
            ],
            [
             0.9,
             "#4d9221"
            ],
            [
             1,
             "#276419"
            ]
           ],
           "sequential": [
            [
             0,
             "#0d0887"
            ],
            [
             0.1111111111111111,
             "#46039f"
            ],
            [
             0.2222222222222222,
             "#7201a8"
            ],
            [
             0.3333333333333333,
             "#9c179e"
            ],
            [
             0.4444444444444444,
             "#bd3786"
            ],
            [
             0.5555555555555556,
             "#d8576b"
            ],
            [
             0.6666666666666666,
             "#ed7953"
            ],
            [
             0.7777777777777778,
             "#fb9f3a"
            ],
            [
             0.8888888888888888,
             "#fdca26"
            ],
            [
             1,
             "#f0f921"
            ]
           ],
           "sequentialminus": [
            [
             0,
             "#0d0887"
            ],
            [
             0.1111111111111111,
             "#46039f"
            ],
            [
             0.2222222222222222,
             "#7201a8"
            ],
            [
             0.3333333333333333,
             "#9c179e"
            ],
            [
             0.4444444444444444,
             "#bd3786"
            ],
            [
             0.5555555555555556,
             "#d8576b"
            ],
            [
             0.6666666666666666,
             "#ed7953"
            ],
            [
             0.7777777777777778,
             "#fb9f3a"
            ],
            [
             0.8888888888888888,
             "#fdca26"
            ],
            [
             1,
             "#f0f921"
            ]
           ]
          },
          "colorway": [
           "#636efa",
           "#EF553B",
           "#00cc96",
           "#ab63fa",
           "#FFA15A",
           "#19d3f3",
           "#FF6692",
           "#B6E880",
           "#FF97FF",
           "#FECB52"
          ],
          "font": {
           "color": "#2a3f5f"
          },
          "geo": {
           "bgcolor": "white",
           "lakecolor": "white",
           "landcolor": "white",
           "showlakes": true,
           "showland": true,
           "subunitcolor": "#C8D4E3"
          },
          "hoverlabel": {
           "align": "left"
          },
          "hovermode": "closest",
          "mapbox": {
           "style": "light"
          },
          "paper_bgcolor": "white",
          "plot_bgcolor": "white",
          "polar": {
           "angularaxis": {
            "gridcolor": "#EBF0F8",
            "linecolor": "#EBF0F8",
            "ticks": ""
           },
           "bgcolor": "white",
           "radialaxis": {
            "gridcolor": "#EBF0F8",
            "linecolor": "#EBF0F8",
            "ticks": ""
           }
          },
          "scene": {
           "xaxis": {
            "backgroundcolor": "white",
            "gridcolor": "#DFE8F3",
            "gridwidth": 2,
            "linecolor": "#EBF0F8",
            "showbackground": true,
            "ticks": "",
            "zerolinecolor": "#EBF0F8"
           },
           "yaxis": {
            "backgroundcolor": "white",
            "gridcolor": "#DFE8F3",
            "gridwidth": 2,
            "linecolor": "#EBF0F8",
            "showbackground": true,
            "ticks": "",
            "zerolinecolor": "#EBF0F8"
           },
           "zaxis": {
            "backgroundcolor": "white",
            "gridcolor": "#DFE8F3",
            "gridwidth": 2,
            "linecolor": "#EBF0F8",
            "showbackground": true,
            "ticks": "",
            "zerolinecolor": "#EBF0F8"
           }
          },
          "shapedefaults": {
           "line": {
            "color": "#2a3f5f"
           }
          },
          "ternary": {
           "aaxis": {
            "gridcolor": "#DFE8F3",
            "linecolor": "#A2B1C6",
            "ticks": ""
           },
           "baxis": {
            "gridcolor": "#DFE8F3",
            "linecolor": "#A2B1C6",
            "ticks": ""
           },
           "bgcolor": "white",
           "caxis": {
            "gridcolor": "#DFE8F3",
            "linecolor": "#A2B1C6",
            "ticks": ""
           }
          },
          "title": {
           "x": 0.05
          },
          "xaxis": {
           "automargin": true,
           "gridcolor": "#EBF0F8",
           "linecolor": "#EBF0F8",
           "ticks": "",
           "title": {
            "standoff": 15
           },
           "zerolinecolor": "#EBF0F8",
           "zerolinewidth": 2
          },
          "yaxis": {
           "automargin": true,
           "gridcolor": "#EBF0F8",
           "linecolor": "#EBF0F8",
           "ticks": "",
           "title": {
            "standoff": 15
           },
           "zerolinecolor": "#EBF0F8",
           "zerolinewidth": 2
          }
         }
        },
        "xaxis": {
         "anchor": "y",
         "domain": [
          0,
          1
         ],
         "title": {
          "text": "LotArea"
         }
        },
        "yaxis": {
         "anchor": "x",
         "domain": [
          0,
          1
         ],
         "title": {
          "text": "SalePrice"
         }
        }
       }
      }
     },
     "metadata": {},
     "output_type": "display_data"
    }
   ],
   "source": [
    "fig = ptx.density_contour(df,x=\"LotArea\",y=\"SalePrice\")\n",
    "fig.update_traces(contours_coloring=\"fill\", contours_showlabels=True)\n",
    "fig.update_layout(template=\"plotly_white\")\n",
    "fig.show()\n"
   ]
  },
  {
   "cell_type": "code",
   "execution_count": 48,
   "id": "29d004f9",
   "metadata": {},
   "outputs": [
    {
     "data": {
      "application/vnd.plotly.v1+json": {
       "config": {
        "plotlyServerURL": "https://plot.ly"
       },
       "data": [
        {
         "diagonal": {
          "visible": false
         },
         "dimensions": [
          {
           "axis": {
            "matches": true
           },
           "label": "SalePrice",
           "values": {
            "bdata": "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",
            "dtype": "i4"
           }
          },
          {
           "axis": {
            "matches": true
           },
           "label": "LotFrontage",
           "values": {
            "bdata": "AAAAAACAUUAAAAAAAIBNQAAAAAAAwFBAAAAAAAAATkAAAAAAAABJQAAAAAAAgFFAAAAAAACAXkAAAAAAAABEQAAAAAAAgFNAAAAAAAAAU0AAAAAAAIBRQAAAAAAAQFVAAAAAAACAVEAAAAAAAEBVQAAAAAAAAFRAAAAAAAAAVEBVVVVVVXVRQAAAAAAAgEhAAAAAAADAUkAAAAAAAIBHQAAAAAAAgEtAAAAAAADAVkAAAAAAAABKQAAAAAAAQFBAAAAAAADAUEAAAAAAAIBBQAAAAAAAAFlAI0aMGDGCU0AAAAAAAMBTQMdxHMdxrFJAAAAAAAAATkAAAAAAAMBQQAAAAAAAwFNAx3Ecx3GsUkDHcRzHcaxSQAAAAAAAAE5AAAAAAAAAYEAAAAAAAMBRQAAAAAAAAFBAx3Ecx3GsUkAAAAAAAABOQAAAAAAAgFNAAAAAAAAAQUAAAAAAAABUQAAAAAAAgEpAAAAAAACAQEAAAAAAAABOQAAAAAAAwFdAAAAAAAAAVEAAAAAAAABOQNhQXkN5jU1AAAAAAAAAVEAAAAAAAABNQAAAAAAAQFVAAAAAAAAAUkAAAAAAAABOQM7H4HwMTlRAx3Ecx3GsUkAAAAAAAMBSQAAAAAAAQFpAAAAAAAAARkB2Yid2YqdRQAAAAAAAAFBAI0aMGDGCU0AAAAAAAEBRQAAAAAAAAEtA55xzzjlHUEAAAAAAAMBWQM7H4HwMTlRAAAAAAADAUkAAAAAAABxSQNmJndiJPVZAAAAAAADAUUAAAAAAAIBFQAAAAAAAgFNAAAAAAAAATkAjRowYMYJTQAAAAAAAwFJAAAAAAACAUUAAAAAAAABUQAAAAAAAAE5AAAAAAACAUkDOx+B8DE5UQAAAAAAAQFBAAAAAAAAAVEAAAAAAAEBaQAAAAAAAADVAzsfgfAxOVEAAAAAAAMBRQMs9jbDck1FAAAAAAACAUUAjRowYMYJTQAAAAAAAwFJAAAAAAAAAVEAAAAAAAABQQAAAAAAAgFZAAAAAAACAWUAAAAAAAEBTQAAAAAAAAElAAAAAAAAAWUDNzMzMzMw9QAAAAAAAgFZAAAAAAAAATkAAAAAAAMBQQAAAAAAAAEpAAAAAAAAASUAAAAAAAEBaQF100UUXjU9AAAAAAACASUAAAAAAAABKQAAAAAAAgEtAAAAAAADAUkAAAAAAAABUQAAAAAAAgFFAAAAAAAAATkAAAAAAAABZQAAAAAAAgFZAAAAAAAAAQUAAAAAAAMBaQAAAAAAAgFFAAAAAAAAASUAAAAAAAABTQAAAAAAAgFFAAAAAAACASEAAAAAAAABeQAAAAAAAAFhAAAAAAABAVkAAAAAAAIBRQAAAAAAAAFRAAAAAAAAAPkAAAAAAAABBQAAAAAAAgFZAAAAAAADAWUAAAAAAAIBLQAAAAAAAAEZAAAAAAAAAU0AAAAAAAABPQAAAAAAAwFJAAAAAAAAATkAAAAAAAEBRQMdxHMdxrFJAAAAAAACAUUAAAAAAAIBIQAAAAAAAQFBAAAAAAADAUEAAAAAAAABaQAAAAAAAAFRAAAAAAACAQUAAAAAAAABSQAAAAAAAAFVAAAAAAACARUAAAAAAAIBUQAAAAAAAgFFAAAAAAABAVUAAAAAAAABUQAAAAAAAAFlAI0aMGDGCU0AAAAAAAEBQQAAAAAAAAElAAAAAAAAATkAAAAAAAIBZQJIkSZIkiVRAAAAAAAAATkAAAAAAAABRQAAAAAAAQFNAAAAAAAAcUkAAAAAAAMBSQAAAAAAAAE5AI0aMGDGCU0AAAAAAAABEQAAAAAAAgEtAAAAAAACAU0DHcRzHcaxSQAAAAAAAAGRAAAAAAAAAV0AAAAAAAIBFQAAAAAAAAFFAAAAAAACAXkAAAAAAAEBUQAAAAAAAAE5AAAAAAAAAVkAAAAAAAIBNQAAAAAAAAFRAAAAAAACAVkAAAAAAAMBSQAAAAAAAwFxAAAAAAAAASUAAAAAAAABHQAAAAAAAAEJAAAAAAAAASUAAAAAAAABUQAAAAAAAgFFAAAAAAABAUkAAAAAAAMBTQAAAAAAAQFNAMzMzMzNDUUAAAAAAAABOQAAAAAAAQFNAAAAAAACAQ0AAAAAAAIBWQAAAAAAAwFJAAAAAAABAVUAAAAAAAABUQAAAAAAAAFRAAAAAAAAAU0AAAAAAAABOQAAAAAAAAExAAAAAAAAASEAAAAAAAIBPQCNGjBgxglNAyz2NsNyTUUAAAAAAAIBRQAAAAAAAAFRAAAAAAAAAVEAAAAAAAEBVQAAAAAAAAE5AAAAAAAAAVUAAAAAAAIBRQAAAAAAAQFBAAAAAAABAWkAAAAAAAIBRQAAAAAAAwFVAAAAAAAAASUAAAAAAAABJQAAAAAAAgFpAI0aMGDGCU0AAAAAAAABeQAAAAAAAAE5AAAAAAACAUkAAAAAAAABCQAAAAAAAAE1AAAAAAAAASkDOx+B8DE5UQAAAAAAAAFRAXXTRRReNT0AAAAAAAEBQQAAAAAAAgE1AAAAAAAAcUkAAAAAAAIBVQAAAAAAAAFRAAAAAAAAcUkC4fMu3fMtMQAAAAAAAgFZAAAAAAACAVkDLPY2w3JNRQMdxHMdxrFJAAAAAAACgYUAAAAAAAABeQAAAAAAAAE5AAAAAAAAAVEAAAAAAAEBQQAAAAAAAQFJAAAAAAABAVUAAAAAAAABJQAAAAAAAQFBAAAAAAABAUEDOx+B8DE5UQAAAAAAAwFJAAAAAAADAWUAAAAAAAABJQAAAAAAAQFVAAAAAAAAASUAAAAAAAABUQAAAAAAAQFVAAAAAAACAUUAAAAAAAABYQAAAAAAAgFlAAAAAAAAASUAAAAAAAAA4QAAAAAAAAFlAAAAAAADAVUAAAAAAAABOQAAAAAAAAFtAAAAAAADAU0AAAAAAAMBYQAAAAAAAQFVAAAAAAAAAUEAAAAAAAMBRQAAAAAAAgFNAAAAAAABAUEAAAAAAAIBTQAAAAAAAgE9AI0aMGDGCU0DHcRzHcaxSQAAAAAAAAFJAVVVVVVV1UUAAAAAAAIBVQAAAAAAAQFVAAAAAAADAU0AAAAAAAMBTQAAAAAAAAExAAAAAAACATEAAAAAAAABOQAAAAAAAAEpAzsfgfAxOVEAAAAAAAMBSQAAAAAAAAFFAAAAAAAAAUkAAAAAAAMBQQDMzMzMzQ1FAyz2NsNyTUUAAAAAAAABOQAAAAAAAAE5AAAAAAAAANUAAAAAAAIBcQAAAAAAAwFBAAAAAAACAT0DZiZ3YiT1WQCNGjBgxglNAAAAAAAAAUEAAAAAAAEBUQAAAAAAAAEVAAAAAAADAVEBddNFFF41PQM7H4HwMTlRAAAAAAACATEDOx+B8DE5UQAAAAAAAgFFAAAAAAABAXkAAAAAAAABOQAAAAAAAAE5AAAAAAACASUAAAAAAAABBQAAAAAAAQFVAx3Ecx3GsUkAAAAAAAABPQAAAAAAAgFNAAAAAAAAAVEAAAAAAAABJQAAAAAAAAFBAAAAAAADAUUAAAAAAAABRQAAAAAAAwFJAAAAAAAAASUDHcRzHcaxSQAAAAAAAHFJAAAAAAAAAVEAAAAAAAABSQAAAAAAAgFFAAAAAAACAWEAAAAAAAABaQAAAAAAAQFRAAAAAAACASUAAAAAAAIBRQAAAAAAAwFBAAAAAAAAAVEAAAAAAAABiQAAAAAAAAFBAAAAAAACAW0AAAAAAAIBVQAAAAAAAwFRAAAAAAAAAVUAAAAAAAABOQAAAAAAAAExAAAAAAAAAWUC4fMu3fMtMQAAAAAAAgEVAkiRJkiSJVEB2Yid2YqdRQAAAAAAAAEVAAAAAAACAUkAAAAAAAIBRQAAAAAAAAFFAAAAAAACATkDHcRzHcaxSQAAAAAAAQGBAAAAAAAAASUAAAAAAAEBVQAAAAAAAwFJAx3Ecx3GsUkAAAAAAAABJQAAAAAAAAD5AVFVVVVUVR0AAAAAAAEBQQFVVVVVVdVFAAAAAAAAAVEDHcRzHcaxSQAAAAAAAgE9AAAAAAAAAVEAjRowYMYJTQAAAAAAAAFBAAAAAAAAATkAAAAAAAIBUQAAAAAAAgFNAAAAAAACASkAAAAAAAABPQAAAAAAAAElAAAAAAAAATkAAAAAAAMBUQAAAAAAAwFJAdmIndmKnUUAAAAAAAABCQAAAAAAAAElAAAAAAAAcUkAAAAAAAIBbQM7H4HwMTlRAAAAAAACAWEAAAAAAAIBKQAAAAAAAAFZAAAAAAABAVkAAAAAAAIBPQAAAAAAAgFRAAAAAAABAV0AAAAAAAABZQAAAAAAAAD5AAAAAAADAUkDZiZ3YiT1WQJIkSZIkiVRAAAAAAACAWEAAAAAAAABPQAAAAAAAAFJAZCELWcjCTkAAAAAAACBhQAAAAAAAAERAAAAAAACATUAAAAAAAEBSQAAAAAAAgFVAAAAAAAAAVEAAAAAAAEBQQAAAAAAAAFBAAAAAAAAANUAAAAAAAAA1QAAAAAAAAFtAAAAAAADAUkAAAAAAAMBSQAAAAAAAgF1AAAAAAACAUUAAAAAAAAA4QAAAAAAAQFdAAAAAAAAANUAAAAAAAABJQAAAAAAAAE5AAAAAAAAAVEAAAAAAAIBSQAAAAAAAQFNAAAAAAACAW0CSJEmSJIlUQAAAAAAAAFRAAAAAAAAAWUAAAAAAAEBRQAAAAAAAQFFAAAAAAADAU0AAAAAAAIBRQAAAAAAAAE1AAAAAAAAASUAAAAAAAEBSQAAAAAAAAE5AAAAAAAAAWUAAAAAAAEBSQAAAAAAAAFRAzsfgfAxOVEAAAAAAAABJQAAAAAAAAFRAAAAAAAAAV0AAAAAAAIBTQJIkSZIkiVRAAAAAAAAATkAAAAAAAABOQAAAAAAAQFJAAAAAAABAUkAAAAAAAABEQAAAAAAAQFVAAAAAAACAT0AAAAAAAEBUQCNGjBgxglNAAAAAAAAAVECSJEmSJIlUQAAAAAAAAFRAbtu2bdv2U0BkIQtZyMJOQAAAAAAAgE5AAAAAAAAARUAAAAAAAABRQAAAAAAAwFdAAAAAAAAARkAAAAAAAABOQAAAAAAAAFRAAAAAAABAV0AAAAAAAIBRQAAAAAAAADhAI0aMGDGCU0AAAAAAAMBTQAAAAAAAgFZAAAAAAAAATkAAAAAAAIBLQAAAAAAAgFFAAAAAAAAASUAAAAAAAABJQAAAAAAAQFBAAAAAAACAUEAAAAAAABxSQAAAAAAAAFhAAAAAAAAASUAAAAAAAABeQAAAAAAAAE5AAAAAAACQc0AjRowYMYJTQAAAAAAAwFJAAAAAAAAATkDOx+B8DE5UQAAAAAAAgFFAAAAAAADAUkAAAAAAAABSQAAAAAAAQFBAAAAAAAAASUAAAAAAAEBSQAAAAAAAHFJAx3Ecx3GsUkAAAAAAAABOQAAAAAAAgExAAAAAAAAAUEAAAAAAAABKQAAAAAAAAFRAzsfgfAxOVEAAAAAAAIBWQM7H4HwMTlRAAAAAAAAAUkAAAAAAAEBQQAAAAAAAAE5AAAAAAAAARkDLPY2w3JNRQAAAAAAAAFFAAAAAAAAATkAAAAAAAIBPQAAAAAAAgExAAAAAAABAVUAAAAAAAABUQAAAAAAAAE5AAAAAAAAASUAAAAAAAMBSQAAAAAAAAFRAAAAAAADAUUAAAAAAAABPQAAAAAAAAGVAAAAAAAAAVEAAAAAAAAA4QAAAAAAAAE5AAAAAAABAWkAAAAAAAABOQAAAAAAAgF1AAAAAAACAVEAAAAAAAIBSQAAAAAAAgFFAAAAAAABAUEAAAAAAAMBSQAAAAAAAAFJAAAAAAAAATkAAAAAAAIBPQAAAAAAAgEZAAAAAAAAAVEAAAAAAAABUQAAAAAAAAEtAAAAAAAAAVEAAAAAAAABNQAAAAAAAAFJAbtu2bdv2U0AAAAAAAEBQQAAAAAAAAE5AAAAAAABAW0AAAAAAAIBFQAAAAAAAwFJAAAAAAACATEAAAAAAAAA4QAAAAAAAgE1AI0aMGDGCU0AAAAAAAABNQAAAAAAAQFBAyz2NsNyTUUCSJEmSJIlUQAAAAAAAQFJAAAAAAAAAVEDLPY2w3JNRQAAAAAAAQFZAAAAAAAAASUAAAAAAAABfQAAAAAAAQFJAAAAAAACgYkAAAAAAAABGQAAAAAAAgFFAAAAAAAAATkAAAAAAAJBzQAAAAAAAQFVAAAAAAABAUEAAAAAAAABOQAAAAAAAAE5AAAAAAAAATkAAAAAAAABLQAAAAAAAwFJAAAAAAADAYEAAAAAAAABOQAAAAAAAgE1AAAAAAAAARkAAAAAAAEBUQAAAAAAAwFpAAAAAAAAAVEAAAAAAAIBWQAAAAAAAAFFAAAAAAAAAQEAAAAAAAEBUQAAAAAAAAFRAAAAAAACAUUAAAAAAAABJQAAAAAAAAEZAzsfgfAxOVEAAAAAAAABOQAAAAAAAIGBAAAAAAADAVkDOx+B8DE5UQAAAAAAAAERAAAAAAACAR0DOx+B8DE5UQAAAAAAAADhAAAAAAABAV0AAAAAAAIBRQAAAAAAAAERAbtu2bdv2U0AAAAAAAIBVQAAAAAAAgFFAAAAAAAAAVEAAAAAAABxSQAAAAAAAAFBAAAAAAAAASUAAAAAAAIBJQAAAAAAAwFNAAAAAAABAVUAAAAAAAAA1QAAAAAAAgFJAAAAAAACAS0AAAAAAAABOQAAAAAAAgFRAAAAAAAAAVEAAAAAAAMBSQAAAAAAAHFJAAAAAAADAV0AAAAAAAMBSQAAAAAAAAElAAAAAAABAVUDZiZ3YiT1WQAAAAAAAgFZAAAAAAADAXEAAAAAAAABFQAAAAAAAQFVAAAAAAAAAUUAAAAAAAMBTQAAAAAAAQFVAI0aMGDGCU0AAAAAAAIBIQAAAAAAAAEBAAAAAAACAWEAAAAAAAABOQMdxHMdxrFJAAAAAAAAAOEAAAAAAAABOQAAAAAAAgEdAAAAAAABAUEAAAAAAAIBRQCNGjBgxglNAAAAAAAAATkAAAAAAAABCQAAAAAAAAElAAAAAAAAATkDHcRzHcaxSQAAAAAAAAFRAAAAAAAAAVEAAAAAAAIBPQAAAAAAAAD5AAAAAAAAANUAAAAAAAAA+QAAAAAAAADVAAAAAAACAUUAAAAAAAABRQM7H4HwMTlRAAAAAAABAWEAAAAAAAIBQQM7H4HwMTlRAAAAAAAAANUAAAAAAAABOQAAAAAAAUE1AAAAAAAAcUkAAAAAAAEBRQAAAAAAAAE5AAAAAAAAAUkAAAAAAAABXQAAAAAAAgEJAAAAAAACAUkAAAAAAAABOQAAAAAAAgFZAAAAAAADAWkAAAAAAAIBNQAAAAAAAgElAAAAAAACAU0AAAAAAAABJQAAAAAAAAFxAAAAAAAAATkAAAAAAAABUQAAAAAAAAF5AAAAAAAAASUAAAAAAAIBOQAAAAAAAgEFAAAAAAAAAS0BVVVVVVXVRQAAAAAAAAE5AAAAAAAAATkAjRowYMYJTQAAAAAAAwFVAAAAAAAAAQUAAAAAAAABUQLh8y7d8y0xAAAAAAAAAOEAAAAAAAIBRQAAAAAAAAE5AAAAAAABAVUAAAAAAAEBQQDMzMzMzQ1FA55xzzjlHUEAAAAAAAABOQAAAAAAAAFFAzsfgfAxOVEAAAAAAAAA1QAAAAAAAgFxAAAAAAAAAOEAAAAAAAMBSQAAAAAAAAFRAAAAAAACATkAAAAAAAIBVQAAAAAAAAElAAAAAAADAUkAAAAAAAMBQQAAAAAAAAFZAAAAAAACAUUAAAAAAAABOQAAAAAAAwFJAAAAAAACAVkAAAAAAAABWQAAAAAAAAFRAAAAAAABAUEAAAAAAAEBVQAAAAAAAAE5AAAAAAAAASUAAAAAAABxSQAAAAAAAQFBAAAAAAACAREAAAAAAAIBOQFRVVVVVFUdAAAAAAADAYEAAAAAAAMBRQAAAAAAAAE5AAAAAAAAAUUBu27Zt2/ZTQAAAAAAAAFRAAAAAAAAANUAAAAAAAIBXQAAAAAAAgFFAAAAAAACAUUAAAAAAAABOQAAAAAAAAE5AAAAAAACAUkAAAAAAAIBWQAAAAAAAwFJAAAAAAAAAVEAAAAAAAIBTQAAAAAAAQFVAAAAAAAAATkAAAAAAAIBbQAAAAAAAgExAAAAAAAAcUkAAAAAAAIBBQAAAAAAAwFJAAAAAAACAVkAAAAAAAABOQAAAAAAAgEVAAAAAAAAASUAjRowYMYJTQJIkSZIkiVRAAAAAAAAATkAAAAAAAABRQJIkSZIkiVRAI0aMGDGCU0AAAAAAAABTQAAAAAAAQFBAAAAAAACAUUBUVVVVVRVHQAAAAAAAAERAAAAAAACAUUAAAAAAAABUQAAAAAAAAFdAAAAAAACARUDHcRzHcaxSQAAAAAAAAE5AAAAAAAAAVEAAAAAAAEBQQAAAAAAAAFJAAAAAAAAATkAjRowYMYJTQAAAAAAAwFFAAAAAAAAANUAAAAAAAABKQAAAAAAAAFRAAAAAAADAUEAAAAAAAABIQJIkSZIkiVRAAAAAAABAXkAAAAAAAIBXQAAAAAAAgFFAAAAAAAAAVUDOx+B8DE5UQFVVVVVVdVFAAAAAAAAASUAAAAAAAIBJQAAAAAAAADhAAAAAAACASkAAAAAAAMBSQCNGjBgxglNAAAAAAAAANUAAAAAAAABAQAAAAAAAwFVAAAAAAAAAY0AAAAAAAMBiQLh8y7d8y0xAAAAAAACAUUAAAAAAAABUQAAAAAAAAE5AVVVVVVV1UUAAAAAAAABZQAAAAAAAQFdAAAAAAABQTUAAAAAAAABCQAAAAAAAAE5AAAAAAABAUEAAAAAAAABEQAAAAAAAwFtAAAAAAACAUUAAAAAAAABNQAAAAAAAAFtAAAAAAACAT0AAAAAAAEBQQHZiJ3Zip1FAAAAAAACAT0AAAAAAAIBRQCNGjBgxglNAAAAAAAAAOEAAAAAAAEBVQAAAAAAAAFRAAAAAAADAZkAAAAAAAIBBQAAAAAAAADVAAAAAAAAAVUDOx+B8DE5UQCNGjBgxglNAAAAAAADAVUAAAAAAAFBNQCNGjBgxglNAAAAAAACASUAAAAAAAABSQAAAAAAAgEtAzsfgfAxOVEAjRowYMYJTQM3MzMzMzD1AAAAAAACAUUAAAAAAAIBYQAAAAAAAAFRAAAAAAAAAVEAAAAAAAABKQAAAAAAAgFRA55xzzjlHUEAAAAAAAIBQQNmJndiJPVZAAAAAAACATUAAAAAAAIBTQAAAAAAAgFNAAAAAAADAU0AAAAAAAABOQAAAAAAAwFJAAAAAAAAAV0AjRowYMYJTQAAAAAAAAElAAAAAAACAUUAAAAAAAIBTQMs9jbDck1FAAAAAAACARUAAAAAAAEBWQAAAAAAAADhA2Ymd2Ik9VkAAAAAAAIBSQAAAAAAAgExAAAAAAAAANUAAAAAAAABOQAAAAAAAAElAVVVVVVV1UUAAAAAAAIBFQAAAAAAAgFJAAAAAAAAASUAzMzMzM0NRQAAAAAAAAFNAAAAAAACAU0AAAAAAAABUQOecc845R1BAAAAAAACATEAAAAAAAIBKQAAAAAAAAFRAAAAAAAAAV0AAAAAAAABSQAAAAAAAAE5AAAAAAADAU0C4bdu2bdtNQAAAAAAAADhAAAAAAADAWkAAAAAAAABOQAAAAAAAgERAAAAAAACAUkAAAAAAAIBUQM7H4HwMTlRAAAAAAADAV0AAAAAAAABUQAAAAAAAAE5AvLu7u7ubVEAAAAAAAIBXQAAAAAAAgEtAAAAAAACARkDHcRzHcaxSQAAAAAAAAFFAAAAAAADAWkAAAAAAAEBXQAAAAAAAAE5AI0aMGDGCU0AjRowYMYJTQDMzMzMzQ1FAAAAAAACASUAAAAAAAABOQAAAAAAAAFlAAAAAAACAREBu27Zt2/ZTQAAAAAAAQFVAAAAAAAAASUAAAAAAAAA1QAAAAAAAAE5AAAAAAAAATkDnnHPOOUdQQAAAAAAAQFBAuG3btm3bTUAAAAAAAABWQAAAAAAAAF5AAAAAAACAQUAAAAAAAABPQMs9jbDck1FAAAAAAABAVUAAAAAAAIBKQAAAAAAAHFJAAAAAAAAATkC4fMu3fMtMQAAAAAAAAFNAAAAAAACASUAAAAAAAABOQAAAAAAAgEFAAAAAAAAATkAAAAAAAMBSQAAAAAAAgFJAyz2NsNyTUUAAAAAAAMBSQAAAAAAAAE5AAAAAAACAU0AAAAAAAIBTQAAAAAAAAFRAAAAAAACAWEAAAAAAAMBlQAAAAAAAAE5AAAAAAADAVEDOx+B8DE5UQAAAAAAAgE9AAAAAAAAAQ0AAAAAAAMBSQAAAAAAAgFFAAAAAAAAASUAAAAAAAABOQAAAAAAAQFFAAAAAAAAAVEAAAAAAAMBSQGQhC1nIwk5AkiRJkiSJVEAAAAAAAABEQAAAAAAAgFlAAAAAAACARUDnnHPOOUdQQAAAAAAAAFRAAAAAAABAU0AAAAAAAEBQQAAAAAAAAE5AAAAAAAAATkAAAAAAAIBXQAAAAAAAHFJAAAAAAAAAV0AAAAAAAABUQAAAAAAAwFZAAAAAAACAVkAAAAAAAEBXQAAAAAAAAExAAAAAAAAAVEAAAAAAAMBSQAAAAAAAgFFAx3Ecx3GsUkAAAAAAAIBOQAAAAAAAgEtAAAAAAAAAVEAAAAAAAEBVQAAAAAAAAE5AMzMzMzNDUUAAAAAAAABOQHZiJ3Zip1FAAAAAAACAUUAjRowYMYJTQAAAAAAAgEtAAAAAAABAUUAAAAAAAIBLQAAAAAAAAFhAAAAAAADAWkAAAAAAAABOQAAAAAAAAE5AAAAAAADAV0BVVVVVVXVRQAAAAAAAQFVAAAAAAAAAVEAAAAAAAIBNQAAAAAAAgFFAx3Ecx3GsUkAAAAAAAABUQAAAAAAAAE5AAAAAAACAUEAAAAAAAABBQAAAAAAAQFBAAAAAAACAUUAAAAAAAIBRQAAAAAAAADVAAAAAAAAAREAjRowYMYJTQAAAAAAAAFRAAAAAAAAATkAAAAAAAEBRQAAAAAAAAFRAAAAAAACAUEAAAAAAAMBUQAAAAAAAwFNAAAAAAADAUkAAAAAAABxSQAAAAAAAAElAAAAAAAAATkAAAAAAAIBWQAAAAAAAQFVAAAAAAADAUkAAAAAAAIBJQAAAAAAAgFFAAAAAAACAU0AAAAAAAIBFQAAAAAAAAFRAAAAAAACAU0AAAAAAAABUQAAAAAAAgFNAAAAAAADAWUAAAAAAAABVQAAAAAAAUE1AAAAAAABAUkAAAAAAAABWQMdxHMdxrFJAAAAAAAAATkAAAAAAAMBRQAAAAAAAAE5AAAAAAABAW0DHcRzHcRw8QAAAAAAAQFVAAAAAAACAVkAAAAAAAABOQAAAAAAAHFJAI0aMGDGCU0Bu27Zt2/ZTQCNGjBgxglNAAAAAAABAWkAAAAAAAABOQAAAAAAAAE5AAAAAAACAVEAAAAAAAEBQQMs9jbDck1FAAAAAAAAATkAAAAAAAABWQAAAAAAAgFFAAAAAAABAUUAAAAAAAIBCQAAAAAAAQFJAAAAAAADAV0AAAAAAAABUQAAAAAAAgFBAAAAAAAAASEAzMzMzM0NRQAAAAAAAgElAAAAAAADAUkAAAAAAAIBbQAAAAAAAAEpAAAAAAABAUEAAAAAAAIBUQAAAAAAAAE5AAAAAAACAUEAAAAAAAABQQAAAAAAAgFFAAAAAAAAAOEAAAAAAAMBYQAAAAAAAAE5AAAAAAAAAQEAAAAAAAABOQAAAAAAAHFJAAAAAAACAUUAAAAAAAEBVQAAAAAAAQFJAAAAAAAAAUEDZiZ3YiT1WQAAAAAAAAEhAAAAAAACAVUAAAAAAAABEQAAAAAAAwFZAAAAAAADAUUAAAAAAAIBSQAAAAAAAAFJAAAAAAACAQUCSJEmSJIlUQNhQXkN5jU1AAAAAAABAWUAAAAAAAABOQCNGjBgxglNAAAAAAAAAPkAAAAAAAEBWQAAAAAAAgE9AAAAAAACAQkAAAAAAAABVQAAAAAAAgFFAAAAAAACAREDnnHPOOUdQQAAAAAAAgE1AAAAAAADAUkAAAAAAAIBRQAAAAAAAgERAAAAAAAAcUkAAAAAAAEBQQAAAAAAAQFBAAAAAAACATEAAAAAAACBjQLh8y7d8y0xAAAAAAAAASUAAAAAAACBgQAAAAAAAgFRAAAAAAADAWEAAAAAAAIBFQAAAAAAAwFZAAAAAAAAAWEAAAAAAAIBPQAAAAAAAgEdAAAAAAADAUEAAAAAAAABWQAAAAAAAgFFAAAAAAAAASUBu27Zt2/ZTQAAAAAAAAERAI0aMGDGCU0AAAAAAAIBPQAAAAAAAQFVAAAAAAAAASUAAAAAAAABUQAAAAAAAgFNAAAAAAABAUEAAAAAAAABOQAAAAAAAgEtAAAAAAACASkA=",
            "dtype": "f8"
           }
          },
          {
           "axis": {
            "matches": true
           },
           "label": "ZoningScore",
           "values": {
            "bdata": "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",
            "dtype": "f8"
           }
          },
          {
           "axis": {
            "matches": true
           },
           "label": "EVI",
           "values": {
            "bdata": "PmaIJ8AG1j9AYJWGq5PaP6X6VjPNHtQ/6D33WAZy2j+WTV0OadHaP9oKUAdoW9U/XxfKgVXR1z+JR+sSmLjQPzX5LsBxF9U/frllapGD2D++uPC7wMHZP1u4ZT1nQdg/MxpYfRam1D8QeQB44PnXP7snIC5NHdU/Pq7wyKVI2z9KgNNC5arTPzTlKZsGBMg/D99Ftbis2T8CCM9e5DHVP3CllWJX79Q/XY31eKe22j98bXHhkP3QPzxkWUQ/y9g/bcVg64Rk1j+3QRBbD1nlP8KGAguvqtY/GS/Qexla2D/Toj4lPnjYPzqckXzEGdY/tUtmybs51T/ZettK4MbWP4KqzxxeDNc/31qbHstC1T/u+MsnidzaPwf7Hx+d89w/oFPmy89V1D+h5jJhsV/UPwPpZnDJTdw/iwhuT9dg1D+pm55llOHWP8po6icQgdU/DXtUcAym5T+wd2yTLv7UP/AR4JwB/9o/T7w9Fx3t2j+RJXLU5fjUPz8CKWzIZdk/A486wUfY2j/2kafh0D/WP6MPT+45Sto/se/m/KMz1z9HNM1ijyfYPzau16ElLuA/+bNKZOzl2j+vTiw4+gTHP5YU77W5j9o/q06C3HkC2T+0lwdvy73SP7aoQgrPStw/IJzd5P744j8ELiHV/p7VP7hu7N+qH9g/O6vWkB0w1D+bqxE8/QPZP/nM6PF5N9c/Rv/somtJ4D+NzcY8+5DbP05mZ8oAW9g/rv/c9JVg3T+HMvojZSTbP2RO0X6dqdU/s348p3q81D/SImUeManlP2Em1aUDOtY/wtinzMEd1j80JG4oOALUPzN0jAnBqdU/P1S73kLy1T8m0+ddWBLaP+KltAlCZdo/ackCpDaJ2T95dZ8kCcTVP7D8Tfqthtc/VyUcvXVu2D8+C6cnfKfVP2XZyWD1yeA/rSNqF1u71j8tXOPVhB3VP53gzHI1Xd0//knKaNt22D9/ZDiB1IvYP2XQjYh6Rck/1avo+nGB2j+b5Rhd5yDWP4OPWYpYAM4/wecrFAuU4D/SBPlvv7PXPytLhYggV88/7K595B3z0T/FBOprrrrfP55BEOuSUNk/9y+NGGkU1j9IpbgtFALdP9PBNJKMos8/p/X01vhQ3z+9XnNVhoXVP2hFDMNvzcg/VPq1kp9O2j8mox5kLcjVPzgiq4JZac8/6ixLrxoi1j/4xmX92VzVP3Pv/iXZ4NM/mGuMUnFs2z/1Qi/OENDWP0ymRprqaNo/CIdKdp1F4z8oBxkN2THZP2CxrCRJyNg/5AfaksYX1j9fEOXpV+jZP/ZBrmabzdY/B5ZUUZMK1z9dyUZtx7nUP9UKEb4a7tw/rPt/4MVO1z92b23TBRbUP7vb8G5T0No/vwLwrZ5B4D/iZ9RqamviPwBw5G6+79c/lr3TUI0E2T8PrM4Db97hP4ghww2cbeE/dhHi5Jv/2T8atu4WwHjcP7KrgQHiKOA/GORRmNu20j/MEAFtPtfVP1AZ7TeSBtg/cWStfgLw1T8nm+vcG3HMPyTc7BL1Zd8/XNUVWrYz1T+U87aaFQ/fP1MC8Ld12NU/hGmViz0N3z85/h2nlT/fP/L/PAsjfNk/m/QrrEqc2T9xxgs+L43aPzKsit6FlNg/pjBGvqej1z/B0JlYMr7XP4Yuqjuvrt0/H/y8Fm5e1j9O819aE2zVP9R6x1h2cso/L5A5MxEK2T8z0K4bNBXYP2g6ttHWDtc/vlUbZekQxz8gyn9ymf3XP4rlgx2judw/Q7W7dd583D86r30xn1zbP/HgNeWbENg/fDgv02M71D99CI1ekwLYPwhq0kUE7tg/jR7+aW4/1z/NezTOA8zTP7JWdSEaiuE/mQ9BlKNB2D8CdV0tPiDlPyVKBXOqSNI/s7dgslX51j+11zWnv0XYP6aLyd/FU9U/E4bBNizW1D97wPGevc3WPyYRjbnC6dg/LM5ath101j885/2dDHTfP6blUq5wVNQ/DpNaZKT91j9PP9TcQGjWPx0PcyPXE9M/xTQSousj2D/+vhQIGdnZP40h73kjG9Y/hsdTYqA92T9R7ksquE/VP6yPMb9x7tU/nxDtqlgZ0z/xeg4R29jaP7PJVvAKruA/LidTYuHp4j9EustTwQrXP2wg7KxJltc/lOt/AMeS1z9uTOcGxtLaP2SsXMxHV9U/Ayms0mqq2j+gyQJPJbvVPxUdgEwbHNU/wIGPmeXD0z9RFd1nnvTZP3+5ps4/1tM/e6FRghB+1D+EZCKuEErWP15pmk1sEtY/yYjot5tp1D/RHeZfepPVPyZT54N2sM4/isX2LVxW1z8JyqwrpYvUP3dWJfEgWdc/hIoddA0/uT/YJrFZP7/aP5ogWzkk9Nc/sOmbdGTMzT+GISEv/4PQP5ePvzvI2tk/Q9Haq21A1T8gxjCZP+7XP68UNBPaodE/GeHpSTCS2D/HuvVCxH/nP+Z5cVila9Y/gkJssEK/1T9H+6TT50jYP7ncjD/8gNk/tQ179L701D/FTc7fJkfaP5nxMAlfLNY/nK3QeJiT2D+moLXJeH3bP2tcCqtZ29o/Xsc5wYqZ2j/gk+W7aP/ZP7KyjR4Oyds/8LVxPw9xyz/wH5HKTCvVP99XZrkV7tM/+NxysRt00j957IYNBUzXPyoQU8CistE/QkPlAGYt2j+TYMZ3OObaPx6bzGY3e9s/OTL8Q5nY2T9kOg8gqFfoPzP/8LzkStc/HmwOBBf01z8O76ORmhvXP+u4GXDWL9Y/j05p1xDp2T8ge7QkSZHLP9VkMVpDveA/RTRhHHblzD+jNoAoAwHUP/H6E9nH+dk/904i7PCi1T+t/tpnYR7XP3nsYsnK3tk/h2WWpQCm1T9B0Mf9lZ3oP1czyQivdNY/JiSkSRPW2T9xCASQRYLYP5K/ZWqRhdo/iDZPr3bH2D/nG0svK87cPxj0/BSontU/jBZeS68q2j90urIe6IjVP2Cr1Bt+sNU/VDfDk8N82T9KHv7PNE/XP6tyltgHe8w/F/96c+HZ1D8YUw3xlSHWP3MIKdF2pto/HF+F6EST2z8SqWMw9mLaP8+w1kW04Nc/s39qkXg+1j/njr9b/iXYP7Zo8AI5p9s/E/RycXc52j+qfL/IY4XQP1ROQzO1v9E/1N1Yt9C22D8PYcNdjYbWP2BlBbHii9k/LiOj3llo1T8w7VGeuVbUP2jX+QTootI/IYD1l7Mh2D9PIix4idbVP0vuLPh9CdU/mNLdz0HK4T/XBQeTKRDWPyZS0XW8D9Q/lSZ/y3DF1z8MUOQiLdfZPzez0KShOtM//nMq3WaF2j/dv3UXgRfJP0wlHcDufNs/pDQA3wc61j9j10J5z6/PP5SMV4pYO94/yM1nFDcE2j/6fA90Vx/VP0sbkktPw9U/8FnTRDVb2D+SI3RTpRjVP9thS12ag9g/LtceYMPB1T9KBOMjcjbjPwFmRI1YNNk/o2Ka2/1T0j8DRBZqorTbP70jGmRLVdc/aeyDEDkU1T8ddeECE0rXP7FNA0neyN0/Hjz97uen1j+fwbOZnpvZPwTxjZemg9o/0QSO6FjE1T8FhuazPS/UP2sRoks4a90/P5MinVGi2D/eVHShzbjUP+t/Ey6kK9Y/GbXeFs852T/hSJ1SJYvVP9GjM8JeIts/li+hijGu4z8o/PzvE8/WPwEXyuFuB9g/otZGwSVA2D+6thvthxPXP5JeXqb1zd4/oz+SCg9I1j+/vetz1jnZPyiCzkYOp9g/vSAh6jq82z/KyGH2EVXFP2Qbl8v1INo/iPlUUGEw1j8YRmPF03nVP+MjKbxeENQ/o2hPrFcM1z9DcPB8QnrGP+NZPX+Xx9g/A5NyKhcO2T8y/ZzEsNDYP+CPUg48Rto/sYfaJNSN4j90u5BPKUrYP8qGUvLAadQ/cJi2Lyk2zT8wNAv9V3PWPw49NC9lotQ/zsoMgl+A1z+Wdmx1VdPSP6L3+L6k1OY/ttBx8lWx4D8qNTO02pXZP4dNXYucXdo/J9hqqP2e1D93s9GCMBLXPwpXQA66Q9Q/05ieWlz91D9ISmVwhjnVPyIl5lD7M9k/ANbdeuMr1j/+tzdIjbzZP+UebGPkx9o/das3NI3Q2j8sM8JNpF7aP7C1uqthFt8/obhPrqmo1D+AvCHlqWTdPy+L7GlVENc/xcOOKHDe2T+lNS75gijoP/Ja7vScj9M/XUYUwJ+W2j/XAnWb3/PPP5InYmYUztc/OwsjnVZdyz8ah5ojFbDbP8pytn2nG9g/Wn8mNnqN1z/R3Vq5CqTNP5lrPFDUH9o/tYlVyz3u2j9gQfCCaenXP7UqoTsaeOY/9iBQYunY3z+vDWtnFoXaP/XFCiPhCtE/32iqVWoS1z9Xv46ivOXfP2Qag/ldQtg/xb0ZyrpqyT9Y354JYhLUP3hZKUa0VOI/+ApVO88S2j/lVvxuchrTPwA2CvN0Wdg/gpyScd+K1D+voDIg0bjWPyATnVzroto/OE6nhNca4D+WZ6NSA8ndPxSN3lyLjNg/mApzZigz1j8k6BwBRCnVP6Gj2+cNPtU/1rm9qGWo2T+hXfR+avPpPytbgqyZFNc/bdmmu0404T9Mh0RjM/HUP7VWXNdAIds/MV0QW0Qt2j/vqLEM4lTWP9r5U6e/8tM/+hF840E41j8ivzduhsPSP+EVUxMO0to/L+Op9+LB2D+k5TFpj/PVP4LE1s5ZT9o/V0NYAd8o2T+XDLbbP33VP3tD8QuMRdg/tfLBjggvyz+yJXBG3o3UP38T10wWec4/FeHwKhX/yT+QS2Za22DWP9XD7UoYINU/kveV+GGG1T8ieMwBnbzLP/+Dg7y16to/3JlQ33Ma3D8dLKuoe1LYPzw1Qy96ydE/raV3kh5t1j8kzWyEepbKP1Q8YJPxKdw/hOyj3a3U1j8eWf+aLtbRP44XZCSt6OA/FTZgiSHC1z/zXrDM+H/VP1y6/PpeONQ/pcCY5etc2D+IqNb8mj/VP+Bawmt7Kts/mCopb/Nn0z+JA9UvqUzQP2TaUN6JOtU/vtSua1JG3T/Dal5hfInZP8kCodyO5tU/3r4MG0nL4D/cdjhdU9LcP2z2TedIT9k/LA6TjyEm2T89lEvYcEvTPwFtTxUI6eA/CdWvXFQG1T+nEi7uYhbUP99T7L+opds/tLC8a7590D9cJ1dN/bDVP1yKYdrm49k/LoO26BeC4D8rS4WIIFfPP6iOEbNQn9k/ekfmqDbO2z/1UqtF7VLYPxrX82mQeN4/TKvcBfn/zj9p3cXrjFjZPyWplR/r5rg/8Cb/sWyy0z9Qv36/9U7VP/3ASlmm/OA/F2SP6XbL1z8gbX77NXPUP8LvpR+BO9A/rHf8QEqk3j93MJiaRK3UP5ZWj4c9ytk/MtnyMrQe0j9Jc6p8FtnaPzvFBu6VQdg/PmcNVxd51j9rTywJIXXPPwtZDSnestY/yT4kGi3p2T9cewf8kf/HP/uoaLpqR9w/yGUaCN4c1T9vBJiJDNLRP+9NKqwaZ9k/xJURDFt32z9uTzAw6kHYPwIgzbNYS9A/BEtI5o5g2D+nYwdeMrjaP8Xt0u98g98/bjowj4e2zD/Jx7sT0lfXP6Kefz6xrtQ/xN3Nmdzh3j/tBjRasC7ZP1oO2t+d1t0/uMNa8UzR3D+I+m5HKzbZP0NQOUwaItk/Jg4WhsTN2D92KfFGKhDcP0bBl5ir3dY/0Z2jJbIS1j915Cn3plzrP93k23dYl8w/sARFSPFk3D/pmvuc30nRP6yUtY1ny9g/xEfxfFTE3D/KYFWViuLSPzMUTs7SJNU/AJMnwFKV3j90jkAuWtnTP8TWNH/RXOA/LbKnC4rlyD+3p95hzYzWP9G04R5u9dY/n/xvP3Wz2D+p5pjk0+3aP62x+htrq88/K5vxzINO2j/IwZKWxhvNP/GCwfKe8t0/poBBWjEU2z8M44BkvwnVP4/SJijG99Y/dGWxV0aU2T94aGNw5aDgPxwR9H4OGN0/Su2rt4I/1T/R7GFX46HnPwjIG5zTXNA/cROppjsy0z+gi76TG3PVPw3/wOClPts/rehWI4GS2z8IA8sf/QnVP/byO06nDNo/73g6VhZ41T9jzCp/NeLYP2BbRwnQltg/E22EbdqR1z/CSyCvGW3ZP7RsLBUESNY/zFDV0MOM1z96dsEGQXXkP/OUV+prNMw/e+dpMy2J1j8oCcUiGSHTPwMxPetfCNo/QWFF1pgi2j+ypmK5dgbgP23NC2edWNU/ytCH2Pge2T8XaMtp7X7cPyeVvzvOH+E/qIOlMx4G0z8RWhfsXnzKPxY5PjPxwdk/qfotqJBr3j/eXhHJSRXXPw155qLIkOA/WHWtXNGj2T8vPsBz8/7ePyz5oLDLHNQ/hO9WlDyH4D/wKNxnTkbbP8du78/sVtY/opUf90qS1T9i3hbT8BPGP3WmhoF+S9s/Eq/17fdI1j9EkGLwDHKoP2Noa32YjtY/sD+J2gAG1T9Iov1du4zUPydJtDA/xdE/dDn/bVp61D8tqTp4ElfZPwFtTxUI6eA/sS0wX9OX1z9KTka/ejzMP8UCTIjIU8k/4w5fuWfO1D8mW+ntGVfdP7Gvq6ibRto/1Ir1kXiX1T+vt4XZmWHaP4B8KEdCv+I/P3BHnGA8zz/15iQNgNHIPxC9Qvwi8dY/WeG/rWf81D+KddpkL2jhP4hFLOJ13dk/tF9kG2gwyT9joCwkOpDaPwogmgYGy9o/cK4V0Ic73D+iHt1mmHzZP55xFct55dc/eRPHMEJM1j+CdMzkqBjXPxTQePLEH9A/oLwyTYUu2D+YrKhW55XdP3mQpo17l9E/akLT6r2S0z9FZPrFdzPXPzQnDlc/78o/9FuacXjV1D/g5cd0HeraP9fup8YnedY/f77WlQ4g1D+phMkvk3bWPxz9eqMC/Nk/iWhhruWY1z9yRNXy+FvXP+Ok6or4gdY/s6xieO846D8bE598S0HTP9q33hBL2co/5+FWFT7p1D+WjUG+17PaP4V7qDb92NU/6Qbqkc4i0T+2TNuj46vXPw43XeJVw9c/drms7+Roxz+aXrcvtz7UP7lROrOfftU/ea9KqEf22T/Mq1Hj8L/bPzew+/koh8g/nZw1fOmD4j8Zyv6qT5zoP7Xfp2IAtuE/9N6OgtsD2z8ygLRU/LzUP0CdVBPzCdk/4hwY1soB2j/4sFBVKxrUPxDjWMA19tc/CErGJpAX5D/TaTonOfDEP9Tm+8fTReM/bOSHcM/J1j/MgMVwPcLZP2hEdMdupM4/0azq+lvK1T/9ARH+ojzbP2csEl2jANY/YaJOU0SX1D+WLA7cLpHYP/3C0Z1bytg/eUAKhCXv2T9dtPhkrAzZP3QyRZiQu9A/6qrBZDjp1T/kZZnNLlfLP+Nwax4SstQ/mR1gCApezz8SSKzisCLXP51cvhBO6dI/+0d3lCJh0D+oo7/au/zZP0a1jF3xXeU/X9uJglud2j/gcGVtW0/VP/wldiDwUuA/9qeClwuC2j9zVA8tWjrbPxEDEPsNmdU/H1B2C/OB0T/4d6Br7L3WP/WHlsw/ZdU/w2vNknvV5z+N1lpQa+vUP6uhD1IztdQ/p+1OXgIh2D8XCGj6597VP19xmRxY5dI/iNpAzaOe4j83Cdl4PlrOP2yg0seuANo/sYOH+qpe2T8LRQF2MVDiP49eliMIAdk/AOkqbKTg5z/gNPk0+jPVP6umCktHx9o/5KHy5EWw3z/dd/pQsSXXP/g2JRzKY8w/DhC5UbgY4D+h1cwFT4baP+YKreS4BtY/KIk03Dxp1T8f7ZO/J13VP+LPwLFl9tM/eumfC6WG1z8/aejfUmfaP0Gbh8L6ANw/IcpUft/S1T8xTcuhz7HcP2e3xfQv99U/G4fA9UOA3j/OPa5zNmzYP7ZWqTm9FdA/mA01Q3I/4D8B0V9jd6LfP3YIKbj45OY/Yyv4/mF32D/XNXj1Z5nZP1M+vgiZlso/fT4/xLKl2D/7Eqt8WxPcPw9RSIqVD9o/MdaNU44H4j9E4vJTjF/bP5uRgERlC9w/l3TuDAlD2D+AT7m+7IHPP4BXhvFK4cg/c2LlcnPe1z/AtjgK0mjUP6ehYQHwL9g/gcOrxqyE1j/Tiia5yLPaPzzkAaZEttc/ErwOrjJ2yz/ytogFwSbaP5Seinybxcs/ml3zBiFp1T9Hz/tmhAnmP+bsViGcVNg/4ZrrkT4U2D+3qHkUcqjSP/PWAf5p5NY/vFZR/K0gyT+Tfrz1Z4LUPxE3yIluE9Y/8Ztuk0341T+h1G2vDiHVP4ljiBgRE9g/DkWM10Nl1D9g8EqHH4rYP4H6UNS05tg/QuWvFhME1T+iJoTqCOjnP6FoMBcLns4/RvgTq2cC1T9zU4x6vUfVP01wb7momdw/zMMulGMD5D/jOc8sNjnUP+unWe2Mx80//nmuLhHm1D+cVZAMXnHZPyO/H2GCGdU/VohIM/HY2D8xQU5PnsLVP4iJeu4v68o/VyTAPGYN4T+k+cSzPH7VP8/uDjRZBtk/776TSAca2D9vzRNV5YjYP4q0jRj769E/hvnCAPrjyj/8+fLoIe7RP9ud3Wh4/dM/s4O8xRrQ2D9IpZWlGOvYP3ADiy+2Xts/vzAcCH3o0D+XjKz/Rg7aP+hKbtAZH+E/YjcEJRvu4j+4SOIaWMHWP+tsrNWOINM/BM31M6pE4j8kyTM1m27dP5BsGZMCAtA/dAAfSaXF1j/QyfwdJL7QP4iJz4FfRc4/ZVQGTNay2D/bnqTncDDXPy+pv46GltY/MND7mCGi0z9ErKw6MtXVP/iTn2mlG9k/DmD9eRC84D9+q4mGZsbpP8jEhX4noco/jumjv/Zu4D88MYd4wYXgPwoh0SzZBNo/deLp2L1o1j9Bbr/qslTXP3ABltc1r9o/0EwXpECg2j8LbKwmnbHXP8ZypXC6rdg/wL9LuAFj1z9QvQ4kWu7aP+Xk6SepH9M/JvnmhIwl7D/xwsi3t4vUPz78kwAgDtg/IuSCmF0z1j/KE/W0Y3bRP0KBH+caZ+I/IPToLH6Ixj92ZnHC+WraPzcqMDiZo9g/4rQ5J8WY1T+T+vHfscTjP+jFXjegcts/sCK19OzA2T+8uxtKb7TXP2avIEZ5jM4/pxiSVZDl2D8tyPUl94nZPwocBkKdaOA/m/DrY+6p3T9w30lRMnDWP5LMYCQEXtk/obhPrqmo1D+WK7iwpYHKP9davpMoTdQ/vc2C7ib87D/4T9/FSHLYP0npWD0Or9s/SsIQKVnw2j9hMv4DGs/WP/lSpCCmTdU/qowPxa6u2z8UGt0FEZ/WP2g0dTx3kdU/EEkQXAF92j84PZIjianUPyFNbsAOR9Y/JH6lsIFa2j/5FmVfLhHUPzIEhMBgD9o/zF4SwS6B5z+SYfnfoovUPwlKbXbdAuk/DSpTer8U3j+i6a/3JdDYPwegLcUXB9U/sXUrK+574z+jS+gKBobWP8K1c8ucjc4/TbQ3/8LI1D9K47/1u73lP0GRZOkxQdY/kxdGzOIj1j9nEDrGrp/TPy4ILyJPstk/WbVUyj402T9fygpNuEfTP4I5VYDltuM/OwMllr8k2j+CBPYUs8DmP+MuDX+HuNQ/+flnJbzb1j9/dApfiR3dP0GxszqYNdE/aS0qFycq2D8Mk4396R/VP8Sh/JJgX+g/HvcyvCum3j+ra3+H9TvIP7Zztu9/M9g/eoz5wpYq4D/j8lOiF7zTP6lmqcPMNtc/QQWR7iDo1z9IkCpjlZDUP7efsk0KRMo/aBAYBxHE5D/Wfm2UzqjWPwe17UJOItU/AMsCiqA/0z9B0hiGAS3TP6kY8nzFwdI/F7bqWM9G2T/yDvzIBRzaP9GzTGtx+NU/130s1/P90z/X5YViyGfWPyV8YjPha9Q/GwXLzV4W0D+cwDj++KDTP4VcN7Z0BcY/vGF6n3fU4j/uVmI2T0/aPxpCFSHZ8dk/4kVIRg5Nxz9kOUDxhL3eP5nbsnFewtc/tGuPL93K1T/DfpVIL03sPy+aEdeHltk/9ZZhMNeM2D9asJ65pkLaP7G9DjIIKdQ/5tHqBWNU3z/9SKV2rj7eP8dlZn24NNI/NfkbfXzH3j+j0V4OclbhP+vozCl589Y/gni8xaxS4D9gIIH/xt/TPxdDc07+O9Y//5cG47C1yj/lx8MTk23UP6Ffw36we9k/G17FvsSa1T+suqF8Ad/VP9m3mId94Ng/+fF6K+Ic2j9NrEJg/HfYP9F4ZZmP6tY/TOlUbbOQ3T8kcWhant7WP5bG58z19dk/XqJFI+E33D/DBRw1mADXP5tfkOiLW9o/9is7La5g2T8NOBNWmKXXP0TiVbOKddk/5po+seJ43D9pqVjcugrVP8bMVxFxmtc/N9XF2yie1z/lX83KW7DUP7z1rGYJZdc/KLJz/Hvx1z9H/GlrGGzcP7BvV6It9cw/+oIX9ARi1D905cg6UczjPwU/VoUZYdM/8JDMZq3m5D8CJfIAV9fgP4HF8/oPltY/0D0DSl/23z80Ti6GzrrVP8KKno1Ybtc/feRoZRPCyD/mQ+59UObZP8FwIODNe9Y/kdZah+ou2D9aatt0CmTWP5pmCVV4U9c/nrA7QD802T/a9Q63PAjZPzKNBppGM9k/jSxg6Aw31j+YxeuKtn3gP3IkNBGPstk/JO9hV6xf1T922cqF1vjVP+gsEJe/Lds/j2snGBqe2T+GHFSghYLSPxmK0OqeRs4/XXNMrS/y2D8a5nmw/PfaP93RhKtDq9Q/JL1x3V3G2T9k2yOF8sfUP4PgTfRJ0tg/HhS9ptNh0z/pdBhMkTrVPyjAKGxx8tg/aV13xxeK2D88jz7FomXWP9sj9zklm9Q/wOOltNf22z8ad4Y8Q9DYPyr35H6Oftc/ncMpTbiW2D++HLaWwITYP80CuoLaI9k/+2n8fNL21T8gdOiQT0vZPy/odlUfrtg/kEuuW/sP1T80nHIhZw/dP5yQXFmHXNc/VV9LV1rW1T9QwKD5ZxjYP/npm2Ed6OI/hVOXDIy70z/kC1pTYH/UPwptWv4Z9dg/5UFAOkXM1T9qiW9DfHLaP1gS3JOMQ9k/bOEypbYA1D+XAmHLxLvYPxdcfm/J79U/6BrZfYGq3D99gMbOxFXaP6//Dfoip9U/fzH7CTkL1j+3iUtrmsbYP83SKNOXe9M/0VjErf2c1D8bnI8yD+jVP68WwLvmWNU/fkrqIVBT1z8AHblA0dvfP+re0G/Lp9g/x+mP+Oc62T978AEMsNXIP8Xif206FNY/E4o1pjU/1j+I/X0c6nDWP9Ts+4/R7uA/tWsUcsXm1T/VrGgZXu/bP/zelg8vYdQ/8YpYqXRt1z9BBSwQ8NbYPyeX0mKeRNc/ITXltwgv1T+WnbnwMKzeP2rbxvDFMtU/mxU12HSy1T8TbYl2mPPeP51bLxe60No/YoU/B1gL1T9hOrefyXbaPyR16CF26tQ/iHg6sNWe1j+R0nsFtFjaP+gWyAvvldY/XKWa68kC3z8sSDc6RJzYP8TfU5QEmtg/SqKQZJCH1z+F/n99Gs7YP1alEfQCINg/aH8HBESP1D+a/w671k3aP9XL8Jst99U/2XVEZgD62D+WYUpJl1/WP0j2oqRdjd0/8xdq1Ed11j834ZU9j4PWP2KiAZvV9No/rAvuaIvq1T9lOsJhoBrdP5oyXrtPRMo/4u1dCn+O1j/CXX0jKMDcP/8+vEH/LNI/hgB8TUvf2T9DH019ThHZPxnGudioH9U/XL5IrgsW4T+cAhm+ulXVP/LMhv8M5+E/8+5oaUbV2T92GL+iG9bPPzD0ydWmD9k/Gd2pWv3w2D/cW+2BShnUP46XLvVvIdk/1XD3y9TM2z+LCU38Sq7ZPzs28UmNk9c/cR8/U2Xg1j9f89rvpjXRP8dn60EpFdk/fIdY9LsT2z+of79ukWnbP+9AKQItGto/ibuxv6mW3j/rr3SxvjDWP3jBPGDw3sw/yVlsDJ6i2j8TWooUM8zUP97AHS7u29c/ZkIYsvHV5j+ENgPTvObZP9QKFeuXd9M/9+aRiiUO2D/eprZijF7eP8pCJVjBNNY/RgSCHRFV5T9PS6dW/FjpP5BS1AJyMuU/eWwgdXAB1D/7BPQ6757XP9IK22eZdeM/AdNYtPbA2D/UZqRKtPLRP+bL+pxp4tk/ZKTuP33KzT8l8bqYWLXHP/rsF3FUgtc/GTPZaHL10T+F+iEEQ5fXP/4r+Jl+x9I/1CH6fwEm1j/MTUwD47blP6NIwJj+dtY/F8UA0xby2j9OD9UmZI/gP0QEG7SERNY/SXyjpRn80z+663jyQUPYP1JHnZU7pdo/Uy7dv8hr1D+Ov2rOFhrRP+29z+sM1+U/Rz1LZ8Ot2D/O/NRkYtzTPzGInXHGf9U/eBOPmFX1zD/bIVgkJQLaP1BvM2m0mNY/sj/zhFsP2D+R2QlvxvDUP2UtBucAoto/+t4/06t74z8=",
            "dtype": "f8"
           }
          },
          {
           "axis": {
            "matches": true
           },
           "label": "LotArea",
           "values": {
            "bdata": "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",
            "dtype": "i4"
           }
          },
          {
           "axis": {
            "matches": true
           },
           "label": "Price_per_m^2_norm",
           "values": {
            "bdata": "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",
            "dtype": "f8"
           }
          },
          {
           "axis": {
            "matches": true
           },
           "label": "PDI",
           "values": {
            "bdata": "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",
            "dtype": "f8"
           }
          }
         ],
         "hovertemplate": "%{xaxis.title.text}=%{x}<br>%{yaxis.title.text}=%{y}<br>SalePrice=%{marker.color}<extra></extra>",
         "legendgroup": "",
         "marker": {
          "color": {
           "bdata": "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",
           "dtype": "i4"
          },
          "coloraxis": "coloraxis",
          "symbol": "circle"
         },
         "name": "",
         "showlegend": false,
         "type": "splom"
        }
       ],
       "layout": {
        "coloraxis": {
         "colorbar": {
          "title": {
           "text": "SalePrice"
          }
         },
         "colorscale": [
          [
           0,
           "#440154"
          ],
          [
           0.1111111111111111,
           "#482878"
          ],
          [
           0.2222222222222222,
           "#3e4989"
          ],
          [
           0.3333333333333333,
           "#31688e"
          ],
          [
           0.4444444444444444,
           "#26828e"
          ],
          [
           0.5555555555555556,
           "#1f9e89"
          ],
          [
           0.6666666666666666,
           "#35b779"
          ],
          [
           0.7777777777777778,
           "#6ece58"
          ],
          [
           0.8888888888888888,
           "#b5de2b"
          ],
          [
           1,
           "#fde725"
          ]
         ]
        },
        "dragmode": "select",
        "height": 1000,
        "legend": {
         "tracegroupgap": 0
        },
        "margin": {
         "t": 60
        },
        "template": {
         "data": {
          "bar": [
           {
            "error_x": {
             "color": "#2a3f5f"
            },
            "error_y": {
             "color": "#2a3f5f"
            },
            "marker": {
             "line": {
              "color": "white",
              "width": 0.5
             },
             "pattern": {
              "fillmode": "overlay",
              "size": 10,
              "solidity": 0.2
             }
            },
            "type": "bar"
           }
          ],
          "barpolar": [
           {
            "marker": {
             "line": {
              "color": "white",
              "width": 0.5
             },
             "pattern": {
              "fillmode": "overlay",
              "size": 10,
              "solidity": 0.2
             }
            },
            "type": "barpolar"
           }
          ],
          "carpet": [
           {
            "aaxis": {
             "endlinecolor": "#2a3f5f",
             "gridcolor": "#C8D4E3",
             "linecolor": "#C8D4E3",
             "minorgridcolor": "#C8D4E3",
             "startlinecolor": "#2a3f5f"
            },
            "baxis": {
             "endlinecolor": "#2a3f5f",
             "gridcolor": "#C8D4E3",
             "linecolor": "#C8D4E3",
             "minorgridcolor": "#C8D4E3",
             "startlinecolor": "#2a3f5f"
            },
            "type": "carpet"
           }
          ],
          "choropleth": [
           {
            "colorbar": {
             "outlinewidth": 0,
             "ticks": ""
            },
            "type": "choropleth"
           }
          ],
          "contour": [
           {
            "colorbar": {
             "outlinewidth": 0,
             "ticks": ""
            },
            "colorscale": [
             [
              0,
              "#0d0887"
             ],
             [
              0.1111111111111111,
              "#46039f"
             ],
             [
              0.2222222222222222,
              "#7201a8"
             ],
             [
              0.3333333333333333,
              "#9c179e"
             ],
             [
              0.4444444444444444,
              "#bd3786"
             ],
             [
              0.5555555555555556,
              "#d8576b"
             ],
             [
              0.6666666666666666,
              "#ed7953"
             ],
             [
              0.7777777777777778,
              "#fb9f3a"
             ],
             [
              0.8888888888888888,
              "#fdca26"
             ],
             [
              1,
              "#f0f921"
             ]
            ],
            "type": "contour"
           }
          ],
          "contourcarpet": [
           {
            "colorbar": {
             "outlinewidth": 0,
             "ticks": ""
            },
            "type": "contourcarpet"
           }
          ],
          "heatmap": [
           {
            "colorbar": {
             "outlinewidth": 0,
             "ticks": ""
            },
            "colorscale": [
             [
              0,
              "#0d0887"
             ],
             [
              0.1111111111111111,
              "#46039f"
             ],
             [
              0.2222222222222222,
              "#7201a8"
             ],
             [
              0.3333333333333333,
              "#9c179e"
             ],
             [
              0.4444444444444444,
              "#bd3786"
             ],
             [
              0.5555555555555556,
              "#d8576b"
             ],
             [
              0.6666666666666666,
              "#ed7953"
             ],
             [
              0.7777777777777778,
              "#fb9f3a"
             ],
             [
              0.8888888888888888,
              "#fdca26"
             ],
             [
              1,
              "#f0f921"
             ]
            ],
            "type": "heatmap"
           }
          ],
          "histogram": [
           {
            "marker": {
             "pattern": {
              "fillmode": "overlay",
              "size": 10,
              "solidity": 0.2
             }
            },
            "type": "histogram"
           }
          ],
          "histogram2d": [
           {
            "colorbar": {
             "outlinewidth": 0,
             "ticks": ""
            },
            "colorscale": [
             [
              0,
              "#0d0887"
             ],
             [
              0.1111111111111111,
              "#46039f"
             ],
             [
              0.2222222222222222,
              "#7201a8"
             ],
             [
              0.3333333333333333,
              "#9c179e"
             ],
             [
              0.4444444444444444,
              "#bd3786"
             ],
             [
              0.5555555555555556,
              "#d8576b"
             ],
             [
              0.6666666666666666,
              "#ed7953"
             ],
             [
              0.7777777777777778,
              "#fb9f3a"
             ],
             [
              0.8888888888888888,
              "#fdca26"
             ],
             [
              1,
              "#f0f921"
             ]
            ],
            "type": "histogram2d"
           }
          ],
          "histogram2dcontour": [
           {
            "colorbar": {
             "outlinewidth": 0,
             "ticks": ""
            },
            "colorscale": [
             [
              0,
              "#0d0887"
             ],
             [
              0.1111111111111111,
              "#46039f"
             ],
             [
              0.2222222222222222,
              "#7201a8"
             ],
             [
              0.3333333333333333,
              "#9c179e"
             ],
             [
              0.4444444444444444,
              "#bd3786"
             ],
             [
              0.5555555555555556,
              "#d8576b"
             ],
             [
              0.6666666666666666,
              "#ed7953"
             ],
             [
              0.7777777777777778,
              "#fb9f3a"
             ],
             [
              0.8888888888888888,
              "#fdca26"
             ],
             [
              1,
              "#f0f921"
             ]
            ],
            "type": "histogram2dcontour"
           }
          ],
          "mesh3d": [
           {
            "colorbar": {
             "outlinewidth": 0,
             "ticks": ""
            },
            "type": "mesh3d"
           }
          ],
          "parcoords": [
           {
            "line": {
             "colorbar": {
              "outlinewidth": 0,
              "ticks": ""
             }
            },
            "type": "parcoords"
           }
          ],
          "pie": [
           {
            "automargin": true,
            "type": "pie"
           }
          ],
          "scatter": [
           {
            "fillpattern": {
             "fillmode": "overlay",
             "size": 10,
             "solidity": 0.2
            },
            "type": "scatter"
           }
          ],
          "scatter3d": [
           {
            "line": {
             "colorbar": {
              "outlinewidth": 0,
              "ticks": ""
             }
            },
            "marker": {
             "colorbar": {
              "outlinewidth": 0,
              "ticks": ""
             }
            },
            "type": "scatter3d"
           }
          ],
          "scattercarpet": [
           {
            "marker": {
             "colorbar": {
              "outlinewidth": 0,
              "ticks": ""
             }
            },
            "type": "scattercarpet"
           }
          ],
          "scattergeo": [
           {
            "marker": {
             "colorbar": {
              "outlinewidth": 0,
              "ticks": ""
             }
            },
            "type": "scattergeo"
           }
          ],
          "scattergl": [
           {
            "marker": {
             "colorbar": {
              "outlinewidth": 0,
              "ticks": ""
             }
            },
            "type": "scattergl"
           }
          ],
          "scattermap": [
           {
            "marker": {
             "colorbar": {
              "outlinewidth": 0,
              "ticks": ""
             }
            },
            "type": "scattermap"
           }
          ],
          "scattermapbox": [
           {
            "marker": {
             "colorbar": {
              "outlinewidth": 0,
              "ticks": ""
             }
            },
            "type": "scattermapbox"
           }
          ],
          "scatterpolar": [
           {
            "marker": {
             "colorbar": {
              "outlinewidth": 0,
              "ticks": ""
             }
            },
            "type": "scatterpolar"
           }
          ],
          "scatterpolargl": [
           {
            "marker": {
             "colorbar": {
              "outlinewidth": 0,
              "ticks": ""
             }
            },
            "type": "scatterpolargl"
           }
          ],
          "scatterternary": [
           {
            "marker": {
             "colorbar": {
              "outlinewidth": 0,
              "ticks": ""
             }
            },
            "type": "scatterternary"
           }
          ],
          "surface": [
           {
            "colorbar": {
             "outlinewidth": 0,
             "ticks": ""
            },
            "colorscale": [
             [
              0,
              "#0d0887"
             ],
             [
              0.1111111111111111,
              "#46039f"
             ],
             [
              0.2222222222222222,
              "#7201a8"
             ],
             [
              0.3333333333333333,
              "#9c179e"
             ],
             [
              0.4444444444444444,
              "#bd3786"
             ],
             [
              0.5555555555555556,
              "#d8576b"
             ],
             [
              0.6666666666666666,
              "#ed7953"
             ],
             [
              0.7777777777777778,
              "#fb9f3a"
             ],
             [
              0.8888888888888888,
              "#fdca26"
             ],
             [
              1,
              "#f0f921"
             ]
            ],
            "type": "surface"
           }
          ],
          "table": [
           {
            "cells": {
             "fill": {
              "color": "#EBF0F8"
             },
             "line": {
              "color": "white"
             }
            },
            "header": {
             "fill": {
              "color": "#C8D4E3"
             },
             "line": {
              "color": "white"
             }
            },
            "type": "table"
           }
          ]
         },
         "layout": {
          "annotationdefaults": {
           "arrowcolor": "#2a3f5f",
           "arrowhead": 0,
           "arrowwidth": 1
          },
          "autotypenumbers": "strict",
          "coloraxis": {
           "colorbar": {
            "outlinewidth": 0,
            "ticks": ""
           }
          },
          "colorscale": {
           "diverging": [
            [
             0,
             "#8e0152"
            ],
            [
             0.1,
             "#c51b7d"
            ],
            [
             0.2,
             "#de77ae"
            ],
            [
             0.3,
             "#f1b6da"
            ],
            [
             0.4,
             "#fde0ef"
            ],
            [
             0.5,
             "#f7f7f7"
            ],
            [
             0.6,
             "#e6f5d0"
            ],
            [
             0.7,
             "#b8e186"
            ],
            [
             0.8,
             "#7fbc41"
            ],
            [
             0.9,
             "#4d9221"
            ],
            [
             1,
             "#276419"
            ]
           ],
           "sequential": [
            [
             0,
             "#0d0887"
            ],
            [
             0.1111111111111111,
             "#46039f"
            ],
            [
             0.2222222222222222,
             "#7201a8"
            ],
            [
             0.3333333333333333,
             "#9c179e"
            ],
            [
             0.4444444444444444,
             "#bd3786"
            ],
            [
             0.5555555555555556,
             "#d8576b"
            ],
            [
             0.6666666666666666,
             "#ed7953"
            ],
            [
             0.7777777777777778,
             "#fb9f3a"
            ],
            [
             0.8888888888888888,
             "#fdca26"
            ],
            [
             1,
             "#f0f921"
            ]
           ],
           "sequentialminus": [
            [
             0,
             "#0d0887"
            ],
            [
             0.1111111111111111,
             "#46039f"
            ],
            [
             0.2222222222222222,
             "#7201a8"
            ],
            [
             0.3333333333333333,
             "#9c179e"
            ],
            [
             0.4444444444444444,
             "#bd3786"
            ],
            [
             0.5555555555555556,
             "#d8576b"
            ],
            [
             0.6666666666666666,
             "#ed7953"
            ],
            [
             0.7777777777777778,
             "#fb9f3a"
            ],
            [
             0.8888888888888888,
             "#fdca26"
            ],
            [
             1,
             "#f0f921"
            ]
           ]
          },
          "colorway": [
           "#636efa",
           "#EF553B",
           "#00cc96",
           "#ab63fa",
           "#FFA15A",
           "#19d3f3",
           "#FF6692",
           "#B6E880",
           "#FF97FF",
           "#FECB52"
          ],
          "font": {
           "color": "#2a3f5f"
          },
          "geo": {
           "bgcolor": "white",
           "lakecolor": "white",
           "landcolor": "white",
           "showlakes": true,
           "showland": true,
           "subunitcolor": "#C8D4E3"
          },
          "hoverlabel": {
           "align": "left"
          },
          "hovermode": "closest",
          "mapbox": {
           "style": "light"
          },
          "paper_bgcolor": "white",
          "plot_bgcolor": "white",
          "polar": {
           "angularaxis": {
            "gridcolor": "#EBF0F8",
            "linecolor": "#EBF0F8",
            "ticks": ""
           },
           "bgcolor": "white",
           "radialaxis": {
            "gridcolor": "#EBF0F8",
            "linecolor": "#EBF0F8",
            "ticks": ""
           }
          },
          "scene": {
           "xaxis": {
            "backgroundcolor": "white",
            "gridcolor": "#DFE8F3",
            "gridwidth": 2,
            "linecolor": "#EBF0F8",
            "showbackground": true,
            "ticks": "",
            "zerolinecolor": "#EBF0F8"
           },
           "yaxis": {
            "backgroundcolor": "white",
            "gridcolor": "#DFE8F3",
            "gridwidth": 2,
            "linecolor": "#EBF0F8",
            "showbackground": true,
            "ticks": "",
            "zerolinecolor": "#EBF0F8"
           },
           "zaxis": {
            "backgroundcolor": "white",
            "gridcolor": "#DFE8F3",
            "gridwidth": 2,
            "linecolor": "#EBF0F8",
            "showbackground": true,
            "ticks": "",
            "zerolinecolor": "#EBF0F8"
           }
          },
          "shapedefaults": {
           "line": {
            "color": "#2a3f5f"
           }
          },
          "ternary": {
           "aaxis": {
            "gridcolor": "#DFE8F3",
            "linecolor": "#A2B1C6",
            "ticks": ""
           },
           "baxis": {
            "gridcolor": "#DFE8F3",
            "linecolor": "#A2B1C6",
            "ticks": ""
           },
           "bgcolor": "white",
           "caxis": {
            "gridcolor": "#DFE8F3",
            "linecolor": "#A2B1C6",
            "ticks": ""
           }
          },
          "title": {
           "x": 0.05
          },
          "xaxis": {
           "automargin": true,
           "gridcolor": "#EBF0F8",
           "linecolor": "#EBF0F8",
           "ticks": "",
           "title": {
            "standoff": 15
           },
           "zerolinecolor": "#EBF0F8",
           "zerolinewidth": 2
          },
          "yaxis": {
           "automargin": true,
           "gridcolor": "#EBF0F8",
           "linecolor": "#EBF0F8",
           "ticks": "",
           "title": {
            "standoff": 15
           },
           "zerolinecolor": "#EBF0F8",
           "zerolinewidth": 2
          }
         }
        },
        "width": 1200
       }
      }
     },
     "metadata": {},
     "output_type": "display_data"
    }
   ],
   "source": [
    "num_cols = [\"SalePrice\", \"LotFrontage\", \"ZoningScore\", \"EVI\",\"LotArea\", \"Price_per_m^2_norm\", \"PDI\"]\n",
    "\n",
    "fig = ptx.scatter_matrix( df[num_cols], dimensions=num_cols, color=\"SalePrice\", color_continuous_scale=\"Viridis\", height=1000, width=1200)\n",
    "fig.update_traces(diagonal_visible=False)\n",
    "fig.update_layout(template=\"plotly_white\")\n",
    "fig.show()\n",
    "\n"
   ]
  },
  {
   "cell_type": "code",
   "execution_count": 50,
   "id": "825ae6a4",
   "metadata": {},
   "outputs": [
    {
     "data": {
      "application/vnd.plotly.v1+json": {
       "config": {
        "plotlyServerURL": "https://plot.ly"
       },
       "data": [
        {
         "colorscale": [
          [
           0,
           "#440154"
          ],
          [
           0.1111111111111111,
           "#482878"
          ],
          [
           0.2222222222222222,
           "#3e4989"
          ],
          [
           0.3333333333333333,
           "#31688e"
          ],
          [
           0.4444444444444444,
           "#26828e"
          ],
          [
           0.5555555555555556,
           "#1f9e89"
          ],
          [
           0.6666666666666666,
           "#35b779"
          ],
          [
           0.7777777777777778,
           "#6ece58"
          ],
          [
           0.8888888888888888,
           "#b5de2b"
          ],
          [
           1,
           "#fde725"
          ]
         ],
         "opacity": 0.9,
         "type": "surface",
         "x": {
          "bdata": "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",
          "dtype": "f8",
          "shape": "50, 50"
         },
         "y": {
          "bdata": "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",
          "dtype": "f8",
          "shape": "50, 50"
         },
         "z": {
          "bdata": "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",
          "dtype": "f8",
          "shape": "50, 50"
         }
        }
       ],
       "layout": {
        "height": 400,
        "scene": {
         "xaxis": {
          "title": {
           "text": "EVI"
          }
         },
         "yaxis": {
          "title": {
           "text": "LotAreaNorm"
          }
         },
         "zaxis": {
          "title": {
           "text": "SalePrice"
          }
         }
        },
        "template": {
         "data": {
          "bar": [
           {
            "error_x": {
             "color": "#2a3f5f"
            },
            "error_y": {
             "color": "#2a3f5f"
            },
            "marker": {
             "line": {
              "color": "white",
              "width": 0.5
             },
             "pattern": {
              "fillmode": "overlay",
              "size": 10,
              "solidity": 0.2
             }
            },
            "type": "bar"
           }
          ],
          "barpolar": [
           {
            "marker": {
             "line": {
              "color": "white",
              "width": 0.5
             },
             "pattern": {
              "fillmode": "overlay",
              "size": 10,
              "solidity": 0.2
             }
            },
            "type": "barpolar"
           }
          ],
          "carpet": [
           {
            "aaxis": {
             "endlinecolor": "#2a3f5f",
             "gridcolor": "#C8D4E3",
             "linecolor": "#C8D4E3",
             "minorgridcolor": "#C8D4E3",
             "startlinecolor": "#2a3f5f"
            },
            "baxis": {
             "endlinecolor": "#2a3f5f",
             "gridcolor": "#C8D4E3",
             "linecolor": "#C8D4E3",
             "minorgridcolor": "#C8D4E3",
             "startlinecolor": "#2a3f5f"
            },
            "type": "carpet"
           }
          ],
          "choropleth": [
           {
            "colorbar": {
             "outlinewidth": 0,
             "ticks": ""
            },
            "type": "choropleth"
           }
          ],
          "contour": [
           {
            "colorbar": {
             "outlinewidth": 0,
             "ticks": ""
            },
            "colorscale": [
             [
              0,
              "#0d0887"
             ],
             [
              0.1111111111111111,
              "#46039f"
             ],
             [
              0.2222222222222222,
              "#7201a8"
             ],
             [
              0.3333333333333333,
              "#9c179e"
             ],
             [
              0.4444444444444444,
              "#bd3786"
             ],
             [
              0.5555555555555556,
              "#d8576b"
             ],
             [
              0.6666666666666666,
              "#ed7953"
             ],
             [
              0.7777777777777778,
              "#fb9f3a"
             ],
             [
              0.8888888888888888,
              "#fdca26"
             ],
             [
              1,
              "#f0f921"
             ]
            ],
            "type": "contour"
           }
          ],
          "contourcarpet": [
           {
            "colorbar": {
             "outlinewidth": 0,
             "ticks": ""
            },
            "type": "contourcarpet"
           }
          ],
          "heatmap": [
           {
            "colorbar": {
             "outlinewidth": 0,
             "ticks": ""
            },
            "colorscale": [
             [
              0,
              "#0d0887"
             ],
             [
              0.1111111111111111,
              "#46039f"
             ],
             [
              0.2222222222222222,
              "#7201a8"
             ],
             [
              0.3333333333333333,
              "#9c179e"
             ],
             [
              0.4444444444444444,
              "#bd3786"
             ],
             [
              0.5555555555555556,
              "#d8576b"
             ],
             [
              0.6666666666666666,
              "#ed7953"
             ],
             [
              0.7777777777777778,
              "#fb9f3a"
             ],
             [
              0.8888888888888888,
              "#fdca26"
             ],
             [
              1,
              "#f0f921"
             ]
            ],
            "type": "heatmap"
           }
          ],
          "histogram": [
           {
            "marker": {
             "pattern": {
              "fillmode": "overlay",
              "size": 10,
              "solidity": 0.2
             }
            },
            "type": "histogram"
           }
          ],
          "histogram2d": [
           {
            "colorbar": {
             "outlinewidth": 0,
             "ticks": ""
            },
            "colorscale": [
             [
              0,
              "#0d0887"
             ],
             [
              0.1111111111111111,
              "#46039f"
             ],
             [
              0.2222222222222222,
              "#7201a8"
             ],
             [
              0.3333333333333333,
              "#9c179e"
             ],
             [
              0.4444444444444444,
              "#bd3786"
             ],
             [
              0.5555555555555556,
              "#d8576b"
             ],
             [
              0.6666666666666666,
              "#ed7953"
             ],
             [
              0.7777777777777778,
              "#fb9f3a"
             ],
             [
              0.8888888888888888,
              "#fdca26"
             ],
             [
              1,
              "#f0f921"
             ]
            ],
            "type": "histogram2d"
           }
          ],
          "histogram2dcontour": [
           {
            "colorbar": {
             "outlinewidth": 0,
             "ticks": ""
            },
            "colorscale": [
             [
              0,
              "#0d0887"
             ],
             [
              0.1111111111111111,
              "#46039f"
             ],
             [
              0.2222222222222222,
              "#7201a8"
             ],
             [
              0.3333333333333333,
              "#9c179e"
             ],
             [
              0.4444444444444444,
              "#bd3786"
             ],
             [
              0.5555555555555556,
              "#d8576b"
             ],
             [
              0.6666666666666666,
              "#ed7953"
             ],
             [
              0.7777777777777778,
              "#fb9f3a"
             ],
             [
              0.8888888888888888,
              "#fdca26"
             ],
             [
              1,
              "#f0f921"
             ]
            ],
            "type": "histogram2dcontour"
           }
          ],
          "mesh3d": [
           {
            "colorbar": {
             "outlinewidth": 0,
             "ticks": ""
            },
            "type": "mesh3d"
           }
          ],
          "parcoords": [
           {
            "line": {
             "colorbar": {
              "outlinewidth": 0,
              "ticks": ""
             }
            },
            "type": "parcoords"
           }
          ],
          "pie": [
           {
            "automargin": true,
            "type": "pie"
           }
          ],
          "scatter": [
           {
            "fillpattern": {
             "fillmode": "overlay",
             "size": 10,
             "solidity": 0.2
            },
            "type": "scatter"
           }
          ],
          "scatter3d": [
           {
            "line": {
             "colorbar": {
              "outlinewidth": 0,
              "ticks": ""
             }
            },
            "marker": {
             "colorbar": {
              "outlinewidth": 0,
              "ticks": ""
             }
            },
            "type": "scatter3d"
           }
          ],
          "scattercarpet": [
           {
            "marker": {
             "colorbar": {
              "outlinewidth": 0,
              "ticks": ""
             }
            },
            "type": "scattercarpet"
           }
          ],
          "scattergeo": [
           {
            "marker": {
             "colorbar": {
              "outlinewidth": 0,
              "ticks": ""
             }
            },
            "type": "scattergeo"
           }
          ],
          "scattergl": [
           {
            "marker": {
             "colorbar": {
              "outlinewidth": 0,
              "ticks": ""
             }
            },
            "type": "scattergl"
           }
          ],
          "scattermap": [
           {
            "marker": {
             "colorbar": {
              "outlinewidth": 0,
              "ticks": ""
             }
            },
            "type": "scattermap"
           }
          ],
          "scattermapbox": [
           {
            "marker": {
             "colorbar": {
              "outlinewidth": 0,
              "ticks": ""
             }
            },
            "type": "scattermapbox"
           }
          ],
          "scatterpolar": [
           {
            "marker": {
             "colorbar": {
              "outlinewidth": 0,
              "ticks": ""
             }
            },
            "type": "scatterpolar"
           }
          ],
          "scatterpolargl": [
           {
            "marker": {
             "colorbar": {
              "outlinewidth": 0,
              "ticks": ""
             }
            },
            "type": "scatterpolargl"
           }
          ],
          "scatterternary": [
           {
            "marker": {
             "colorbar": {
              "outlinewidth": 0,
              "ticks": ""
             }
            },
            "type": "scatterternary"
           }
          ],
          "surface": [
           {
            "colorbar": {
             "outlinewidth": 0,
             "ticks": ""
            },
            "colorscale": [
             [
              0,
              "#0d0887"
             ],
             [
              0.1111111111111111,
              "#46039f"
             ],
             [
              0.2222222222222222,
              "#7201a8"
             ],
             [
              0.3333333333333333,
              "#9c179e"
             ],
             [
              0.4444444444444444,
              "#bd3786"
             ],
             [
              0.5555555555555556,
              "#d8576b"
             ],
             [
              0.6666666666666666,
              "#ed7953"
             ],
             [
              0.7777777777777778,
              "#fb9f3a"
             ],
             [
              0.8888888888888888,
              "#fdca26"
             ],
             [
              1,
              "#f0f921"
             ]
            ],
            "type": "surface"
           }
          ],
          "table": [
           {
            "cells": {
             "fill": {
              "color": "#EBF0F8"
             },
             "line": {
              "color": "white"
             }
            },
            "header": {
             "fill": {
              "color": "#C8D4E3"
             },
             "line": {
              "color": "white"
             }
            },
            "type": "table"
           }
          ]
         },
         "layout": {
          "annotationdefaults": {
           "arrowcolor": "#2a3f5f",
           "arrowhead": 0,
           "arrowwidth": 1
          },
          "autotypenumbers": "strict",
          "coloraxis": {
           "colorbar": {
            "outlinewidth": 0,
            "ticks": ""
           }
          },
          "colorscale": {
           "diverging": [
            [
             0,
             "#8e0152"
            ],
            [
             0.1,
             "#c51b7d"
            ],
            [
             0.2,
             "#de77ae"
            ],
            [
             0.3,
             "#f1b6da"
            ],
            [
             0.4,
             "#fde0ef"
            ],
            [
             0.5,
             "#f7f7f7"
            ],
            [
             0.6,
             "#e6f5d0"
            ],
            [
             0.7,
             "#b8e186"
            ],
            [
             0.8,
             "#7fbc41"
            ],
            [
             0.9,
             "#4d9221"
            ],
            [
             1,
             "#276419"
            ]
           ],
           "sequential": [
            [
             0,
             "#0d0887"
            ],
            [
             0.1111111111111111,
             "#46039f"
            ],
            [
             0.2222222222222222,
             "#7201a8"
            ],
            [
             0.3333333333333333,
             "#9c179e"
            ],
            [
             0.4444444444444444,
             "#bd3786"
            ],
            [
             0.5555555555555556,
             "#d8576b"
            ],
            [
             0.6666666666666666,
             "#ed7953"
            ],
            [
             0.7777777777777778,
             "#fb9f3a"
            ],
            [
             0.8888888888888888,
             "#fdca26"
            ],
            [
             1,
             "#f0f921"
            ]
           ],
           "sequentialminus": [
            [
             0,
             "#0d0887"
            ],
            [
             0.1111111111111111,
             "#46039f"
            ],
            [
             0.2222222222222222,
             "#7201a8"
            ],
            [
             0.3333333333333333,
             "#9c179e"
            ],
            [
             0.4444444444444444,
             "#bd3786"
            ],
            [
             0.5555555555555556,
             "#d8576b"
            ],
            [
             0.6666666666666666,
             "#ed7953"
            ],
            [
             0.7777777777777778,
             "#fb9f3a"
            ],
            [
             0.8888888888888888,
             "#fdca26"
            ],
            [
             1,
             "#f0f921"
            ]
           ]
          },
          "colorway": [
           "#636efa",
           "#EF553B",
           "#00cc96",
           "#ab63fa",
           "#FFA15A",
           "#19d3f3",
           "#FF6692",
           "#B6E880",
           "#FF97FF",
           "#FECB52"
          ],
          "font": {
           "color": "#2a3f5f"
          },
          "geo": {
           "bgcolor": "white",
           "lakecolor": "white",
           "landcolor": "white",
           "showlakes": true,
           "showland": true,
           "subunitcolor": "#C8D4E3"
          },
          "hoverlabel": {
           "align": "left"
          },
          "hovermode": "closest",
          "mapbox": {
           "style": "light"
          },
          "paper_bgcolor": "white",
          "plot_bgcolor": "white",
          "polar": {
           "angularaxis": {
            "gridcolor": "#EBF0F8",
            "linecolor": "#EBF0F8",
            "ticks": ""
           },
           "bgcolor": "white",
           "radialaxis": {
            "gridcolor": "#EBF0F8",
            "linecolor": "#EBF0F8",
            "ticks": ""
           }
          },
          "scene": {
           "xaxis": {
            "backgroundcolor": "white",
            "gridcolor": "#DFE8F3",
            "gridwidth": 2,
            "linecolor": "#EBF0F8",
            "showbackground": true,
            "ticks": "",
            "zerolinecolor": "#EBF0F8"
           },
           "yaxis": {
            "backgroundcolor": "white",
            "gridcolor": "#DFE8F3",
            "gridwidth": 2,
            "linecolor": "#EBF0F8",
            "showbackground": true,
            "ticks": "",
            "zerolinecolor": "#EBF0F8"
           },
           "zaxis": {
            "backgroundcolor": "white",
            "gridcolor": "#DFE8F3",
            "gridwidth": 2,
            "linecolor": "#EBF0F8",
            "showbackground": true,
            "ticks": "",
            "zerolinecolor": "#EBF0F8"
           }
          },
          "shapedefaults": {
           "line": {
            "color": "#2a3f5f"
           }
          },
          "ternary": {
           "aaxis": {
            "gridcolor": "#DFE8F3",
            "linecolor": "#A2B1C6",
            "ticks": ""
           },
           "baxis": {
            "gridcolor": "#DFE8F3",
            "linecolor": "#A2B1C6",
            "ticks": ""
           },
           "bgcolor": "white",
           "caxis": {
            "gridcolor": "#DFE8F3",
            "linecolor": "#A2B1C6",
            "ticks": ""
           }
          },
          "title": {
           "x": 0.05
          },
          "xaxis": {
           "automargin": true,
           "gridcolor": "#EBF0F8",
           "linecolor": "#EBF0F8",
           "ticks": "",
           "title": {
            "standoff": 15
           },
           "zerolinecolor": "#EBF0F8",
           "zerolinewidth": 2
          },
          "yaxis": {
           "automargin": true,
           "gridcolor": "#EBF0F8",
           "linecolor": "#EBF0F8",
           "ticks": "",
           "title": {
            "standoff": 15
           },
           "zerolinecolor": "#EBF0F8",
           "zerolinewidth": 2
          }
         }
        },
        "title": {
         "text": "3D Surface: Relația dintre EVI, LotAreaNorm și SalePrice"
        },
        "width": 800
       }
      }
     },
     "metadata": {},
     "output_type": "display_data"
    }
   ],
   "source": [
    "import plotly.graph_objects as go\n",
    "\n",
    "x_col = \"EVI\"\n",
    "y_col = \"LotArea\"\n",
    "z_col = \"SalePrice\"\n",
    "\n",
    "x = np.linspace(df[x_col].min(), df[x_col].max(), 50)\n",
    "y = np.linspace(df[y_col].min(), df[y_col].max(), 50)\n",
    "x_grid, y_grid = np.meshgrid(x, y)\n",
    "\n",
    "from scipy.interpolate import griddata\n",
    "z_grid = griddata( (df[x_col], df[y_col]), df[z_col], (x_grid, y_grid), method='linear' )\n",
    "\n",
    "fig = go.Figure(data=[go.Surface(x=x_grid, y=y_grid, z=z_grid, colorscale='Viridis', opacity=0.9)])\n",
    "\n",
    "fig.update_layout(\n",
    "    title=\"3D Surface: Relația dintre EVI, LotAreaNorm și SalePrice\",\n",
    "    scene=dict(\n",
    "        xaxis_title=\"EVI\",\n",
    "        yaxis_title=\"LotAreaNorm\",\n",
    "        zaxis_title=\"SalePrice\",\n",
    "    ),\n",
    "    template=\"plotly_white\",\n",
    "    width=800, height=400\n",
    ")\n",
    "fig.show()\n"
   ]
  },
  {
   "cell_type": "markdown",
   "id": "580b92f7",
   "metadata": {},
   "source": [
    "Cele mai semnificative variabile sunt:\n",
    "**Corelație pozitivă (directă):**\n",
    "* `LotFrontage`, `ZoningScore`, `EVI`, `LotArea`, `PDI`, `MSZoning_RL`\n",
    "  → asociate cu **creșterea prețului**.\n",
    "\n",
    "**Corelație negativă (inversă):**\n",
    "* `MSZoning_RM`, `LotShape_Reg`, `Condition1_Feedr`, `Condition1_Norm`\n",
    "  → asociate cu **scăderea prețului** (dar semnificative statistic).\n",
    "\n",
    "\n",
    "În urma analizei am observat că mai multe caracteristici prezintă o legătură semnificativă cu prețul de vânzare, atât pozitivă, cât și negativă.\n",
    "\n",
    "Variabilele cu **corelație pozitivă**, precum `LotFrontage`, `ZoningScore`, `EVI`, `LotArea` sau `MSZoning_RL`, indică faptul că, pe măsură ce valorile acestora cresc, și `SalePrice` tinde să crească — ceea ce este logic din perspectivă economică, deoarece loturile mai mari, zonele mai bune și scorurile urbanistice ridicate determină prețuri mai mari.\n",
    "\n",
    "Pe de altă parte, variabilele cu **corelație negativă**, precum `MSZoning_RM`, `LotShape_Reg`, `Condition1_Feedr` sau `Condition1_Norm`, sunt la fel de importante, întrucât explică acele condiții care pot contribui la **scăderea prețului** — de exemplu, o poziționare mai puțin favorabilă sau o formă regulată a terenului asociată cu construcții standard.\n",
    "\n",
    "Prin urmare, selecția finală a variabilelor a fost făcută pe baza valorii **absolute a corelației (|r| > 0.1)**, păstrând atât relațiile pozitive, cât și cele negative, pentru a surprinde cât mai bine toate tipurile de influențe asupra `SalePrice`.\n",
    "\n",
    "Această alegere asigură un model de regresie echilibrat, capabil să distingă atât factorii care cresc, cât și pe cei care scad prețul de vânzare al unei proprietăți.\n",
    "\n"
   ]
  }
 ],
 "metadata": {
  "kernelspec": {
   "display_name": "venv (3.12.0)",
   "language": "python",
   "name": "python3"
  },
  "language_info": {
   "codemirror_mode": {
    "name": "ipython",
    "version": 3
   },
   "file_extension": ".py",
   "mimetype": "text/x-python",
   "name": "python",
   "nbconvert_exporter": "python",
   "pygments_lexer": "ipython3",
   "version": "3.12.0"
  }
 },
 "nbformat": 4,
 "nbformat_minor": 5
}

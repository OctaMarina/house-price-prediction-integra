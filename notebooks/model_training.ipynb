{
 "cells": [
  {
   "cell_type": "code",
   "execution_count": 28,
   "id": "4d99bf9b",
   "metadata": {},
   "outputs": [],
   "source": [
    "import pandas as pd\n",
    "import seaborn as sns\n",
    "import numpy as np \n",
    "import matplotlib.pyplot as plt \n",
    "import plotly.express as ptx\n",
    "from sklearn.model_selection import train_test_split\n",
    "from sklearn.preprocessing import StandardScaler\n",
    "from sklearn.linear_model import Lasso, Ridge\n",
    "from sklearn.tree import DecisionTreeRegressor\n",
    "from sklearn.metrics import r2_score, mean_squared_error, mean_absolute_error, make_scorer"
   ]
  },
  {
   "cell_type": "code",
   "execution_count": 3,
   "id": "d2025478",
   "metadata": {},
   "outputs": [],
   "source": [
    "df = pd.read_csv('Cornescu_Darius_new_features.csv')"
   ]
  },
  {
   "cell_type": "code",
   "execution_count": 4,
   "id": "6ae23282",
   "metadata": {},
   "outputs": [
    {
     "data": {
      "text/html": [
       "<div>\n",
       "<style scoped>\n",
       "    .dataframe tbody tr th:only-of-type {\n",
       "        vertical-align: middle;\n",
       "    }\n",
       "\n",
       "    .dataframe tbody tr th {\n",
       "        vertical-align: top;\n",
       "    }\n",
       "\n",
       "    .dataframe thead th {\n",
       "        text-align: right;\n",
       "    }\n",
       "</style>\n",
       "<table border=\"1\" class=\"dataframe\">\n",
       "  <thead>\n",
       "    <tr style=\"text-align: right;\">\n",
       "      <th></th>\n",
       "      <th>MSSubClass</th>\n",
       "      <th>LotFrontage</th>\n",
       "      <th>LotArea</th>\n",
       "      <th>SalePrice</th>\n",
       "      <th>LotArea_m^2</th>\n",
       "      <th>Price_per_m^2</th>\n",
       "      <th>ZoningScore</th>\n",
       "      <th>SubClassScore</th>\n",
       "      <th>LotAreaNorm</th>\n",
       "      <th>PDI</th>\n",
       "      <th>Price_per_m^2_norm</th>\n",
       "      <th>EVI</th>\n",
       "    </tr>\n",
       "  </thead>\n",
       "  <tbody>\n",
       "    <tr>\n",
       "      <th>count</th>\n",
       "      <td>1168.000000</td>\n",
       "      <td>951.000000</td>\n",
       "      <td>1168.000000</td>\n",
       "      <td>1168.000000</td>\n",
       "      <td>1168.000000</td>\n",
       "      <td>1168.000000</td>\n",
       "      <td>1168.000000</td>\n",
       "      <td>1168.000000</td>\n",
       "      <td>1168.000000</td>\n",
       "      <td>1168.000000</td>\n",
       "      <td>1168.000000</td>\n",
       "      <td>1168.000000</td>\n",
       "    </tr>\n",
       "    <tr>\n",
       "      <th>mean</th>\n",
       "      <td>56.849315</td>\n",
       "      <td>70.343849</td>\n",
       "      <td>10689.642123</td>\n",
       "      <td>181441.541952</td>\n",
       "      <td>993.099822</td>\n",
       "      <td>224.816818</td>\n",
       "      <td>0.724731</td>\n",
       "      <td>0.299207</td>\n",
       "      <td>0.043888</td>\n",
       "      <td>0.392821</td>\n",
       "      <td>0.207414</td>\n",
       "      <td>0.380968</td>\n",
       "    </tr>\n",
       "    <tr>\n",
       "      <th>std</th>\n",
       "      <td>42.531862</td>\n",
       "      <td>24.897021</td>\n",
       "      <td>10759.366198</td>\n",
       "      <td>77263.583862</td>\n",
       "      <td>999.577398</td>\n",
       "      <td>131.121509</td>\n",
       "      <td>0.191092</td>\n",
       "      <td>0.223852</td>\n",
       "      <td>0.050290</td>\n",
       "      <td>0.090498</td>\n",
       "      <td>0.129599</td>\n",
       "      <td>0.103603</td>\n",
       "    </tr>\n",
       "    <tr>\n",
       "      <th>min</th>\n",
       "      <td>20.000000</td>\n",
       "      <td>21.000000</td>\n",
       "      <td>1300.000000</td>\n",
       "      <td>34900.000000</td>\n",
       "      <td>120.773900</td>\n",
       "      <td>14.966588</td>\n",
       "      <td>0.000000</td>\n",
       "      <td>0.105263</td>\n",
       "      <td>0.000000</td>\n",
       "      <td>0.056594</td>\n",
       "      <td>0.000000</td>\n",
       "      <td>0.047745</td>\n",
       "    </tr>\n",
       "    <tr>\n",
       "      <th>25%</th>\n",
       "      <td>20.000000</td>\n",
       "      <td>59.000000</td>\n",
       "      <td>7587.250000</td>\n",
       "      <td>130000.000000</td>\n",
       "      <td>704.878287</td>\n",
       "      <td>148.742572</td>\n",
       "      <td>0.795605</td>\n",
       "      <td>0.105263</td>\n",
       "      <td>0.029387</td>\n",
       "      <td>0.360931</td>\n",
       "      <td>0.132223</td>\n",
       "      <td>0.329611</td>\n",
       "    </tr>\n",
       "    <tr>\n",
       "      <th>50%</th>\n",
       "      <td>50.000000</td>\n",
       "      <td>70.000000</td>\n",
       "      <td>9600.000000</td>\n",
       "      <td>165000.000000</td>\n",
       "      <td>891.868800</td>\n",
       "      <td>191.302979</td>\n",
       "      <td>0.795605</td>\n",
       "      <td>0.263158</td>\n",
       "      <td>0.038795</td>\n",
       "      <td>0.378316</td>\n",
       "      <td>0.174289</td>\n",
       "      <td>0.370041</td>\n",
       "    </tr>\n",
       "    <tr>\n",
       "      <th>75%</th>\n",
       "      <td>70.000000</td>\n",
       "      <td>80.000000</td>\n",
       "      <td>11700.000000</td>\n",
       "      <td>214925.000000</td>\n",
       "      <td>1086.965100</td>\n",
       "      <td>253.468459</td>\n",
       "      <td>0.795605</td>\n",
       "      <td>0.368421</td>\n",
       "      <td>0.048611</td>\n",
       "      <td>0.432743</td>\n",
       "      <td>0.235733</td>\n",
       "      <td>0.413595</td>\n",
       "    </tr>\n",
       "    <tr>\n",
       "      <th>max</th>\n",
       "      <td>190.000000</td>\n",
       "      <td>313.000000</td>\n",
       "      <td>215245.000000</td>\n",
       "      <td>745000.000000</td>\n",
       "      <td>19996.906235</td>\n",
       "      <td>1026.711897</td>\n",
       "      <td>1.000000</td>\n",
       "      <td>1.000000</td>\n",
       "      <td>1.000000</td>\n",
       "      <td>0.847310</td>\n",
       "      <td>1.000000</td>\n",
       "      <td>0.905780</td>\n",
       "    </tr>\n",
       "  </tbody>\n",
       "</table>\n",
       "</div>"
      ],
      "text/plain": [
       "        MSSubClass  LotFrontage        LotArea      SalePrice   LotArea_m^2  \\\n",
       "count  1168.000000   951.000000    1168.000000    1168.000000   1168.000000   \n",
       "mean     56.849315    70.343849   10689.642123  181441.541952    993.099822   \n",
       "std      42.531862    24.897021   10759.366198   77263.583862    999.577398   \n",
       "min      20.000000    21.000000    1300.000000   34900.000000    120.773900   \n",
       "25%      20.000000    59.000000    7587.250000  130000.000000    704.878287   \n",
       "50%      50.000000    70.000000    9600.000000  165000.000000    891.868800   \n",
       "75%      70.000000    80.000000   11700.000000  214925.000000   1086.965100   \n",
       "max     190.000000   313.000000  215245.000000  745000.000000  19996.906235   \n",
       "\n",
       "       Price_per_m^2  ZoningScore  SubClassScore  LotAreaNorm          PDI  \\\n",
       "count    1168.000000  1168.000000    1168.000000  1168.000000  1168.000000   \n",
       "mean      224.816818     0.724731       0.299207     0.043888     0.392821   \n",
       "std       131.121509     0.191092       0.223852     0.050290     0.090498   \n",
       "min        14.966588     0.000000       0.105263     0.000000     0.056594   \n",
       "25%       148.742572     0.795605       0.105263     0.029387     0.360931   \n",
       "50%       191.302979     0.795605       0.263158     0.038795     0.378316   \n",
       "75%       253.468459     0.795605       0.368421     0.048611     0.432743   \n",
       "max      1026.711897     1.000000       1.000000     1.000000     0.847310   \n",
       "\n",
       "       Price_per_m^2_norm          EVI  \n",
       "count         1168.000000  1168.000000  \n",
       "mean             0.207414     0.380968  \n",
       "std              0.129599     0.103603  \n",
       "min              0.000000     0.047745  \n",
       "25%              0.132223     0.329611  \n",
       "50%              0.174289     0.370041  \n",
       "75%              0.235733     0.413595  \n",
       "max              1.000000     0.905780  "
      ]
     },
     "execution_count": 4,
     "metadata": {},
     "output_type": "execute_result"
    }
   ],
   "source": [
    "df.describe()"
   ]
  },
  {
   "cell_type": "code",
   "execution_count": 5,
   "id": "0c0d06d1",
   "metadata": {},
   "outputs": [
    {
     "name": "stdout",
     "output_type": "stream",
     "text": [
      "<class 'pandas.core.frame.DataFrame'>\n",
      "RangeIndex: 1168 entries, 0 to 1167\n",
      "Data columns (total 23 columns):\n",
      " #   Column              Non-Null Count  Dtype  \n",
      "---  ------              --------------  -----  \n",
      " 0   MSSubClass          1168 non-null   int64  \n",
      " 1   MSZoning            1168 non-null   object \n",
      " 2   LotFrontage         951 non-null    float64\n",
      " 3   LotArea             1168 non-null   int64  \n",
      " 4   Street              1168 non-null   object \n",
      " 5   Alley               74 non-null     object \n",
      " 6   LotShape            1168 non-null   object \n",
      " 7   LandContour         1168 non-null   object \n",
      " 8   Utilities           1168 non-null   object \n",
      " 9   LotConfig           1168 non-null   object \n",
      " 10  LandSlope           1168 non-null   object \n",
      " 11  Neighborhood        1168 non-null   object \n",
      " 12  Condition1          1168 non-null   object \n",
      " 13  Condition2          1168 non-null   object \n",
      " 14  SalePrice           1168 non-null   int64  \n",
      " 15  LotArea_m^2         1168 non-null   float64\n",
      " 16  Price_per_m^2       1168 non-null   float64\n",
      " 17  ZoningScore         1168 non-null   float64\n",
      " 18  SubClassScore       1168 non-null   float64\n",
      " 19  LotAreaNorm         1168 non-null   float64\n",
      " 20  PDI                 1168 non-null   float64\n",
      " 21  Price_per_m^2_norm  1168 non-null   float64\n",
      " 22  EVI                 1168 non-null   float64\n",
      "dtypes: float64(9), int64(3), object(11)\n",
      "memory usage: 210.0+ KB\n"
     ]
    }
   ],
   "source": [
    "df.info()"
   ]
  },
  {
   "cell_type": "code",
   "execution_count": 6,
   "id": "954ce879",
   "metadata": {},
   "outputs": [
    {
     "name": "stdout",
     "output_type": "stream",
     "text": [
      "LotFrontage     217\n",
      "Alley          1094\n",
      "dtype: int64\n"
     ]
    }
   ],
   "source": [
    "missing_values = df.isnull().sum()\n",
    "print(missing_values[missing_values > 0])"
   ]
  },
  {
   "cell_type": "code",
   "execution_count": 7,
   "id": "f7876b1a",
   "metadata": {},
   "outputs": [
    {
     "data": {
      "text/plain": [
       "Index(['MSSubClass', 'MSZoning', 'LotFrontage', 'LotArea', 'Street',\n",
       "       'LotShape', 'LandContour', 'Utilities', 'LotConfig', 'LandSlope',\n",
       "       'Neighborhood', 'Condition1', 'Condition2', 'SalePrice', 'LotArea_m^2',\n",
       "       'Price_per_m^2', 'ZoningScore', 'SubClassScore', 'LotAreaNorm', 'PDI',\n",
       "       'Price_per_m^2_norm', 'EVI'],\n",
       "      dtype='object')"
      ]
     },
     "execution_count": 7,
     "metadata": {},
     "output_type": "execute_result"
    }
   ],
   "source": [
    "df= df.drop(columns=['Alley'])\n",
    "df.columns"
   ]
  },
  {
   "cell_type": "code",
   "execution_count": 8,
   "id": "5dd5862f",
   "metadata": {},
   "outputs": [],
   "source": [
    "df['LotFrontage'] = df.groupby(['Neighborhood'])['LotFrontage'].transform(\n",
    "    lambda x: x.fillna(x.mean())\n",
    ")"
   ]
  },
  {
   "cell_type": "code",
   "execution_count": 9,
   "id": "5ae0931d",
   "metadata": {},
   "outputs": [
    {
     "data": {
      "text/html": [
       "<div>\n",
       "<style scoped>\n",
       "    .dataframe tbody tr th:only-of-type {\n",
       "        vertical-align: middle;\n",
       "    }\n",
       "\n",
       "    .dataframe tbody tr th {\n",
       "        vertical-align: top;\n",
       "    }\n",
       "\n",
       "    .dataframe thead th {\n",
       "        text-align: right;\n",
       "    }\n",
       "</style>\n",
       "<table border=\"1\" class=\"dataframe\">\n",
       "  <thead>\n",
       "    <tr style=\"text-align: right;\">\n",
       "      <th></th>\n",
       "      <th>MSSubClass</th>\n",
       "      <th>LotFrontage</th>\n",
       "      <th>LotArea</th>\n",
       "      <th>SalePrice</th>\n",
       "      <th>LotArea_m^2</th>\n",
       "      <th>Price_per_m^2</th>\n",
       "      <th>ZoningScore</th>\n",
       "      <th>SubClassScore</th>\n",
       "      <th>LotAreaNorm</th>\n",
       "      <th>PDI</th>\n",
       "      <th>Price_per_m^2_norm</th>\n",
       "      <th>EVI</th>\n",
       "    </tr>\n",
       "  </thead>\n",
       "  <tbody>\n",
       "    <tr>\n",
       "      <th>count</th>\n",
       "      <td>1168.000000</td>\n",
       "      <td>1168.000000</td>\n",
       "      <td>1168.000000</td>\n",
       "      <td>1168.000000</td>\n",
       "      <td>1168.000000</td>\n",
       "      <td>1168.000000</td>\n",
       "      <td>1168.000000</td>\n",
       "      <td>1168.000000</td>\n",
       "      <td>1168.000000</td>\n",
       "      <td>1168.000000</td>\n",
       "      <td>1168.000000</td>\n",
       "      <td>1168.000000</td>\n",
       "    </tr>\n",
       "    <tr>\n",
       "      <th>mean</th>\n",
       "      <td>56.849315</td>\n",
       "      <td>71.036142</td>\n",
       "      <td>10689.642123</td>\n",
       "      <td>181441.541952</td>\n",
       "      <td>993.099822</td>\n",
       "      <td>224.816818</td>\n",
       "      <td>0.724731</td>\n",
       "      <td>0.299207</td>\n",
       "      <td>0.043888</td>\n",
       "      <td>0.392821</td>\n",
       "      <td>0.207414</td>\n",
       "      <td>0.380968</td>\n",
       "    </tr>\n",
       "    <tr>\n",
       "      <th>std</th>\n",
       "      <td>42.531862</td>\n",
       "      <td>22.871579</td>\n",
       "      <td>10759.366198</td>\n",
       "      <td>77263.583862</td>\n",
       "      <td>999.577398</td>\n",
       "      <td>131.121509</td>\n",
       "      <td>0.191092</td>\n",
       "      <td>0.223852</td>\n",
       "      <td>0.050290</td>\n",
       "      <td>0.090498</td>\n",
       "      <td>0.129599</td>\n",
       "      <td>0.103603</td>\n",
       "    </tr>\n",
       "    <tr>\n",
       "      <th>min</th>\n",
       "      <td>20.000000</td>\n",
       "      <td>21.000000</td>\n",
       "      <td>1300.000000</td>\n",
       "      <td>34900.000000</td>\n",
       "      <td>120.773900</td>\n",
       "      <td>14.966588</td>\n",
       "      <td>0.000000</td>\n",
       "      <td>0.105263</td>\n",
       "      <td>0.000000</td>\n",
       "      <td>0.056594</td>\n",
       "      <td>0.000000</td>\n",
       "      <td>0.047745</td>\n",
       "    </tr>\n",
       "    <tr>\n",
       "      <th>25%</th>\n",
       "      <td>20.000000</td>\n",
       "      <td>60.000000</td>\n",
       "      <td>7587.250000</td>\n",
       "      <td>130000.000000</td>\n",
       "      <td>704.878287</td>\n",
       "      <td>148.742572</td>\n",
       "      <td>0.795605</td>\n",
       "      <td>0.105263</td>\n",
       "      <td>0.029387</td>\n",
       "      <td>0.360931</td>\n",
       "      <td>0.132223</td>\n",
       "      <td>0.329611</td>\n",
       "    </tr>\n",
       "    <tr>\n",
       "      <th>50%</th>\n",
       "      <td>50.000000</td>\n",
       "      <td>70.462865</td>\n",
       "      <td>9600.000000</td>\n",
       "      <td>165000.000000</td>\n",
       "      <td>891.868800</td>\n",
       "      <td>191.302979</td>\n",
       "      <td>0.795605</td>\n",
       "      <td>0.263158</td>\n",
       "      <td>0.038795</td>\n",
       "      <td>0.378316</td>\n",
       "      <td>0.174289</td>\n",
       "      <td>0.370041</td>\n",
       "    </tr>\n",
       "    <tr>\n",
       "      <th>75%</th>\n",
       "      <td>70.000000</td>\n",
       "      <td>80.000000</td>\n",
       "      <td>11700.000000</td>\n",
       "      <td>214925.000000</td>\n",
       "      <td>1086.965100</td>\n",
       "      <td>253.468459</td>\n",
       "      <td>0.795605</td>\n",
       "      <td>0.368421</td>\n",
       "      <td>0.048611</td>\n",
       "      <td>0.432743</td>\n",
       "      <td>0.235733</td>\n",
       "      <td>0.413595</td>\n",
       "    </tr>\n",
       "    <tr>\n",
       "      <th>max</th>\n",
       "      <td>190.000000</td>\n",
       "      <td>313.000000</td>\n",
       "      <td>215245.000000</td>\n",
       "      <td>745000.000000</td>\n",
       "      <td>19996.906235</td>\n",
       "      <td>1026.711897</td>\n",
       "      <td>1.000000</td>\n",
       "      <td>1.000000</td>\n",
       "      <td>1.000000</td>\n",
       "      <td>0.847310</td>\n",
       "      <td>1.000000</td>\n",
       "      <td>0.905780</td>\n",
       "    </tr>\n",
       "  </tbody>\n",
       "</table>\n",
       "</div>"
      ],
      "text/plain": [
       "        MSSubClass  LotFrontage        LotArea      SalePrice   LotArea_m^2  \\\n",
       "count  1168.000000  1168.000000    1168.000000    1168.000000   1168.000000   \n",
       "mean     56.849315    71.036142   10689.642123  181441.541952    993.099822   \n",
       "std      42.531862    22.871579   10759.366198   77263.583862    999.577398   \n",
       "min      20.000000    21.000000    1300.000000   34900.000000    120.773900   \n",
       "25%      20.000000    60.000000    7587.250000  130000.000000    704.878287   \n",
       "50%      50.000000    70.462865    9600.000000  165000.000000    891.868800   \n",
       "75%      70.000000    80.000000   11700.000000  214925.000000   1086.965100   \n",
       "max     190.000000   313.000000  215245.000000  745000.000000  19996.906235   \n",
       "\n",
       "       Price_per_m^2  ZoningScore  SubClassScore  LotAreaNorm          PDI  \\\n",
       "count    1168.000000  1168.000000    1168.000000  1168.000000  1168.000000   \n",
       "mean      224.816818     0.724731       0.299207     0.043888     0.392821   \n",
       "std       131.121509     0.191092       0.223852     0.050290     0.090498   \n",
       "min        14.966588     0.000000       0.105263     0.000000     0.056594   \n",
       "25%       148.742572     0.795605       0.105263     0.029387     0.360931   \n",
       "50%       191.302979     0.795605       0.263158     0.038795     0.378316   \n",
       "75%       253.468459     0.795605       0.368421     0.048611     0.432743   \n",
       "max      1026.711897     1.000000       1.000000     1.000000     0.847310   \n",
       "\n",
       "       Price_per_m^2_norm          EVI  \n",
       "count         1168.000000  1168.000000  \n",
       "mean             0.207414     0.380968  \n",
       "std              0.129599     0.103603  \n",
       "min              0.000000     0.047745  \n",
       "25%              0.132223     0.329611  \n",
       "50%              0.174289     0.370041  \n",
       "75%              0.235733     0.413595  \n",
       "max              1.000000     0.905780  "
      ]
     },
     "execution_count": 9,
     "metadata": {},
     "output_type": "execute_result"
    }
   ],
   "source": [
    "df.describe()"
   ]
  },
  {
   "cell_type": "code",
   "execution_count": 10,
   "id": "74c696c3",
   "metadata": {},
   "outputs": [
    {
     "name": "stdout",
     "output_type": "stream",
     "text": [
      "\n",
      "Variabile numerice (11): ['MSSubClass', 'LotFrontage', 'LotArea', 'LotArea_m^2', 'Price_per_m^2', 'ZoningScore', 'SubClassScore', 'LotAreaNorm', 'PDI', 'Price_per_m^2_norm']\n",
      "Variabile categorice (10): ['MSZoning', 'Street', 'LotShape', 'LandContour', 'Utilities', 'LotConfig', 'LandSlope', 'Neighborhood', 'Condition1', 'Condition2']\n"
     ]
    }
   ],
   "source": [
    "numeric_cols = df.select_dtypes(include=[np.number]).columns.tolist()\n",
    "categorical_cols = df.select_dtypes(include=['object']).columns.tolist()\n",
    "\n",
    "if 'SalePrice' in numeric_cols:\n",
    "    numeric_cols.remove('SalePrice')\n",
    "\n",
    "print(f\"\\nVariabile numerice ({len(numeric_cols)}): {numeric_cols[:10]}\")\n",
    "print(f\"Variabile categorice ({len(categorical_cols)}): {categorical_cols}\")"
   ]
  },
  {
   "cell_type": "code",
   "execution_count": 11,
   "id": "28ef87d2",
   "metadata": {},
   "outputs": [
    {
     "name": "stdout",
     "output_type": "stream",
     "text": [
      "MSZoning: 5 categorii unice\n",
      "Street: 2 categorii unice\n",
      "LotShape: 4 categorii unice\n",
      "LandContour: 4 categorii unice\n",
      "Utilities: 2 categorii unice\n",
      "LotConfig: 5 categorii unice\n",
      "LandSlope: 3 categorii unice\n",
      "Neighborhood: 25 categorii unice\n",
      "Condition1: 9 categorii unice\n",
      "Condition2: 8 categorii unice\n"
     ]
    }
   ],
   "source": [
    "for col in categorical_cols:\n",
    "    n_unique = df[col].nunique()\n",
    "    print(f\"{col}: {n_unique} categorii unice\")"
   ]
  },
  {
   "cell_type": "code",
   "execution_count": 12,
   "id": "b6ad42e8",
   "metadata": {},
   "outputs": [
    {
     "name": "stdout",
     "output_type": "stream",
     "text": [
      "\n",
      "Coloane eliminate: ['Neighborhood']\n"
     ]
    }
   ],
   "source": [
    "max_categories = 10\n",
    "cols_to_drop= [col for col in categorical_cols if df[col].nunique() > max_categories]\n",
    "print(f\"\\nColoane eliminate: {cols_to_drop}\")"
   ]
  },
  {
   "cell_type": "code",
   "execution_count": 13,
   "id": "422e7ea6",
   "metadata": {},
   "outputs": [
    {
     "name": "stdout",
     "output_type": "stream",
     "text": [
      "Index(['MSSubClass', 'MSZoning', 'LotFrontage', 'LotArea', 'Street',\n",
      "       'LotShape', 'LandContour', 'Utilities', 'LotConfig', 'LandSlope',\n",
      "       'Condition1', 'Condition2', 'SalePrice', 'LotArea_m^2', 'Price_per_m^2',\n",
      "       'ZoningScore', 'SubClassScore', 'LotAreaNorm', 'PDI',\n",
      "       'Price_per_m^2_norm', 'EVI'],\n",
      "      dtype='object')\n"
     ]
    }
   ],
   "source": [
    "df_subset = df.copy()\n",
    "df_subset = df_subset.drop(columns=cols_to_drop)\n",
    "categorical_cols = [col for col in categorical_cols if col not in cols_to_drop]\n",
    "print(df_subset.columns)"
   ]
  },
  {
   "cell_type": "code",
   "execution_count": 14,
   "id": "77716d73",
   "metadata": {},
   "outputs": [
    {
     "name": "stdout",
     "output_type": "stream",
     "text": [
      "Coloane după encoding: 45\n",
      "Noi coloane create: 24\n"
     ]
    }
   ],
   "source": [
    "df_subset_encoded = pd.get_dummies(df_subset, columns=categorical_cols, drop_first=True)\n",
    "\n",
    "print(f\"Coloane după encoding: {df_subset_encoded.shape[1]}\")\n",
    "print(f\"Noi coloane create: {df_subset_encoded.shape[1] - df_subset.shape[1]}\")"
   ]
  },
  {
   "cell_type": "markdown",
   "id": "29f7370d",
   "metadata": {},
   "source": [
    "Am ales să folosesc modelul Decision Tree, fiindcă datele nu prezintă o relație liniară clară. Arborii de decizie pot surprinde mai bine legături neliniare și pot oferi rezultate mai bune în astfel de situații."
   ]
  },
  {
   "cell_type": "code",
   "execution_count": 15,
   "id": "23f9f69d",
   "metadata": {},
   "outputs": [
    {
     "name": "stdout",
     "output_type": "stream",
     "text": [
      "SalePrice             1.000000\n",
      "LotFrontage           0.322751\n",
      "ZoningScore           0.310521\n",
      "EVI                   0.299640\n",
      "MSZoning_RM           0.279680\n",
      "LotArea               0.266204\n",
      "LotArea_m^2           0.266204\n",
      "LotAreaNorm           0.266204\n",
      "Price_per_m^2         0.265210\n",
      "Price_per_m^2_norm    0.265210\n",
      "LotShape_Reg          0.251103\n",
      "PDI                   0.241289\n",
      "MSZoning_RL           0.224214\n",
      "LotConfig_CulDSac     0.150660\n",
      "LandContour_HLS       0.144847\n",
      "Name: SalePrice, dtype: float64\n"
     ]
    }
   ],
   "source": [
    "correlations = df_subset_encoded.corr()['SalePrice'].abs().sort_values(ascending=False)\n",
    "print(correlations.head(15))"
   ]
  },
  {
   "cell_type": "code",
   "execution_count": 16,
   "id": "68d7dd49",
   "metadata": {},
   "outputs": [
    {
     "name": "stdout",
     "output_type": "stream",
     "text": [
      "\n",
      "Număr de variabile selectate (corelație > 0.1): 17\n",
      "Variabile selectate: ['LotFrontage', 'ZoningScore', 'EVI', 'MSZoning_RM', 'LotArea', 'LotArea_m^2', 'LotAreaNorm', 'Price_per_m^2', 'Price_per_m^2_norm', 'LotShape_Reg']\n"
     ]
    }
   ],
   "source": [
    "trashhold = 0.1\n",
    "\n",
    "in_use_features = correlations[correlations > trashhold].index.to_list()\n",
    "in_use_features.remove('SalePrice')\n",
    "\n",
    "print(f\"\\nNumăr de variabile selectate (corelație > {trashhold}): {len(in_use_features)}\")\n",
    "print(f\"Variabile selectate: {in_use_features[:10]}\")"
   ]
  },
  {
   "cell_type": "code",
   "execution_count": 17,
   "id": "24abf7ea",
   "metadata": {},
   "outputs": [
    {
     "name": "stdout",
     "output_type": "stream",
     "text": [
      "\n",
      "Dimensiuni finale:\n",
      "  X (features): (1168, 17)\n",
      "  y (target): (1168,)\n"
     ]
    }
   ],
   "source": [
    "X = df_subset_encoded[in_use_features]\n",
    "Y = df_subset_encoded['SalePrice']\n",
    "print(f\"\\nDimensiuni finale:\")\n",
    "print(f\"  X (features): {X.shape}\")\n",
    "print(f\"  y (target): {Y.shape}\")"
   ]
  },
  {
   "cell_type": "code",
   "execution_count": 36,
   "id": "3a7fc5eb",
   "metadata": {},
   "outputs": [],
   "source": [
    "X_train, X_test, Y_train, Y_test = train_test_split(X, Y, test_size=0.2, random_state=21)"
   ]
  },
  {
   "cell_type": "code",
   "execution_count": 37,
   "id": "50560a41",
   "metadata": {},
   "outputs": [
    {
     "name": "stdout",
     "output_type": "stream",
     "text": [
      "R²:   0.856\n",
      "MSE:  815,740,405\n",
      "RMSE: 28,561\n",
      "MAE:  13,717\n"
     ]
    }
   ],
   "source": [
    "decision_tree = DecisionTreeRegressor(max_depth=10, random_state=42, min_samples_split=8)\n",
    "decision_tree.fit(X_train, Y_train)\n",
    "Y_predicated = decision_tree.predict(X_test)\n",
    "\n",
    "r2  = r2_score(Y_test, Y_predicated)\n",
    "mse = mean_squared_error(Y_test, Y_predicated)\n",
    "rmse= np.sqrt(mse)\n",
    "mae = mean_absolute_error(Y_test, Y_predicated)\n",
    "\n",
    "print(f\"R²:   {r2:.3f}\")\n",
    "print(f\"MSE:  {mse:,.0f}\")\n",
    "print(f\"RMSE: {rmse:,.0f}\")\n",
    "print(f\"MAE:  {mae:,.0f}\")"
   ]
  },
  {
   "cell_type": "code",
   "execution_count": 38,
   "id": "e6bde489",
   "metadata": {},
   "outputs": [
    {
     "name": "stdout",
     "output_type": "stream",
     "text": [
      "\n",
      "Best parameters found:\n",
      "{'criterion': 'squared_error', 'max_depth': None, 'min_samples_leaf': 1, 'min_samples_split': 2, 'splitter': 'best'}\n"
     ]
    }
   ],
   "source": [
    "from sklearn.model_selection import GridSearchCV\n",
    "\n",
    "\n",
    "param_grid = {\n",
    "    \"criterion\": [\"squared_error\", \"friedman_mse\", \"absolute_error\"],\n",
    "    \"max_depth\": [None, 3, 5, 7, 10, 12, 15],\n",
    "    \"min_samples_split\": [2, 4, 6, 8, 10],\n",
    "    \"min_samples_leaf\": [1, 2, 4, 6],\n",
    "    \"splitter\": [\"best\", \"random\"]\n",
    "}\n",
    "scoring = {\n",
    "    \"R2\": make_scorer(r2_score),\n",
    "    \"MSE\": make_scorer(mean_squared_error, greater_is_better=False),  \n",
    "    \"MAE\": make_scorer(mean_absolute_error, greater_is_better=False)  \n",
    "}\n",
    "\n",
    "decision_tree = DecisionTreeRegressor(random_state=42)\n",
    "grid = GridSearchCV(\n",
    "    estimator=decision_tree,\n",
    "    param_grid=param_grid,\n",
    "    scoring=scoring,\n",
    "    cv=5,\n",
    "    refit=\"R2\"\n",
    ")\n",
    "\n",
    "grid.fit(X_train, Y_train)\n",
    "\n",
    "print(\"\\nBest parameters found:\")\n",
    "print(grid.best_params_)"
   ]
  },
  {
   "cell_type": "code",
   "execution_count": 39,
   "id": "e819ceb2",
   "metadata": {},
   "outputs": [
    {
     "name": "stdout",
     "output_type": "stream",
     "text": [
      "\n",
      "Rezultate model optim:\n",
      "R²:   0.879\n",
      "MSE:  683,962,045\n",
      "RMSE: 26,153\n",
      "MAE:  12,612\n"
     ]
    }
   ],
   "source": [
    "best_dt = grid.best_estimator_\n",
    "y_pred = best_dt.predict(X_test)\n",
    "\n",
    "r2  = r2_score(Y_test, y_pred)\n",
    "mse = mean_squared_error(Y_test, y_pred)\n",
    "mae = mean_absolute_error(Y_test, y_pred)\n",
    "rmse = np.sqrt(mse)\n",
    "\n",
    "print(f\"\\nRezultate model optim:\")\n",
    "print(f\"R²:   {r2:.3f}\")\n",
    "print(f\"MSE:  {mse:,.0f}\")\n",
    "print(f\"RMSE: {rmse:,.0f}\")\n",
    "print(f\"MAE:  {mae:,.0f}\")"
   ]
  },
  {
   "cell_type": "markdown",
   "id": "cd44b795",
   "metadata": {},
   "source": [
    "### **7. Interpretarea rezultatelor**\n",
    "\n",
    "Modelul **Decision Tree** s-a descurcat foarte bine încă de la început, obținând un **R² de 0.856** și o eroare medie de aproximativ **13.700 $**.\n",
    "\n",
    "După reglarea hiperparametrilor cu **GridSearchCV**, performanța a crescut și mai mult — modelul a ajuns la un **R² de 0.879**, cu erori mai mici (RMSE = 26.000, MAE = 12.600).\n",
    "\n",
    "Pe scurt, fine-tuning-ul a făcut modelul mai precis și mai stabil în predicții.\n",
    "Cei mai importanți factori care influențează prețul au fost **LotFrontage**, **ZoningScore**, **EVI**, **LotArea** și **LotShape_Reg** — practic, contează cel mai mult mărimea terenului și zona în care se află proprietatea.\n"
   ]
  }
 ],
 "metadata": {
  "kernelspec": {
   "display_name": "venv (3.12.0)",
   "language": "python",
   "name": "python3"
  },
  "language_info": {
   "codemirror_mode": {
    "name": "ipython",
    "version": 3
   },
   "file_extension": ".py",
   "mimetype": "text/x-python",
   "name": "python",
   "nbconvert_exporter": "python",
   "pygments_lexer": "ipython3",
   "version": "3.12.0"
  }
 },
 "nbformat": 4,
 "nbformat_minor": 5
}

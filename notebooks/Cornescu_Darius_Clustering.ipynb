{
 "cells": [
  {
   "cell_type": "code",
   "execution_count": 10,
   "id": "df7bc6ea",
   "metadata": {},
   "outputs": [],
   "source": [
    "import pandas as pd\n",
    "import numpy as np\n",
    "import matplotlib.pyplot as plt\n",
    "import seaborn as sns\n",
    "from sklearn.preprocessing import StandardScaler\n",
    "from sklearn.cluster import KMeans\n",
    "import plotly.express as px\n"
   ]
  },
  {
   "cell_type": "code",
   "execution_count": 2,
   "id": "ddb2c55f",
   "metadata": {},
   "outputs": [
    {
     "data": {
      "text/html": [
       "<div>\n",
       "<style scoped>\n",
       "    .dataframe tbody tr th:only-of-type {\n",
       "        vertical-align: middle;\n",
       "    }\n",
       "\n",
       "    .dataframe tbody tr th {\n",
       "        vertical-align: top;\n",
       "    }\n",
       "\n",
       "    .dataframe thead th {\n",
       "        text-align: right;\n",
       "    }\n",
       "</style>\n",
       "<table border=\"1\" class=\"dataframe\">\n",
       "  <thead>\n",
       "    <tr style=\"text-align: right;\">\n",
       "      <th></th>\n",
       "      <th>LotFrontage</th>\n",
       "      <th>ZoningScore</th>\n",
       "      <th>EVI</th>\n",
       "      <th>LotArea</th>\n",
       "      <th>Price_per_m^2_norm</th>\n",
       "      <th>PDI</th>\n",
       "      <th>MSZoning_RL</th>\n",
       "      <th>LotConfig_CulDSac</th>\n",
       "      <th>LandContour_HLS</th>\n",
       "      <th>LotShape_IR2</th>\n",
       "      <th>Condition1_Norm</th>\n",
       "      <th>Condition1_Feedr</th>\n",
       "      <th>LotShape_Reg</th>\n",
       "      <th>MSZoning_RM</th>\n",
       "      <th>SalePrice</th>\n",
       "    </tr>\n",
       "  </thead>\n",
       "  <tbody>\n",
       "    <tr>\n",
       "      <th>0</th>\n",
       "      <td>70.0</td>\n",
       "      <td>0.795605</td>\n",
       "      <td>0.344162</td>\n",
       "      <td>8400</td>\n",
       "      <td>0.168856</td>\n",
       "      <td>0.359777</td>\n",
       "      <td>True</td>\n",
       "      <td>False</td>\n",
       "      <td>False</td>\n",
       "      <td>False</td>\n",
       "      <td>True</td>\n",
       "      <td>False</td>\n",
       "      <td>True</td>\n",
       "      <td>False</td>\n",
       "      <td>145000</td>\n",
       "    </tr>\n",
       "    <tr>\n",
       "      <th>1</th>\n",
       "      <td>59.0</td>\n",
       "      <td>0.795605</td>\n",
       "      <td>0.415263</td>\n",
       "      <td>7837</td>\n",
       "      <td>0.226847</td>\n",
       "      <td>0.422145</td>\n",
       "      <td>True</td>\n",
       "      <td>False</td>\n",
       "      <td>False</td>\n",
       "      <td>False</td>\n",
       "      <td>True</td>\n",
       "      <td>False</td>\n",
       "      <td>False</td>\n",
       "      <td>False</td>\n",
       "      <td>178000</td>\n",
       "    </tr>\n",
       "    <tr>\n",
       "      <th>2</th>\n",
       "      <td>67.0</td>\n",
       "      <td>0.795605</td>\n",
       "      <td>0.314380</td>\n",
       "      <td>8777</td>\n",
       "      <td>0.088239</td>\n",
       "      <td>0.376095</td>\n",
       "      <td>True</td>\n",
       "      <td>False</td>\n",
       "      <td>False</td>\n",
       "      <td>False</td>\n",
       "      <td>False</td>\n",
       "      <td>True</td>\n",
       "      <td>True</td>\n",
       "      <td>False</td>\n",
       "      <td>85000</td>\n",
       "    </tr>\n",
       "    <tr>\n",
       "      <th>3</th>\n",
       "      <td>60.0</td>\n",
       "      <td>0.795605</td>\n",
       "      <td>0.413210</td>\n",
       "      <td>7200</td>\n",
       "      <td>0.243793</td>\n",
       "      <td>0.405462</td>\n",
       "      <td>True</td>\n",
       "      <td>False</td>\n",
       "      <td>False</td>\n",
       "      <td>False</td>\n",
       "      <td>False</td>\n",
       "      <td>True</td>\n",
       "      <td>True</td>\n",
       "      <td>False</td>\n",
       "      <td>175000</td>\n",
       "    </tr>\n",
       "    <tr>\n",
       "      <th>4</th>\n",
       "      <td>50.0</td>\n",
       "      <td>0.795605</td>\n",
       "      <td>0.419031</td>\n",
       "      <td>5000</td>\n",
       "      <td>0.255437</td>\n",
       "      <td>0.402378</td>\n",
       "      <td>True</td>\n",
       "      <td>False</td>\n",
       "      <td>False</td>\n",
       "      <td>False</td>\n",
       "      <td>True</td>\n",
       "      <td>False</td>\n",
       "      <td>True</td>\n",
       "      <td>False</td>\n",
       "      <td>127000</td>\n",
       "    </tr>\n",
       "  </tbody>\n",
       "</table>\n",
       "</div>"
      ],
      "text/plain": [
       "   LotFrontage  ZoningScore       EVI  LotArea  Price_per_m^2_norm       PDI  \\\n",
       "0         70.0     0.795605  0.344162     8400            0.168856  0.359777   \n",
       "1         59.0     0.795605  0.415263     7837            0.226847  0.422145   \n",
       "2         67.0     0.795605  0.314380     8777            0.088239  0.376095   \n",
       "3         60.0     0.795605  0.413210     7200            0.243793  0.405462   \n",
       "4         50.0     0.795605  0.419031     5000            0.255437  0.402378   \n",
       "\n",
       "   MSZoning_RL  LotConfig_CulDSac  LandContour_HLS  LotShape_IR2  \\\n",
       "0         True              False            False         False   \n",
       "1         True              False            False         False   \n",
       "2         True              False            False         False   \n",
       "3         True              False            False         False   \n",
       "4         True              False            False         False   \n",
       "\n",
       "   Condition1_Norm  Condition1_Feedr  LotShape_Reg  MSZoning_RM  SalePrice  \n",
       "0             True             False          True        False     145000  \n",
       "1             True             False         False        False     178000  \n",
       "2            False              True          True        False      85000  \n",
       "3            False              True          True        False     175000  \n",
       "4             True             False          True        False     127000  "
      ]
     },
     "execution_count": 2,
     "metadata": {},
     "output_type": "execute_result"
    }
   ],
   "source": [
    "df = pd.read_csv(\"selected_features.csv\")\n",
    "df.head()\n"
   ]
  },
  {
   "cell_type": "code",
   "execution_count": 3,
   "id": "c104f0f2",
   "metadata": {},
   "outputs": [],
   "source": [
    "X = df.drop(columns=[\"SalePrice\"])\n",
    "Y = df[\"SalePrice\"]\n",
    "\n",
    "scaler = StandardScaler()\n",
    "X_scaled = scaler.fit_transform(X)\n"
   ]
  },
  {
   "cell_type": "code",
   "execution_count": 21,
   "id": "a52e4e2a",
   "metadata": {},
   "outputs": [
    {
     "data": {
      "image/png": "[encoded data removed]",
      "text/plain": [
       "<Figure size 700x400 with 1 Axes>"
      ]
     },
     "metadata": {},
     "output_type": "display_data"
    }
   ],
   "source": [
    "inertia = []\n",
    "K = range(2, 20)\n",
    "\n",
    "for k in K:\n",
    "    kmeans = KMeans(n_clusters=k, random_state=42)\n",
    "    kmeans.fit(X_scaled)\n",
    "    inertia.append(kmeans.inertia_)\n",
    "\n",
    "plt.figure(figsize=(7,4))\n",
    "plt.plot(K, inertia, marker='o')\n",
    "plt.title(\"Elbow Method for Optimal k\")\n",
    "plt.xlabel(\"Number of Clusters (k)\")\n",
    "plt.ylabel(\"Inertia\")\n",
    "plt.grid(True)\n",
    "plt.show()\n"
   ]
  },
  {
   "cell_type": "code",
   "execution_count": 22,
   "id": "a213ea1f",
   "metadata": {},
   "outputs": [],
   "source": [
    "kmeans = KMeans(n_clusters=10, random_state=42)\n",
    "df[\"Cluster\"] = kmeans.fit_predict(X_scaled)\n"
   ]
  },
  {
   "cell_type": "code",
   "execution_count": 23,
   "id": "2c66085d",
   "metadata": {},
   "outputs": [
    {
     "name": "stdout",
     "output_type": "stream",
     "text": [
      "                  mean    median            std  count\n",
      "Cluster                                               \n",
      "0        180313.221030  165000.0   74525.806588    466\n",
      "1        212817.828947  189000.0   88037.846906     76\n",
      "2        131163.636364  122000.0   76400.845947     33\n",
      "3        149018.944444  143500.0   38282.994847     54\n",
      "4        117072.571429  113000.0   29667.551728     35\n",
      "5        295737.500000  289500.0   60919.145526      4\n",
      "6        203963.355172  188750.0   77489.880289    290\n",
      "7        125905.147826  124900.0   38367.034780    115\n",
      "8        249216.696970  239000.0  104503.643552     33\n",
      "9        197017.354839  175700.0   51723.431618     62\n"
     ]
    }
   ],
   "source": [
    "cluster_summary = df.groupby(\"Cluster\")[\"SalePrice\"].agg([\"mean\", \"median\", \"std\", \"count\"])\n",
    "print(cluster_summary)\n"
   ]
  },
  {
   "cell_type": "code",
   "execution_count": 24,
   "id": "f37a0782",
   "metadata": {},
   "outputs": [
    {
     "data": {
      "text/html": [
       "<div>\n",
       "<style scoped>\n",
       "    .dataframe tbody tr th:only-of-type {\n",
       "        vertical-align: middle;\n",
       "    }\n",
       "\n",
       "    .dataframe tbody tr th {\n",
       "        vertical-align: top;\n",
       "    }\n",
       "\n",
       "    .dataframe thead th {\n",
       "        text-align: right;\n",
       "    }\n",
       "</style>\n",
       "<table border=\"1\" class=\"dataframe\">\n",
       "  <thead>\n",
       "    <tr style=\"text-align: right;\">\n",
       "      <th></th>\n",
       "      <th>LotFrontage</th>\n",
       "      <th>ZoningScore</th>\n",
       "      <th>EVI</th>\n",
       "      <th>LotArea</th>\n",
       "      <th>Price_per_m^2_norm</th>\n",
       "      <th>PDI</th>\n",
       "      <th>MSZoning_RL</th>\n",
       "      <th>LotConfig_CulDSac</th>\n",
       "      <th>LandContour_HLS</th>\n",
       "      <th>LotShape_IR2</th>\n",
       "      <th>Condition1_Norm</th>\n",
       "      <th>Condition1_Feedr</th>\n",
       "      <th>LotShape_Reg</th>\n",
       "      <th>MSZoning_RM</th>\n",
       "    </tr>\n",
       "    <tr>\n",
       "      <th>Cluster</th>\n",
       "      <th></th>\n",
       "      <th></th>\n",
       "      <th></th>\n",
       "      <th></th>\n",
       "      <th></th>\n",
       "      <th></th>\n",
       "      <th></th>\n",
       "      <th></th>\n",
       "      <th></th>\n",
       "      <th></th>\n",
       "      <th></th>\n",
       "      <th></th>\n",
       "      <th></th>\n",
       "      <th></th>\n",
       "    </tr>\n",
       "  </thead>\n",
       "  <tbody>\n",
       "    <tr>\n",
       "      <th>0</th>\n",
       "      <td>75.254341</td>\n",
       "      <td>0.805125</td>\n",
       "      <td>0.377793</td>\n",
       "      <td>10396.515021</td>\n",
       "      <td>0.176352</td>\n",
       "      <td>0.406926</td>\n",
       "      <td>0.946352</td>\n",
       "      <td>0.000000</td>\n",
       "      <td>0.000000</td>\n",
       "      <td>0.000000</td>\n",
       "      <td>0.907725</td>\n",
       "      <td>0.000000</td>\n",
       "      <td>1.000000</td>\n",
       "      <td>0.000000</td>\n",
       "    </tr>\n",
       "    <tr>\n",
       "      <th>1</th>\n",
       "      <td>66.870796</td>\n",
       "      <td>0.795605</td>\n",
       "      <td>0.375172</td>\n",
       "      <td>14053.855263</td>\n",
       "      <td>0.167302</td>\n",
       "      <td>0.415385</td>\n",
       "      <td>1.000000</td>\n",
       "      <td>1.000000</td>\n",
       "      <td>0.000000</td>\n",
       "      <td>0.131579</td>\n",
       "      <td>0.855263</td>\n",
       "      <td>0.000000</td>\n",
       "      <td>0.013158</td>\n",
       "      <td>0.000000</td>\n",
       "    </tr>\n",
       "    <tr>\n",
       "      <th>2</th>\n",
       "      <td>69.382546</td>\n",
       "      <td>0.302287</td>\n",
       "      <td>0.234147</td>\n",
       "      <td>8550.636364</td>\n",
       "      <td>0.150399</td>\n",
       "      <td>0.233474</td>\n",
       "      <td>0.000000</td>\n",
       "      <td>0.000000</td>\n",
       "      <td>0.030303</td>\n",
       "      <td>0.060606</td>\n",
       "      <td>0.000000</td>\n",
       "      <td>0.333333</td>\n",
       "      <td>0.606061</td>\n",
       "      <td>0.909091</td>\n",
       "    </tr>\n",
       "    <tr>\n",
       "      <th>3</th>\n",
       "      <td>77.252288</td>\n",
       "      <td>0.778236</td>\n",
       "      <td>0.358906</td>\n",
       "      <td>11280.759259</td>\n",
       "      <td>0.152820</td>\n",
       "      <td>0.398828</td>\n",
       "      <td>0.962963</td>\n",
       "      <td>0.000000</td>\n",
       "      <td>0.000000</td>\n",
       "      <td>0.037037</td>\n",
       "      <td>0.000000</td>\n",
       "      <td>1.000000</td>\n",
       "      <td>0.722222</td>\n",
       "      <td>0.000000</td>\n",
       "    </tr>\n",
       "    <tr>\n",
       "      <th>4</th>\n",
       "      <td>27.207937</td>\n",
       "      <td>0.311194</td>\n",
       "      <td>0.523580</td>\n",
       "      <td>2462.800000</td>\n",
       "      <td>0.528413</td>\n",
       "      <td>0.375131</td>\n",
       "      <td>0.000000</td>\n",
       "      <td>0.000000</td>\n",
       "      <td>0.000000</td>\n",
       "      <td>0.000000</td>\n",
       "      <td>1.000000</td>\n",
       "      <td>0.000000</td>\n",
       "      <td>1.000000</td>\n",
       "      <td>0.971429</td>\n",
       "    </tr>\n",
       "    <tr>\n",
       "      <th>5</th>\n",
       "      <td>98.535714</td>\n",
       "      <td>0.795605</td>\n",
       "      <td>0.314940</td>\n",
       "      <td>163513.500000</td>\n",
       "      <td>0.005148</td>\n",
       "      <td>0.656229</td>\n",
       "      <td>1.000000</td>\n",
       "      <td>0.500000</td>\n",
       "      <td>0.250000</td>\n",
       "      <td>0.500000</td>\n",
       "      <td>1.000000</td>\n",
       "      <td>0.000000</td>\n",
       "      <td>0.000000</td>\n",
       "      <td>0.000000</td>\n",
       "    </tr>\n",
       "    <tr>\n",
       "      <th>6</th>\n",
       "      <td>78.829267</td>\n",
       "      <td>0.798424</td>\n",
       "      <td>0.379994</td>\n",
       "      <td>11746.237931</td>\n",
       "      <td>0.182567</td>\n",
       "      <td>0.407793</td>\n",
       "      <td>0.986207</td>\n",
       "      <td>0.000000</td>\n",
       "      <td>0.000000</td>\n",
       "      <td>0.051724</td>\n",
       "      <td>0.931034</td>\n",
       "      <td>0.000000</td>\n",
       "      <td>0.000000</td>\n",
       "      <td>0.000000</td>\n",
       "    </tr>\n",
       "    <tr>\n",
       "      <th>7</th>\n",
       "      <td>58.666250</td>\n",
       "      <td>0.303602</td>\n",
       "      <td>0.249986</td>\n",
       "      <td>7440.800000</td>\n",
       "      <td>0.180328</td>\n",
       "      <td>0.233164</td>\n",
       "      <td>0.000000</td>\n",
       "      <td>0.000000</td>\n",
       "      <td>0.000000</td>\n",
       "      <td>0.008696</td>\n",
       "      <td>1.000000</td>\n",
       "      <td>0.000000</td>\n",
       "      <td>0.965217</td>\n",
       "      <td>0.913043</td>\n",
       "    </tr>\n",
       "    <tr>\n",
       "      <th>8</th>\n",
       "      <td>80.262626</td>\n",
       "      <td>0.723105</td>\n",
       "      <td>0.395702</td>\n",
       "      <td>12957.666667</td>\n",
       "      <td>0.245580</td>\n",
       "      <td>0.389560</td>\n",
       "      <td>0.848485</td>\n",
       "      <td>0.151515</td>\n",
       "      <td>1.000000</td>\n",
       "      <td>0.060606</td>\n",
       "      <td>0.909091</td>\n",
       "      <td>0.030303</td>\n",
       "      <td>0.242424</td>\n",
       "      <td>0.090909</td>\n",
       "    </tr>\n",
       "    <tr>\n",
       "      <th>9</th>\n",
       "      <td>44.452727</td>\n",
       "      <td>0.878022</td>\n",
       "      <td>0.672706</td>\n",
       "      <td>4053.951613</td>\n",
       "      <td>0.545934</td>\n",
       "      <td>0.559570</td>\n",
       "      <td>0.596774</td>\n",
       "      <td>0.016129</td>\n",
       "      <td>0.000000</td>\n",
       "      <td>0.048387</td>\n",
       "      <td>1.000000</td>\n",
       "      <td>0.000000</td>\n",
       "      <td>0.790323</td>\n",
       "      <td>0.000000</td>\n",
       "    </tr>\n",
       "  </tbody>\n",
       "</table>\n",
       "</div>"
      ],
      "text/plain": [
       "         LotFrontage  ZoningScore       EVI        LotArea  \\\n",
       "Cluster                                                      \n",
       "0          75.254341     0.805125  0.377793   10396.515021   \n",
       "1          66.870796     0.795605  0.375172   14053.855263   \n",
       "2          69.382546     0.302287  0.234147    8550.636364   \n",
       "3          77.252288     0.778236  0.358906   11280.759259   \n",
       "4          27.207937     0.311194  0.523580    2462.800000   \n",
       "5          98.535714     0.795605  0.314940  163513.500000   \n",
       "6          78.829267     0.798424  0.379994   11746.237931   \n",
       "7          58.666250     0.303602  0.249986    7440.800000   \n",
       "8          80.262626     0.723105  0.395702   12957.666667   \n",
       "9          44.452727     0.878022  0.672706    4053.951613   \n",
       "\n",
       "         Price_per_m^2_norm       PDI  MSZoning_RL  LotConfig_CulDSac  \\\n",
       "Cluster                                                                 \n",
       "0                  0.176352  0.406926     0.946352           0.000000   \n",
       "1                  0.167302  0.415385     1.000000           1.000000   \n",
       "2                  0.150399  0.233474     0.000000           0.000000   \n",
       "3                  0.152820  0.398828     0.962963           0.000000   \n",
       "4                  0.528413  0.375131     0.000000           0.000000   \n",
       "5                  0.005148  0.656229     1.000000           0.500000   \n",
       "6                  0.182567  0.407793     0.986207           0.000000   \n",
       "7                  0.180328  0.233164     0.000000           0.000000   \n",
       "8                  0.245580  0.389560     0.848485           0.151515   \n",
       "9                  0.545934  0.559570     0.596774           0.016129   \n",
       "\n",
       "         LandContour_HLS  LotShape_IR2  Condition1_Norm  Condition1_Feedr  \\\n",
       "Cluster                                                                     \n",
       "0               0.000000      0.000000         0.907725          0.000000   \n",
       "1               0.000000      0.131579         0.855263          0.000000   \n",
       "2               0.030303      0.060606         0.000000          0.333333   \n",
       "3               0.000000      0.037037         0.000000          1.000000   \n",
       "4               0.000000      0.000000         1.000000          0.000000   \n",
       "5               0.250000      0.500000         1.000000          0.000000   \n",
       "6               0.000000      0.051724         0.931034          0.000000   \n",
       "7               0.000000      0.008696         1.000000          0.000000   \n",
       "8               1.000000      0.060606         0.909091          0.030303   \n",
       "9               0.000000      0.048387         1.000000          0.000000   \n",
       "\n",
       "         LotShape_Reg  MSZoning_RM  \n",
       "Cluster                             \n",
       "0            1.000000     0.000000  \n",
       "1            0.013158     0.000000  \n",
       "2            0.606061     0.909091  \n",
       "3            0.722222     0.000000  \n",
       "4            1.000000     0.971429  \n",
       "5            0.000000     0.000000  \n",
       "6            0.000000     0.000000  \n",
       "7            0.965217     0.913043  \n",
       "8            0.242424     0.090909  \n",
       "9            0.790323     0.000000  "
      ]
     },
     "execution_count": 24,
     "metadata": {},
     "output_type": "execute_result"
    }
   ],
   "source": [
    "feature_means = df.groupby(\"Cluster\")[X.columns].mean()\n",
    "feature_means\n"
   ]
  },
  {
   "cell_type": "code",
   "execution_count": 25,
   "id": "d8989064",
   "metadata": {},
   "outputs": [
    {
     "data": {
      "application/vnd.plotly.v1+json": {
       "config": {
        "plotlyServerURL": "https://plot.ly"
       },
       "data": [
        {
         "customdata": {
          "bdata": "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",
          "dtype": "f8",
          "shape": "1168, 3"
         },
         "hovertemplate": "LotArea=%{x}<br>LotFrontage=%{y}<br>SalePrice=%{customdata[0]}<br>ZoningScore=%{customdata[1]}<br>EVI=%{customdata[2]}<br>Cluster=%{marker.color}<extra></extra>",
         "legendgroup": "",
         "marker": {
          "color": {
           "bdata": "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",
           "dtype": "i4"
          },
          "coloraxis": "coloraxis",
          "size": {
           "bdata": "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",
           "dtype": "i4"
          },
          "sizemode": "area",
          "sizeref": 1862.5,
          "symbol": "circle"
         },
         "mode": "markers",
         "name": "",
         "showlegend": false,
         "type": "scattergl",
         "x": {
          "bdata": "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",
          "dtype": "i4"
         },
         "xaxis": "x",
         "y": {
          "bdata": "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",
          "dtype": "f8"
         },
         "yaxis": "y"
        }
       ],
       "layout": {
        "coloraxis": {
         "colorbar": {
          "title": {
           "text": "Cluster"
          }
         },
         "colorscale": [
          [
           0,
           "#0d0887"
          ],
          [
           0.1111111111111111,
           "#46039f"
          ],
          [
           0.2222222222222222,
           "#7201a8"
          ],
          [
           0.3333333333333333,
           "#9c179e"
          ],
          [
           0.4444444444444444,
           "#bd3786"
          ],
          [
           0.5555555555555556,
           "#d8576b"
          ],
          [
           0.6666666666666666,
           "#ed7953"
          ],
          [
           0.7777777777777778,
           "#fb9f3a"
          ],
          [
           0.8888888888888888,
           "#fdca26"
          ],
          [
           1,
           "#f0f921"
          ]
         ]
        },
        "legend": {
         "itemsizing": "constant",
         "tracegroupgap": 0
        },
        "template": {
         "data": {
          "bar": [
           {
            "error_x": {
             "color": "#2a3f5f"
            },
            "error_y": {
             "color": "#2a3f5f"
            },
            "marker": {
             "line": {
              "color": "#E5ECF6",
              "width": 0.5
             },
             "pattern": {
              "fillmode": "overlay",
              "size": 10,
              "solidity": 0.2
             }
            },
            "type": "bar"
           }
          ],
          "barpolar": [
           {
            "marker": {
             "line": {
              "color": "#E5ECF6",
              "width": 0.5
             },
             "pattern": {
              "fillmode": "overlay",
              "size": 10,
              "solidity": 0.2
             }
            },
            "type": "barpolar"
           }
          ],
          "carpet": [
           {
            "aaxis": {
             "endlinecolor": "#2a3f5f",
             "gridcolor": "white",
             "linecolor": "white",
             "minorgridcolor": "white",
             "startlinecolor": "#2a3f5f"
            },
            "baxis": {
             "endlinecolor": "#2a3f5f",
             "gridcolor": "white",
             "linecolor": "white",
             "minorgridcolor": "white",
             "startlinecolor": "#2a3f5f"
            },
            "type": "carpet"
           }
          ],
          "choropleth": [
           {
            "colorbar": {
             "outlinewidth": 0,
             "ticks": ""
            },
            "type": "choropleth"
           }
          ],
          "contour": [
           {
            "colorbar": {
             "outlinewidth": 0,
             "ticks": ""
            },
            "colorscale": [
             [
              0,
              "#0d0887"
             ],
             [
              0.1111111111111111,
              "#46039f"
             ],
             [
              0.2222222222222222,
              "#7201a8"
             ],
             [
              0.3333333333333333,
              "#9c179e"
             ],
             [
              0.4444444444444444,
              "#bd3786"
             ],
             [
              0.5555555555555556,
              "#d8576b"
             ],
             [
              0.6666666666666666,
              "#ed7953"
             ],
             [
              0.7777777777777778,
              "#fb9f3a"
             ],
             [
              0.8888888888888888,
              "#fdca26"
             ],
             [
              1,
              "#f0f921"
             ]
            ],
            "type": "contour"
           }
          ],
          "contourcarpet": [
           {
            "colorbar": {
             "outlinewidth": 0,
             "ticks": ""
            },
            "type": "contourcarpet"
           }
          ],
          "heatmap": [
           {
            "colorbar": {
             "outlinewidth": 0,
             "ticks": ""
            },
            "colorscale": [
             [
              0,
              "#0d0887"
             ],
             [
              0.1111111111111111,
              "#46039f"
             ],
             [
              0.2222222222222222,
              "#7201a8"
             ],
             [
              0.3333333333333333,
              "#9c179e"
             ],
             [
              0.4444444444444444,
              "#bd3786"
             ],
             [
              0.5555555555555556,
              "#d8576b"
             ],
             [
              0.6666666666666666,
              "#ed7953"
             ],
             [
              0.7777777777777778,
              "#fb9f3a"
             ],
             [
              0.8888888888888888,
              "#fdca26"
             ],
             [
              1,
              "#f0f921"
             ]
            ],
            "type": "heatmap"
           }
          ],
          "histogram": [
           {
            "marker": {
             "pattern": {
              "fillmode": "overlay",
              "size": 10,
              "solidity": 0.2
             }
            },
            "type": "histogram"
           }
          ],
          "histogram2d": [
           {
            "colorbar": {
             "outlinewidth": 0,
             "ticks": ""
            },
            "colorscale": [
             [
              0,
              "#0d0887"
             ],
             [
              0.1111111111111111,
              "#46039f"
             ],
             [
              0.2222222222222222,
              "#7201a8"
             ],
             [
              0.3333333333333333,
              "#9c179e"
             ],
             [
              0.4444444444444444,
              "#bd3786"
             ],
             [
              0.5555555555555556,
              "#d8576b"
             ],
             [
              0.6666666666666666,
              "#ed7953"
             ],
             [
              0.7777777777777778,
              "#fb9f3a"
             ],
             [
              0.8888888888888888,
              "#fdca26"
             ],
             [
              1,
              "#f0f921"
             ]
            ],
            "type": "histogram2d"
           }
          ],
          "histogram2dcontour": [
           {
            "colorbar": {
             "outlinewidth": 0,
             "ticks": ""
            },
            "colorscale": [
             [
              0,
              "#0d0887"
             ],
             [
              0.1111111111111111,
              "#46039f"
             ],
             [
              0.2222222222222222,
              "#7201a8"
             ],
             [
              0.3333333333333333,
              "#9c179e"
             ],
             [
              0.4444444444444444,
              "#bd3786"
             ],
             [
              0.5555555555555556,
              "#d8576b"
             ],
             [
              0.6666666666666666,
              "#ed7953"
             ],
             [
              0.7777777777777778,
              "#fb9f3a"
             ],
             [
              0.8888888888888888,
              "#fdca26"
             ],
             [
              1,
              "#f0f921"
             ]
            ],
            "type": "histogram2dcontour"
           }
          ],
          "mesh3d": [
           {
            "colorbar": {
             "outlinewidth": 0,
             "ticks": ""
            },
            "type": "mesh3d"
           }
          ],
          "parcoords": [
           {
            "line": {
             "colorbar": {
              "outlinewidth": 0,
              "ticks": ""
             }
            },
            "type": "parcoords"
           }
          ],
          "pie": [
           {
            "automargin": true,
            "type": "pie"
           }
          ],
          "scatter": [
           {
            "fillpattern": {
             "fillmode": "overlay",
             "size": 10,
             "solidity": 0.2
            },
            "type": "scatter"
           }
          ],
          "scatter3d": [
           {
            "line": {
             "colorbar": {
              "outlinewidth": 0,
              "ticks": ""
             }
            },
            "marker": {
             "colorbar": {
              "outlinewidth": 0,
              "ticks": ""
             }
            },
            "type": "scatter3d"
           }
          ],
          "scattercarpet": [
           {
            "marker": {
             "colorbar": {
              "outlinewidth": 0,
              "ticks": ""
             }
            },
            "type": "scattercarpet"
           }
          ],
          "scattergeo": [
           {
            "marker": {
             "colorbar": {
              "outlinewidth": 0,
              "ticks": ""
             }
            },
            "type": "scattergeo"
           }
          ],
          "scattergl": [
           {
            "marker": {
             "colorbar": {
              "outlinewidth": 0,
              "ticks": ""
             }
            },
            "type": "scattergl"
           }
          ],
          "scattermap": [
           {
            "marker": {
             "colorbar": {
              "outlinewidth": 0,
              "ticks": ""
             }
            },
            "type": "scattermap"
           }
          ],
          "scattermapbox": [
           {
            "marker": {
             "colorbar": {
              "outlinewidth": 0,
              "ticks": ""
             }
            },
            "type": "scattermapbox"
           }
          ],
          "scatterpolar": [
           {
            "marker": {
             "colorbar": {
              "outlinewidth": 0,
              "ticks": ""
             }
            },
            "type": "scatterpolar"
           }
          ],
          "scatterpolargl": [
           {
            "marker": {
             "colorbar": {
              "outlinewidth": 0,
              "ticks": ""
             }
            },
            "type": "scatterpolargl"
           }
          ],
          "scatterternary": [
           {
            "marker": {
             "colorbar": {
              "outlinewidth": 0,
              "ticks": ""
             }
            },
            "type": "scatterternary"
           }
          ],
          "surface": [
           {
            "colorbar": {
             "outlinewidth": 0,
             "ticks": ""
            },
            "colorscale": [
             [
              0,
              "#0d0887"
             ],
             [
              0.1111111111111111,
              "#46039f"
             ],
             [
              0.2222222222222222,
              "#7201a8"
             ],
             [
              0.3333333333333333,
              "#9c179e"
             ],
             [
              0.4444444444444444,
              "#bd3786"
             ],
             [
              0.5555555555555556,
              "#d8576b"
             ],
             [
              0.6666666666666666,
              "#ed7953"
             ],
             [
              0.7777777777777778,
              "#fb9f3a"
             ],
             [
              0.8888888888888888,
              "#fdca26"
             ],
             [
              1,
              "#f0f921"
             ]
            ],
            "type": "surface"
           }
          ],
          "table": [
           {
            "cells": {
             "fill": {
              "color": "#EBF0F8"
             },
             "line": {
              "color": "white"
             }
            },
            "header": {
             "fill": {
              "color": "#C8D4E3"
             },
             "line": {
              "color": "white"
             }
            },
            "type": "table"
           }
          ]
         },
         "layout": {
          "annotationdefaults": {
           "arrowcolor": "#2a3f5f",
           "arrowhead": 0,
           "arrowwidth": 1
          },
          "autotypenumbers": "strict",
          "coloraxis": {
           "colorbar": {
            "outlinewidth": 0,
            "ticks": ""
           }
          },
          "colorscale": {
           "diverging": [
            [
             0,
             "#8e0152"
            ],
            [
             0.1,
             "#c51b7d"
            ],
            [
             0.2,
             "#de77ae"
            ],
            [
             0.3,
             "#f1b6da"
            ],
            [
             0.4,
             "#fde0ef"
            ],
            [
             0.5,
             "#f7f7f7"
            ],
            [
             0.6,
             "#e6f5d0"
            ],
            [
             0.7,
             "#b8e186"
            ],
            [
             0.8,
             "#7fbc41"
            ],
            [
             0.9,
             "#4d9221"
            ],
            [
             1,
             "#276419"
            ]
           ],
           "sequential": [
            [
             0,
             "#0d0887"
            ],
            [
             0.1111111111111111,
             "#46039f"
            ],
            [
             0.2222222222222222,
             "#7201a8"
            ],
            [
             0.3333333333333333,
             "#9c179e"
            ],
            [
             0.4444444444444444,
             "#bd3786"
            ],
            [
             0.5555555555555556,
             "#d8576b"
            ],
            [
             0.6666666666666666,
             "#ed7953"
            ],
            [
             0.7777777777777778,
             "#fb9f3a"
            ],
            [
             0.8888888888888888,
             "#fdca26"
            ],
            [
             1,
             "#f0f921"
            ]
           ],
           "sequentialminus": [
            [
             0,
             "#0d0887"
            ],
            [
             0.1111111111111111,
             "#46039f"
            ],
            [
             0.2222222222222222,
             "#7201a8"
            ],
            [
             0.3333333333333333,
             "#9c179e"
            ],
            [
             0.4444444444444444,
             "#bd3786"
            ],
            [
             0.5555555555555556,
             "#d8576b"
            ],
            [
             0.6666666666666666,
             "#ed7953"
            ],
            [
             0.7777777777777778,
             "#fb9f3a"
            ],
            [
             0.8888888888888888,
             "#fdca26"
            ],
            [
             1,
             "#f0f921"
            ]
           ]
          },
          "colorway": [
           "#636efa",
           "#EF553B",
           "#00cc96",
           "#ab63fa",
           "#FFA15A",
           "#19d3f3",
           "#FF6692",
           "#B6E880",
           "#FF97FF",
           "#FECB52"
          ],
          "font": {
           "color": "#2a3f5f"
          },
          "geo": {
           "bgcolor": "white",
           "lakecolor": "white",
           "landcolor": "#E5ECF6",
           "showlakes": true,
           "showland": true,
           "subunitcolor": "white"
          },
          "hoverlabel": {
           "align": "left"
          },
          "hovermode": "closest",
          "mapbox": {
           "style": "light"
          },
          "paper_bgcolor": "white",
          "plot_bgcolor": "#E5ECF6",
          "polar": {
           "angularaxis": {
            "gridcolor": "white",
            "linecolor": "white",
            "ticks": ""
           },
           "bgcolor": "#E5ECF6",
           "radialaxis": {
            "gridcolor": "white",
            "linecolor": "white",
            "ticks": ""
           }
          },
          "scene": {
           "xaxis": {
            "backgroundcolor": "#E5ECF6",
            "gridcolor": "white",
            "gridwidth": 2,
            "linecolor": "white",
            "showbackground": true,
            "ticks": "",
            "zerolinecolor": "white"
           },
           "yaxis": {
            "backgroundcolor": "#E5ECF6",
            "gridcolor": "white",
            "gridwidth": 2,
            "linecolor": "white",
            "showbackground": true,
            "ticks": "",
            "zerolinecolor": "white"
           },
           "zaxis": {
            "backgroundcolor": "#E5ECF6",
            "gridcolor": "white",
            "gridwidth": 2,
            "linecolor": "white",
            "showbackground": true,
            "ticks": "",
            "zerolinecolor": "white"
           }
          },
          "shapedefaults": {
           "line": {
            "color": "#2a3f5f"
           }
          },
          "ternary": {
           "aaxis": {
            "gridcolor": "white",
            "linecolor": "white",
            "ticks": ""
           },
           "baxis": {
            "gridcolor": "white",
            "linecolor": "white",
            "ticks": ""
           },
           "bgcolor": "#E5ECF6",
           "caxis": {
            "gridcolor": "white",
            "linecolor": "white",
            "ticks": ""
           }
          },
          "title": {
           "x": 0.05
          },
          "xaxis": {
           "automargin": true,
           "gridcolor": "white",
           "linecolor": "white",
           "ticks": "",
           "title": {
            "standoff": 15
           },
           "zerolinecolor": "white",
           "zerolinewidth": 2
          },
          "yaxis": {
           "automargin": true,
           "gridcolor": "white",
           "linecolor": "white",
           "ticks": "",
           "title": {
            "standoff": 15
           },
           "zerolinecolor": "white",
           "zerolinewidth": 2
          }
         }
        },
        "title": {
         "text": "Clusters by LotArea and LotFrontage (Plotly Interactive)"
        },
        "xaxis": {
         "anchor": "y",
         "domain": [
          0,
          1
         ],
         "title": {
          "text": "LotArea"
         }
        },
        "yaxis": {
         "anchor": "x",
         "domain": [
          0,
          1
         ],
         "title": {
          "text": "LotFrontage"
         }
        }
       }
      }
     },
     "metadata": {},
     "output_type": "display_data"
    }
   ],
   "source": [
    "fig = px.scatter(\n",
    "    df,\n",
    "    x=\"LotArea\",\n",
    "    y=\"LotFrontage\",\n",
    "    color=\"Cluster\",\n",
    "    size=\"SalePrice\",\n",
    "    hover_data=[\"SalePrice\", \"ZoningScore\", \"EVI\"],\n",
    "    title=\"Clusters by LotArea and LotFrontage (Plotly Interactive)\"\n",
    ")\n",
    "fig.show()\n"
   ]
  },
  {
   "cell_type": "code",
   "execution_count": 26,
   "id": "200969d0",
   "metadata": {},
   "outputs": [
    {
     "data": {
      "application/vnd.plotly.v1+json": {
       "config": {
        "plotlyServerURL": "https://plot.ly"
       },
       "data": [
        {
         "alignmentgroup": "True",
         "hovertemplate": "Cluster=%{x}<br>SalePrice=%{y}<extra></extra>",
         "legendgroup": "0",
         "marker": {
          "color": "#636efa"
         },
         "name": "0",
         "notched": false,
         "offsetgroup": "0",
         "orientation": "v",
         "showlegend": true,
         "type": "box",
         "x": {
          "bdata": "AAAAAAAAAAAAAAAAAAAAAAAAAAAAAAAAAAAAAAAAAAAAAAAAAAAAAAAAAAAAAAAAAAAAAAAAAAAAAAAAAAAAAAAAAAAAAAAAAAAAAAAAAAAAAAAAAAAAAAAAAAAAAAAAAAAAAAAAAAAAAAAAAAAAAAAAAAAAAAAAAAAAAAAAAAAAAAAAAAAAAAAAAAAAAAAAAAAAAAAAAAAAAAAAAAAAAAAAAAAAAAAAAAAAAAAAAAAAAAAAAAAAAAAAAAAAAAAAAAAAAAAAAAAAAAAAAAAAAAAAAAAAAAAAAAAAAAAAAAAAAAAAAAAAAAAAAAAAAAAAAAAAAAAAAAAAAAAAAAAAAAAAAAAAAAAAAAAAAAAAAAAAAAAAAAAAAAAAAAAAAAAAAAAAAAAAAAAAAAAAAAAAAAAAAAAAAAAAAAAAAAAAAAAAAAAAAAAAAAAAAAAAAAAAAAAAAAAAAAAAAAAAAAAAAAAAAAAAAAAAAAAAAAAAAAAAAAAAAAAAAAAAAAAAAAAAAAAAAAAAAAAAAAAAAAAAAAAAAAAAAAAAAAAAAAAAAAAAAAAAAAAAAAAAAAAAAAAAAAAAAAAAAAAAAAAAAAAAAAAAAAAAAAAAAAAAAAAAAAAAAAAAAAAAAAAAAAAAAAAAAAAAAAAAAAAAAAAAAAAAAAAAAAAAAAAAAAAAAAAAAAAAAAAAAAAAAAAAAAAAAAAAAAAAAAAAAAAAAAAAAAAAAAAAAAAAAAAAAAAAAAAAAAAAAAAAAAAAAAAAAAAAAAAAAAAAAAAAAAAAAAAAAAAAAAAAAAAAAAAAAAAAAAAAAAAAAAAAAAAAAAAAAAAAAAAAAAAAAAAAAAAAAAAAAAAAAAAAAAAAAAAAAAAAAAAAAAAAAAAAAAAAAAAAAAAAAAAAAAAAAAAAAAAAAAAAAAAAAAAAAAAAAAAAAAAAAAAAAAAAAAAAAAAAAAAAAAAAAAAAAAAAAAAAAAAAAAAAAAAAAAAAAAAAAAAAAAAAAAAAAAAAAAAAAAAAAAAAAAAAAAAAAAAAAAAAAAAAAAAAAAAAAAAAAAAAAAAAAAAAAAAAAAAAAAAAAAAAAAAAAAAAAAAAAAAAAAAAAAAAAAAAAAAAAAAAAAAAAAAAAAAAAAAAAAAAAAAAAAAAAAAAAAAAAAAAAAAAAAAAAAAAAAAAAAAAAAAAAAAAAAAAAAAAAAAAAAAAAAAAAAAAAAAAAAAAAAAAAAAAAAAAAAAAAAAAAAAAAAAAAAAAAAAAAAAAAAAAAAAAAAAAAAAAAAAAAAAAAAAAAAAAAAAAAAAAAAAAAAAAAAAAAAAAAAAAAAAAAAAAAAAAAAAAAAAAAAAAAAAAAAAAAAAAAAAAAAAAAAAAAAAAAAAAAAAAAAAAAAAAAAAAAAAAAAAAAAAAAAAAAAAAAAAAAAAAAAAAAAAAAAAAAAAAAAAAAAAAAAAAAAAAAAAAAAAAAAAAAAAAAAAAAAAAAAAAAAAAAAAAAAAAAAAAAAAAAAAAAAAAAAAAAAAAAAAAAAAAAAAAAAAAAAAAAAAAAAAAAAAAAAAAAAAAAAAAAAAAAAAAAAAAAAAAAAAAAAAAAAAAAAAAAAAAAAAAAAAAAAAAAAAAAAAAAAAAAAAAAAAAAAAAAAAAAAAAAAAAAAAAAAAAAAAAAAAAAAAAAAAAAAAAAAAAAAAAAAAAAAAAAAAAAAAAAAAAAAAAAAAAAAAAAAAAAAAAAAAAAAAAAAAAAAAAAAAAAAAAAAAAAAAAAAAAAAAAAAAAAAAAAAAAAAAAAAAAAAAAAAAAAAAAAAAAAAAAAAAAAAAAAAAAAAAAAAAAAAAAAAAAAAAAAAAAAAAAAAAAAAAAAAAAAAAAAAAAAAAAAAAAAAAAAAAAAAAAAAAAAAAAAAAAAAAAAAAAAAAAAAAAAAAAAAAAAAAAAAAAAAAAAAAAAAAAAAAAAAAAAAAAAAAAAAAAAAAAAAAAAAAAAAAAAAAAAAAAAAAAAAAAAAAAAAAAAAAAAAAAAAAAAAAAAAAAAAAAAAAAAAAAAAAAAAAAAAAAAAAAAAAAAAAAAAAAAAAAAAAAAAAAAAAAAAAAAAAAAAAAAAAAAAAAAAAAAAAAAAAAAAAAAAAAAAAAAAAAAAAAAAAAAAAAAAAAAAAAAAAAAAAAAAAAAAAAAAAAAAAAAAAAAAAAAAAAAAAAAAAAAAAAAAAAAAAAAAAAAAAAAAAAAAAAAAAAAAAAAAAAAAAAAAAAAAAAAAAAAAAAAAAAAAAAAAAAAAAAAAAAAAAAAAAAAAAAAAAAAAAAAAAAAAAAAAAAAAAAAAAAAAAAAAAAAAAAAAAAAAAAAAAAAAAAAAAAAAAAAAAAAAAAAAAAAAAAAAAAAAAAAAAAAAAAAAAAAAAAAAAAAAAAAAAAAAAAAAAAAAAAAAAAAAAAAAAAAAAAAAAAAAAAAAAAAAAAAAAAAAAAAAAAAAAAAAAAAAAAAAAAAAAAAAAAAAAAAAAAAAAAAAAAAAAAAA==",
          "dtype": "i4"
         },
         "x0": " ",
         "xaxis": "x",
         "y": {
          "bdata": "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",
          "dtype": "i4"
         },
         "y0": " ",
         "yaxis": "y"
        },
        {
         "alignmentgroup": "True",
         "hovertemplate": "Cluster=%{x}<br>SalePrice=%{y}<extra></extra>",
         "legendgroup": "6",
         "marker": {
          "color": "#EF553B"
         },
         "name": "6",
         "notched": false,
         "offsetgroup": "6",
         "orientation": "v",
         "showlegend": true,
         "type": "box",
         "x": {
          "bdata": "BgAAAAYAAAAGAAAABgAAAAYAAAAGAAAABgAAAAYAAAAGAAAABgAAAAYAAAAGAAAABgAAAAYAAAAGAAAABgAAAAYAAAAGAAAABgAAAAYAAAAGAAAABgAAAAYAAAAGAAAABgAAAAYAAAAGAAAABgAAAAYAAAAGAAAABgAAAAYAAAAGAAAABgAAAAYAAAAGAAAABgAAAAYAAAAGAAAABgAAAAYAAAAGAAAABgAAAAYAAAAGAAAABgAAAAYAAAAGAAAABgAAAAYAAAAGAAAABgAAAAYAAAAGAAAABgAAAAYAAAAGAAAABgAAAAYAAAAGAAAABgAAAAYAAAAGAAAABgAAAAYAAAAGAAAABgAAAAYAAAAGAAAABgAAAAYAAAAGAAAABgAAAAYAAAAGAAAABgAAAAYAAAAGAAAABgAAAAYAAAAGAAAABgAAAAYAAAAGAAAABgAAAAYAAAAGAAAABgAAAAYAAAAGAAAABgAAAAYAAAAGAAAABgAAAAYAAAAGAAAABgAAAAYAAAAGAAAABgAAAAYAAAAGAAAABgAAAAYAAAAGAAAABgAAAAYAAAAGAAAABgAAAAYAAAAGAAAABgAAAAYAAAAGAAAABgAAAAYAAAAGAAAABgAAAAYAAAAGAAAABgAAAAYAAAAGAAAABgAAAAYAAAAGAAAABgAAAAYAAAAGAAAABgAAAAYAAAAGAAAABgAAAAYAAAAGAAAABgAAAAYAAAAGAAAABgAAAAYAAAAGAAAABgAAAAYAAAAGAAAABgAAAAYAAAAGAAAABgAAAAYAAAAGAAAABgAAAAYAAAAGAAAABgAAAAYAAAAGAAAABgAAAAYAAAAGAAAABgAAAAYAAAAGAAAABgAAAAYAAAAGAAAABgAAAAYAAAAGAAAABgAAAAYAAAAGAAAABgAAAAYAAAAGAAAABgAAAAYAAAAGAAAABgAAAAYAAAAGAAAABgAAAAYAAAAGAAAABgAAAAYAAAAGAAAABgAAAAYAAAAGAAAABgAAAAYAAAAGAAAABgAAAAYAAAAGAAAABgAAAAYAAAAGAAAABgAAAAYAAAAGAAAABgAAAAYAAAAGAAAABgAAAAYAAAAGAAAABgAAAAYAAAAGAAAABgAAAAYAAAAGAAAABgAAAAYAAAAGAAAABgAAAAYAAAAGAAAABgAAAAYAAAAGAAAABgAAAAYAAAAGAAAABgAAAAYAAAAGAAAABgAAAAYAAAAGAAAABgAAAAYAAAAGAAAABgAAAAYAAAAGAAAABgAAAAYAAAAGAAAABgAAAAYAAAAGAAAABgAAAAYAAAAGAAAABgAAAAYAAAAGAAAABgAAAAYAAAAGAAAABgAAAAYAAAAGAAAABgAAAAYAAAAGAAAABgAAAAYAAAAGAAAABgAAAAYAAAAGAAAABgAAAAYAAAAGAAAABgAAAAYAAAAGAAAABgAAAAYAAAAGAAAABgAAAAYAAAAGAAAABgAAAAYAAAAGAAAABgAAAAYAAAAGAAAABgAAAAYAAAAGAAAABgAAAAYAAAAGAAAABgAAAAYAAAA=",
          "dtype": "i4"
         },
         "x0": " ",
         "xaxis": "x",
         "y": {
          "bdata": "ULcCALCnAgCMrQIASGUCAEANAwAMbwIAwM4CANKOAwAk7gEASlgDAJDQAwBmvgMAZA0CADBXBQC4+QIAwMgDAHwiAgBwoQIAULcCAJilAwAw5gIAyCADABTBAgDYRwMAqFUCACAwBQAYbQIAAPQBADXPBgBctQIAgK8CADDmAgD09QEAmBwFALChAwAQmAIAr/MAAADiBABs3AIAWA8CAIj1BAAoFwIAdE0CAPBDAwCc2gEAKF4LAJilAwCwrQEA3AwDAERCAQCQUwMAKI4DACDLAADAVwEAgLUBAAzmAwBkhAMAsK0BAAgtAgDRvQIAqEkEABSvBQD4lQMA5EUDALj/AQCAMgIA2EcDANBsBABwggMATIgDABCYAgDoaAQA4CICAHAVBQDQZgUAmC4CAJguAgBctQIAqE8DAABxAgAgPAMA4J8CACAwBQDwSQIAGJMEAEyOAgD8TQEA6PECAAxpAwAyDQIAuHYDAIwqAwCiqwYAFMECAKjSAgCYqwIAuPkCAK7RAgA86gEA6PcBABjwAQC4BwYAiH4DAOjrAwBw+QQAMOYCAADuAgAA4gQAiPUEAMggAwDOHwMAGOoCAHyGAgDIowIAbPsBAKjSAgA0kgIAZbECAECQAgDwQwMA4BYEAAQXAwDUKgEAVL0CAHCCAwALBQQAMOYCAGzcAgBs4gEAdMoCAEANAwB8hgIAULcCANBsBAA8gAIAYFsDAKwtAwBg5AEAPGcCAKyXAgCU/wIAaLMCALCnAgAguQMAmCIEAMDUAQAw5gIA2EcDADBpAgCgegMAuHwCACgXAgAkZQMA1ncCALCbBACYHAUAuNQEALAqAgCQ0AMAkFkCABhtAgDgpQEAIEICADg4AwAY3gQA2EcDAEWCBAB0sQIASO4AAOjxAgCgywIArPUDAEhfAwCAqQMAfUoEAKhDBQCM+AIAyKMCAMC2BgA0FQIAbNwCAJirAgBwiAIAXDgCANB4AgAcOAEA6G4DADDmAgCQ0AMASNAFAECKAwAwHgIAoIACAGizAgAwYwMAIDwDAKkXAwBI4gIAKBEDAJKyAQC48wMAgCYEADBpAgAAcQIAGBMCAOC4AgCGMQIAgDICALAqAgDAUQIA+BIEALCPBgAw5gIAKAsEAFA0AwAYZwMAeNoCABhzAQC4+QIAQA0DAPQIAwDo3wUAyCYCALyfAwCAtQEA4BwDAHB8BADYTQIAUC4EAMDOAgDgHAMAgCAFAPiVAwB0sQIA/L4DAJDQAwC8mQQAhNgCAEytAQDkSwIA2EcDAJIvAgDIJgIAlIICAMBFBABm0QQAMPkDAPibAgCUBQIAqNICAASgAQDE9wIAFMcBAEhZBAD61QIAMGMDACC/AgDNDQMAkNwBAHhdAgBwggMASGUCAJDQAwDxogIAOLsCAHA9AgAgQgIA9PUBACBCAgBUSwYAfoQCAL+FBQAEZQIAQIoDADxhAwDMQwQAVOACADDmAgC09gQASBQDADg+AgDIowIAsK0BACgRAwBI6AEAYHkDABAPBAAAcQIA2NABADCxAgA=",
          "dtype": "i4"
         },
         "y0": " ",
         "yaxis": "y"
        },
        {
         "alignmentgroup": "True",
         "hovertemplate": "Cluster=%{x}<br>SalePrice=%{y}<extra></extra>",
         "legendgroup": "3",
         "marker": {
          "color": "#00cc96"
         },
         "name": "3",
         "notched": false,
         "offsetgroup": "3",
         "orientation": "v",
         "showlegend": true,
         "type": "box",
         "x": {
          "bdata": "AwAAAAMAAAADAAAAAwAAAAMAAAADAAAAAwAAAAMAAAADAAAAAwAAAAMAAAADAAAAAwAAAAMAAAADAAAAAwAAAAMAAAADAAAAAwAAAAMAAAADAAAAAwAAAAMAAAADAAAAAwAAAAMAAAADAAAAAwAAAAMAAAADAAAAAwAAAAMAAAADAAAAAwAAAAMAAAADAAAAAwAAAAMAAAADAAAAAwAAAAMAAAADAAAAAwAAAAMAAAADAAAAAwAAAAMAAAADAAAAAwAAAAMAAAADAAAAAwAAAAMAAAADAAAA",
          "dtype": "i4"
         },
         "x0": " ",
         "xaxis": "x",
         "y": {
          "bdata": "CEwBAJirAgDwSQIA/EcCAPlWAgAwbwEA3HYCADSSAgAolAIAHBkCADg+AgB4XQIAeNoCAIAyAgCwKgIAiAcCAFgPAgBQOgIA4KUBALy+AgCYLgIABB0CAPgeAgAw5gIA6PcBAFgPAgDkzgEAxJkBAABxAgDQ+wEASOgBAGg8AQBMjgIAKJQCAKCGAQCYpQMA7DkCAPBJAgBs+wEAQA0DAES/AQDJFgIASOICAICvAgB4uwMAeJYDADQbAQCAqQMA/MQCADyGAQDgIgIAKBcCAADbAQBpLgIA",
          "dtype": "i4"
         },
         "y0": " ",
         "yaxis": "y"
        },
        {
         "alignmentgroup": "True",
         "hovertemplate": "Cluster=%{x}<br>SalePrice=%{y}<extra></extra>",
         "legendgroup": "7",
         "marker": {
          "color": "#ab63fa"
         },
         "name": "7",
         "notched": false,
         "offsetgroup": "7",
         "orientation": "v",
         "showlegend": true,
         "type": "box",
         "x": {
          "bdata": "BwAAAAcAAAAHAAAABwAAAAcAAAAHAAAABwAAAAcAAAAHAAAABwAAAAcAAAAHAAAABwAAAAcAAAAHAAAABwAAAAcAAAAHAAAABwAAAAcAAAAHAAAABwAAAAcAAAAHAAAABwAAAAcAAAAHAAAABwAAAAcAAAAHAAAABwAAAAcAAAAHAAAABwAAAAcAAAAHAAAABwAAAAcAAAAHAAAABwAAAAcAAAAHAAAABwAAAAcAAAAHAAAABwAAAAcAAAAHAAAABwAAAAcAAAAHAAAABwAAAAcAAAAHAAAABwAAAAcAAAAHAAAABwAAAAcAAAAHAAAABwAAAAcAAAAHAAAABwAAAAcAAAAHAAAABwAAAAcAAAAHAAAABwAAAAcAAAAHAAAABwAAAAcAAAAHAAAABwAAAAcAAAAHAAAABwAAAAcAAAAHAAAABwAAAAcAAAAHAAAABwAAAAcAAAAHAAAABwAAAAcAAAAHAAAABwAAAAcAAAAHAAAABwAAAAcAAAAHAAAABwAAAAcAAAAHAAAABwAAAAcAAAAHAAAABwAAAAcAAAAHAAAABwAAAAcAAAAHAAAABwAAAAcAAAAHAAAABwAAAAcAAAAHAAAABwAAAA==",
          "dtype": "i4"
         },
         "x0": " ",
         "xaxis": "x",
         "y": {
          "bdata": "POoBAAhGAgDcJQMAoIYBAMBRAgAQngEAwNQBAAzyAQDQ+wEA3+wBAHS3AQAITAEAPGcCAPQOAgBIZQIA6HQCAJgoAwCYLgIA2NYAAJg0AQBQtwIAVHwCAEi/AQCsAQIApMgBAKCGAQD4oQEAvKsBALCtAQDk5wEAQA0DAMzSAQAMbwIAGPABANhTAQAgxQEAHJYCABjwAQDA1AEA4CICAAjJAQDgpQEAkNwBADzqAQDYUwEAuP8BAHALAgCwMAEAsK0BAGi5AQBIawEAsK0BABRKAQAMlAAAVIgAAMBRAgCYNAEA2NYAAMBXAQD0eAEAAPQBAKwBAgDgKAEAiIoBALwoAgDUpwEAuHwCAJQFAgDQfgEAiKMBAMgmAgDIJgIAgDICAEjoAQDsowEA+KEBAAwLAgCoWwEATK0BAKADAgC01gEA0PsBAFiABAA4wQEAWA8CAJBfAQAA9AEASOgBAHQ6AQCIhAIA2NABAADoAwBIawEAcI4BAITeAQA4PgIABKABACiaAQAoFwIAtNYBALh8AgBc1AEA3PkBAMpuAgDgIgIAWJIBAOAiAgDodAIANEcCAKSvAQDgIgIANBUCAPsOBACIIAIAoIYBAA==",
          "dtype": "i4"
         },
         "y0": " ",
         "yaxis": "y"
        },
        {
         "alignmentgroup": "True",
         "hovertemplate": "Cluster=%{x}<br>SalePrice=%{y}<extra></extra>",
         "legendgroup": "2",
         "marker": {
          "color": "#FFA15A"
         },
         "name": "2",
         "notched": false,
         "offsetgroup": "2",
         "orientation": "v",
         "showlegend": true,
         "type": "box",
         "x": {
          "bdata": "AgAAAAIAAAACAAAAAgAAAAIAAAACAAAAAgAAAAIAAAACAAAAAgAAAAIAAAACAAAAAgAAAAIAAAACAAAAAgAAAAIAAAACAAAAAgAAAAIAAAACAAAAAgAAAAIAAAACAAAAAgAAAAIAAAACAAAAAgAAAAIAAAACAAAAAgAAAAIAAAACAAAA",
          "dtype": "i4"
         },
         "x0": " ",
         "xaxis": "x",
         "y": {
          "bdata": "SOgBAIj1BABc1AEA9PUBAAhMAQBg5AEAxEgCAKSvAQDYUwEAsK0BAJxdAQAsWQIASOgBAEATAgAA9AEAsJQBAAjJAQD4HgIAmC4CAHg/BwA4wQEAgDgBAFTmAQAoHQEAUEABAKCGAQAcOAEA4CICAECQAgDYUwEAbPsBAJDcAQAUzQAA",
          "dtype": "i4"
         },
         "y0": " ",
         "yaxis": "y"
        },
        {
         "alignmentgroup": "True",
         "hovertemplate": "Cluster=%{x}<br>SalePrice=%{y}<extra></extra>",
         "legendgroup": "9",
         "marker": {
          "color": "#19d3f3"
         },
         "name": "9",
         "notched": false,
         "offsetgroup": "9",
         "orientation": "v",
         "showlegend": true,
         "type": "box",
         "x": {
          "bdata": "CQAAAAkAAAAJAAAACQAAAAkAAAAJAAAACQAAAAkAAAAJAAAACQAAAAkAAAAJAAAACQAAAAkAAAAJAAAACQAAAAkAAAAJAAAACQAAAAkAAAAJAAAACQAAAAkAAAAJAAAACQAAAAkAAAAJAAAACQAAAAkAAAAJAAAACQAAAAkAAAAJAAAACQAAAAkAAAAJAAAACQAAAAkAAAAJAAAACQAAAAkAAAAJAAAACQAAAAkAAAAJAAAACQAAAAkAAAAJAAAACQAAAAkAAAAJAAAACQAAAAkAAAAJAAAACQAAAAkAAAAJAAAACQAAAAkAAAAJAAAACQAAAAkAAAA=",
          "dtype": "i4"
         },
         "x0": " ",
         "xaxis": "x",
         "y": {
          "bdata": "XIMCAFA6AgAY6gIAcIIDAIwqAwDcEgIAAGsDAAjDAgDUmwMAkFkCAMQEBQDIPwIAXDIDAByvAgCc4QQA2E0CAIytAgAYMwIAsKcCAL6oBQAAcQIAl3ACADg+AgCYpQMAdaEEAHhdAgClpgIAEJgCANwMAwAURAIAMGMDABREAgDYRwMAfJ8CABCSAwDIcQIA1KECAMijAgBorQMAyLwCAGizAgDyQQMAeF0CAPTvAgBARQIAcQkEAOaeAgD8QQMANJICAOAiAgDwPQQASI0CANByAwD8OwQA2E0CADBdBACIhAIAoP0CAHjUAwAA7gIAlIICALCnAgA=",
          "dtype": "i4"
         },
         "y0": " ",
         "yaxis": "y"
        },
        {
         "alignmentgroup": "True",
         "hovertemplate": "Cluster=%{x}<br>SalePrice=%{y}<extra></extra>",
         "legendgroup": "1",
         "marker": {
          "color": "#FF6692"
         },
         "name": "1",
         "notched": false,
         "offsetgroup": "1",
         "orientation": "v",
         "showlegend": true,
         "type": "box",
         "x": {
          "bdata": "AQAAAAEAAAABAAAAAQAAAAEAAAABAAAAAQAAAAEAAAABAAAAAQAAAAEAAAABAAAAAQAAAAEAAAABAAAAAQAAAAEAAAABAAAAAQAAAAEAAAABAAAAAQAAAAEAAAABAAAAAQAAAAEAAAABAAAAAQAAAAEAAAABAAAAAQAAAAEAAAABAAAAAQAAAAEAAAABAAAAAQAAAAEAAAABAAAAAQAAAAEAAAABAAAAAQAAAAEAAAABAAAAAQAAAAEAAAABAAAAAQAAAAEAAAABAAAAAQAAAAEAAAABAAAAAQAAAAEAAAABAAAAAQAAAAEAAAABAAAAAQAAAAEAAAABAAAAAQAAAAEAAAABAAAAAQAAAAEAAAABAAAAAQAAAAEAAAABAAAAAQAAAAEAAAABAAAAAQAAAA==",
          "dtype": "i4"
         },
         "x0": " ",
         "xaxis": "x",
         "y": {
          "bdata": "ZkcCAPQOAgBoNgIAzE8CAFAiBgBYdAYAJGUDALAeBAD4mwIAIDwDABwmBADYRwMAfAkCAAjDAgAIwwIATagHAAwFAwDQbAQA0HgCAMT9AQCQQQYAIEICACBIAQBg3gIAYGECACC/AgC0bAIAwEUEAIAyAgAY6gIA3h0EAADoAwCMSQIAHBkCAGQBBADYygIAaIkJAGBhAgCo0gIAoHoDAKDxBADInQMAjCoDADg4AwAqUQQAIL8CAOhuAwAMBQMANBUCANBsBADM0gEAAGsDAMDOAgB8AwMAjDACAICpAwCMxgIARqgDAEhfAwCMKgMACEYCAFAhAgDEegIAMOYCAMxoAgAM8gEAyKMCADgyBAAaMgQAHDICAGzcAgDYRwMAkFkCAKQsAgCEbgMA4BYEAA==",
          "dtype": "i4"
         },
         "y0": " ",
         "yaxis": "y"
        },
        {
         "alignmentgroup": "True",
         "hovertemplate": "Cluster=%{x}<br>SalePrice=%{y}<extra></extra>",
         "legendgroup": "4",
         "marker": {
          "color": "#B6E880"
         },
         "name": "4",
         "notched": false,
         "offsetgroup": "4",
         "orientation": "v",
         "showlegend": true,
         "type": "box",
         "x": {
          "bdata": "BAAAAAQAAAAEAAAABAAAAAQAAAAEAAAABAAAAAQAAAAEAAAABAAAAAQAAAAEAAAABAAAAAQAAAAEAAAABAAAAAQAAAAEAAAABAAAAAQAAAAEAAAABAAAAAQAAAAEAAAABAAAAAQAAAAEAAAABAAAAAQAAAAEAAAABAAAAAQAAAAEAAAABAAAAAQAAAA=",
          "dtype": "i4"
         },
         "x0": " ",
         "xaxis": "x",
         "y": {
          "bdata": "aLkBAJhNAQB4XQIAaDYCABCeAQA0ugIAaDwBAMBXAQCcXQEAaE8CAND7AQDQ+wEAbGUBAKCAAgB4YwEAJHEBAPDMAQBouQEAGPABAIA4AQDAVwEASOgBAKCGAQDQ+wEA8E8BAIC1AQBg5AEAOEQBACBCAgAIwwIA6HoBACxGAQAQngEA0HgCAOAiAgA=",
          "dtype": "i4"
         },
         "y0": " ",
         "yaxis": "y"
        },
        {
         "alignmentgroup": "True",
         "hovertemplate": "Cluster=%{x}<br>SalePrice=%{y}<extra></extra>",
         "legendgroup": "8",
         "marker": {
          "color": "#FF97FF"
         },
         "name": "8",
         "notched": false,
         "offsetgroup": "8",
         "orientation": "v",
         "showlegend": true,
         "type": "box",
         "x": {
          "bdata": "CAAAAAgAAAAIAAAACAAAAAgAAAAIAAAACAAAAAgAAAAIAAAACAAAAAgAAAAIAAAACAAAAAgAAAAIAAAACAAAAAgAAAAIAAAACAAAAAgAAAAIAAAACAAAAAgAAAAIAAAACAAAAAgAAAAIAAAACAAAAAgAAAAIAAAACAAAAAgAAAAIAAAA",
          "dtype": "i4"
         },
         "x0": " ",
         "xaxis": "x",
         "y": {
          "bdata": "8LQFADgyBACo0gIAREIBABycAQCAqQMArA4EABypAwBSwgUA9GwDAJzCBQBwggMArH4CAJilAwBI4gIAHnIBACUxBABQsQMA+JUDADT9BQAIRgIAQPsFAADiBABEzAMAmgQCAEANAwBoNgIAHOECALx6BQBgWwMAhMYFAGg2AgCQNQgA",
          "dtype": "i4"
         },
         "y0": " ",
         "yaxis": "y"
        },
        {
         "alignmentgroup": "True",
         "hovertemplate": "Cluster=%{x}<br>SalePrice=%{y}<extra></extra>",
         "legendgroup": "5",
         "marker": {
          "color": "#FECB52"
         },
         "name": "5",
         "notched": false,
         "offsetgroup": "5",
         "orientation": "v",
         "showlegend": true,
         "type": "box",
         "x": {
          "bdata": "BQAAAAUAAAAFAAAABQAAAA==",
          "dtype": "i4"
         },
         "x0": " ",
         "xaxis": "x",
         "y": {
          "bdata": "sJsEAAg6BABWfgMA2LgFAA==",
          "dtype": "i4"
         },
         "y0": " ",
         "yaxis": "y"
        }
       ],
       "layout": {
        "boxmode": "overlay",
        "legend": {
         "title": {
          "text": "Cluster"
         },
         "tracegroupgap": 0
        },
        "template": {
         "data": {
          "bar": [
           {
            "error_x": {
             "color": "#2a3f5f"
            },
            "error_y": {
             "color": "#2a3f5f"
            },
            "marker": {
             "line": {
              "color": "#E5ECF6",
              "width": 0.5
             },
             "pattern": {
              "fillmode": "overlay",
              "size": 10,
              "solidity": 0.2
             }
            },
            "type": "bar"
           }
          ],
          "barpolar": [
           {
            "marker": {
             "line": {
              "color": "#E5ECF6",
              "width": 0.5
             },
             "pattern": {
              "fillmode": "overlay",
              "size": 10,
              "solidity": 0.2
             }
            },
            "type": "barpolar"
           }
          ],
          "carpet": [
           {
            "aaxis": {
             "endlinecolor": "#2a3f5f",
             "gridcolor": "white",
             "linecolor": "white",
             "minorgridcolor": "white",
             "startlinecolor": "#2a3f5f"
            },
            "baxis": {
             "endlinecolor": "#2a3f5f",
             "gridcolor": "white",
             "linecolor": "white",
             "minorgridcolor": "white",
             "startlinecolor": "#2a3f5f"
            },
            "type": "carpet"
           }
          ],
          "choropleth": [
           {
            "colorbar": {
             "outlinewidth": 0,
             "ticks": ""
            },
            "type": "choropleth"
           }
          ],
          "contour": [
           {
            "colorbar": {
             "outlinewidth": 0,
             "ticks": ""
            },
            "colorscale": [
             [
              0,
              "#0d0887"
             ],
             [
              0.1111111111111111,
              "#46039f"
             ],
             [
              0.2222222222222222,
              "#7201a8"
             ],
             [
              0.3333333333333333,
              "#9c179e"
             ],
             [
              0.4444444444444444,
              "#bd3786"
             ],
             [
              0.5555555555555556,
              "#d8576b"
             ],
             [
              0.6666666666666666,
              "#ed7953"
             ],
             [
              0.7777777777777778,
              "#fb9f3a"
             ],
             [
              0.8888888888888888,
              "#fdca26"
             ],
             [
              1,
              "#f0f921"
             ]
            ],
            "type": "contour"
           }
          ],
          "contourcarpet": [
           {
            "colorbar": {
             "outlinewidth": 0,
             "ticks": ""
            },
            "type": "contourcarpet"
           }
          ],
          "heatmap": [
           {
            "colorbar": {
             "outlinewidth": 0,
             "ticks": ""
            },
            "colorscale": [
             [
              0,
              "#0d0887"
             ],
             [
              0.1111111111111111,
              "#46039f"
             ],
             [
              0.2222222222222222,
              "#7201a8"
             ],
             [
              0.3333333333333333,
              "#9c179e"
             ],
             [
              0.4444444444444444,
              "#bd3786"
             ],
             [
              0.5555555555555556,
              "#d8576b"
             ],
             [
              0.6666666666666666,
              "#ed7953"
             ],
             [
              0.7777777777777778,
              "#fb9f3a"
             ],
             [
              0.8888888888888888,
              "#fdca26"
             ],
             [
              1,
              "#f0f921"
             ]
            ],
            "type": "heatmap"
           }
          ],
          "histogram": [
           {
            "marker": {
             "pattern": {
              "fillmode": "overlay",
              "size": 10,
              "solidity": 0.2
             }
            },
            "type": "histogram"
           }
          ],
          "histogram2d": [
           {
            "colorbar": {
             "outlinewidth": 0,
             "ticks": ""
            },
            "colorscale": [
             [
              0,
              "#0d0887"
             ],
             [
              0.1111111111111111,
              "#46039f"
             ],
             [
              0.2222222222222222,
              "#7201a8"
             ],
             [
              0.3333333333333333,
              "#9c179e"
             ],
             [
              0.4444444444444444,
              "#bd3786"
             ],
             [
              0.5555555555555556,
              "#d8576b"
             ],
             [
              0.6666666666666666,
              "#ed7953"
             ],
             [
              0.7777777777777778,
              "#fb9f3a"
             ],
             [
              0.8888888888888888,
              "#fdca26"
             ],
             [
              1,
              "#f0f921"
             ]
            ],
            "type": "histogram2d"
           }
          ],
          "histogram2dcontour": [
           {
            "colorbar": {
             "outlinewidth": 0,
             "ticks": ""
            },
            "colorscale": [
             [
              0,
              "#0d0887"
             ],
             [
              0.1111111111111111,
              "#46039f"
             ],
             [
              0.2222222222222222,
              "#7201a8"
             ],
             [
              0.3333333333333333,
              "#9c179e"
             ],
             [
              0.4444444444444444,
              "#bd3786"
             ],
             [
              0.5555555555555556,
              "#d8576b"
             ],
             [
              0.6666666666666666,
              "#ed7953"
             ],
             [
              0.7777777777777778,
              "#fb9f3a"
             ],
             [
              0.8888888888888888,
              "#fdca26"
             ],
             [
              1,
              "#f0f921"
             ]
            ],
            "type": "histogram2dcontour"
           }
          ],
          "mesh3d": [
           {
            "colorbar": {
             "outlinewidth": 0,
             "ticks": ""
            },
            "type": "mesh3d"
           }
          ],
          "parcoords": [
           {
            "line": {
             "colorbar": {
              "outlinewidth": 0,
              "ticks": ""
             }
            },
            "type": "parcoords"
           }
          ],
          "pie": [
           {
            "automargin": true,
            "type": "pie"
           }
          ],
          "scatter": [
           {
            "fillpattern": {
             "fillmode": "overlay",
             "size": 10,
             "solidity": 0.2
            },
            "type": "scatter"
           }
          ],
          "scatter3d": [
           {
            "line": {
             "colorbar": {
              "outlinewidth": 0,
              "ticks": ""
             }
            },
            "marker": {
             "colorbar": {
              "outlinewidth": 0,
              "ticks": ""
             }
            },
            "type": "scatter3d"
           }
          ],
          "scattercarpet": [
           {
            "marker": {
             "colorbar": {
              "outlinewidth": 0,
              "ticks": ""
             }
            },
            "type": "scattercarpet"
           }
          ],
          "scattergeo": [
           {
            "marker": {
             "colorbar": {
              "outlinewidth": 0,
              "ticks": ""
             }
            },
            "type": "scattergeo"
           }
          ],
          "scattergl": [
           {
            "marker": {
             "colorbar": {
              "outlinewidth": 0,
              "ticks": ""
             }
            },
            "type": "scattergl"
           }
          ],
          "scattermap": [
           {
            "marker": {
             "colorbar": {
              "outlinewidth": 0,
              "ticks": ""
             }
            },
            "type": "scattermap"
           }
          ],
          "scattermapbox": [
           {
            "marker": {
             "colorbar": {
              "outlinewidth": 0,
              "ticks": ""
             }
            },
            "type": "scattermapbox"
           }
          ],
          "scatterpolar": [
           {
            "marker": {
             "colorbar": {
              "outlinewidth": 0,
              "ticks": ""
             }
            },
            "type": "scatterpolar"
           }
          ],
          "scatterpolargl": [
           {
            "marker": {
             "colorbar": {
              "outlinewidth": 0,
              "ticks": ""
             }
            },
            "type": "scatterpolargl"
           }
          ],
          "scatterternary": [
           {
            "marker": {
             "colorbar": {
              "outlinewidth": 0,
              "ticks": ""
             }
            },
            "type": "scatterternary"
           }
          ],
          "surface": [
           {
            "colorbar": {
             "outlinewidth": 0,
             "ticks": ""
            },
            "colorscale": [
             [
              0,
              "#0d0887"
             ],
             [
              0.1111111111111111,
              "#46039f"
             ],
             [
              0.2222222222222222,
              "#7201a8"
             ],
             [
              0.3333333333333333,
              "#9c179e"
             ],
             [
              0.4444444444444444,
              "#bd3786"
             ],
             [
              0.5555555555555556,
              "#d8576b"
             ],
             [
              0.6666666666666666,
              "#ed7953"
             ],
             [
              0.7777777777777778,
              "#fb9f3a"
             ],
             [
              0.8888888888888888,
              "#fdca26"
             ],
             [
              1,
              "#f0f921"
             ]
            ],
            "type": "surface"
           }
          ],
          "table": [
           {
            "cells": {
             "fill": {
              "color": "#EBF0F8"
             },
             "line": {
              "color": "white"
             }
            },
            "header": {
             "fill": {
              "color": "#C8D4E3"
             },
             "line": {
              "color": "white"
             }
            },
            "type": "table"
           }
          ]
         },
         "layout": {
          "annotationdefaults": {
           "arrowcolor": "#2a3f5f",
           "arrowhead": 0,
           "arrowwidth": 1
          },
          "autotypenumbers": "strict",
          "coloraxis": {
           "colorbar": {
            "outlinewidth": 0,
            "ticks": ""
           }
          },
          "colorscale": {
           "diverging": [
            [
             0,
             "#8e0152"
            ],
            [
             0.1,
             "#c51b7d"
            ],
            [
             0.2,
             "#de77ae"
            ],
            [
             0.3,
             "#f1b6da"
            ],
            [
             0.4,
             "#fde0ef"
            ],
            [
             0.5,
             "#f7f7f7"
            ],
            [
             0.6,
             "#e6f5d0"
            ],
            [
             0.7,
             "#b8e186"
            ],
            [
             0.8,
             "#7fbc41"
            ],
            [
             0.9,
             "#4d9221"
            ],
            [
             1,
             "#276419"
            ]
           ],
           "sequential": [
            [
             0,
             "#0d0887"
            ],
            [
             0.1111111111111111,
             "#46039f"
            ],
            [
             0.2222222222222222,
             "#7201a8"
            ],
            [
             0.3333333333333333,
             "#9c179e"
            ],
            [
             0.4444444444444444,
             "#bd3786"
            ],
            [
             0.5555555555555556,
             "#d8576b"
            ],
            [
             0.6666666666666666,
             "#ed7953"
            ],
            [
             0.7777777777777778,
             "#fb9f3a"
            ],
            [
             0.8888888888888888,
             "#fdca26"
            ],
            [
             1,
             "#f0f921"
            ]
           ],
           "sequentialminus": [
            [
             0,
             "#0d0887"
            ],
            [
             0.1111111111111111,
             "#46039f"
            ],
            [
             0.2222222222222222,
             "#7201a8"
            ],
            [
             0.3333333333333333,
             "#9c179e"
            ],
            [
             0.4444444444444444,
             "#bd3786"
            ],
            [
             0.5555555555555556,
             "#d8576b"
            ],
            [
             0.6666666666666666,
             "#ed7953"
            ],
            [
             0.7777777777777778,
             "#fb9f3a"
            ],
            [
             0.8888888888888888,
             "#fdca26"
            ],
            [
             1,
             "#f0f921"
            ]
           ]
          },
          "colorway": [
           "#636efa",
           "#EF553B",
           "#00cc96",
           "#ab63fa",
           "#FFA15A",
           "#19d3f3",
           "#FF6692",
           "#B6E880",
           "#FF97FF",
           "#FECB52"
          ],
          "font": {
           "color": "#2a3f5f"
          },
          "geo": {
           "bgcolor": "white",
           "lakecolor": "white",
           "landcolor": "#E5ECF6",
           "showlakes": true,
           "showland": true,
           "subunitcolor": "white"
          },
          "hoverlabel": {
           "align": "left"
          },
          "hovermode": "closest",
          "mapbox": {
           "style": "light"
          },
          "paper_bgcolor": "white",
          "plot_bgcolor": "#E5ECF6",
          "polar": {
           "angularaxis": {
            "gridcolor": "white",
            "linecolor": "white",
            "ticks": ""
           },
           "bgcolor": "#E5ECF6",
           "radialaxis": {
            "gridcolor": "white",
            "linecolor": "white",
            "ticks": ""
           }
          },
          "scene": {
           "xaxis": {
            "backgroundcolor": "#E5ECF6",
            "gridcolor": "white",
            "gridwidth": 2,
            "linecolor": "white",
            "showbackground": true,
            "ticks": "",
            "zerolinecolor": "white"
           },
           "yaxis": {
            "backgroundcolor": "#E5ECF6",
            "gridcolor": "white",
            "gridwidth": 2,
            "linecolor": "white",
            "showbackground": true,
            "ticks": "",
            "zerolinecolor": "white"
           },
           "zaxis": {
            "backgroundcolor": "#E5ECF6",
            "gridcolor": "white",
            "gridwidth": 2,
            "linecolor": "white",
            "showbackground": true,
            "ticks": "",
            "zerolinecolor": "white"
           }
          },
          "shapedefaults": {
           "line": {
            "color": "#2a3f5f"
           }
          },
          "ternary": {
           "aaxis": {
            "gridcolor": "white",
            "linecolor": "white",
            "ticks": ""
           },
           "baxis": {
            "gridcolor": "white",
            "linecolor": "white",
            "ticks": ""
           },
           "bgcolor": "#E5ECF6",
           "caxis": {
            "gridcolor": "white",
            "linecolor": "white",
            "ticks": ""
           }
          },
          "title": {
           "x": 0.05
          },
          "xaxis": {
           "automargin": true,
           "gridcolor": "white",
           "linecolor": "white",
           "ticks": "",
           "title": {
            "standoff": 15
           },
           "zerolinecolor": "white",
           "zerolinewidth": 2
          },
          "yaxis": {
           "automargin": true,
           "gridcolor": "white",
           "linecolor": "white",
           "ticks": "",
           "title": {
            "standoff": 15
           },
           "zerolinecolor": "white",
           "zerolinewidth": 2
          }
         }
        },
        "title": {
         "text": "SalePrice distribution across clusters (Plotly Interactive)"
        },
        "xaxis": {
         "anchor": "y",
         "categoryarray": [
          0,
          6,
          3,
          7,
          2,
          9,
          1,
          4,
          8,
          5
         ],
         "categoryorder": "array",
         "domain": [
          0,
          1
         ],
         "title": {
          "text": "Cluster"
         }
        },
        "yaxis": {
         "anchor": "x",
         "domain": [
          0,
          1
         ],
         "title": {
          "text": "SalePrice"
         }
        }
       }
      }
     },
     "metadata": {},
     "output_type": "display_data"
    }
   ],
   "source": [
    "fig_box = px.box(\n",
    "    df,\n",
    "    x=\"Cluster\",\n",
    "    y=\"SalePrice\",\n",
    "    color=\"Cluster\",\n",
    "    title=\"SalePrice distribution across clusters (Plotly Interactive)\"\n",
    ")\n",
    "fig_box.show()"
   ]
  },
  {
   "cell_type": "markdown",
   "id": "d47452ed",
   "metadata": {},
   "source": [
    "Algoritmul **K-Means** a reușit să grupeze locuințele în funcție de caracteristici similare, chiar dacă variabila `SalePrice` nu a fost utilizată în timpul antrenării. După introducerea ei în analiză, se observă diferențe clare de preț între **clustere**, ceea ce confirmă relevanța variabilelor selectate.\n"
   ]
  },
  {
   "cell_type": "markdown",
   "id": "a026cc61",
   "metadata": {},
   "source": [
    "Clusterele cu valori mari ale prețului mediu (**Clusters 5 și 8**) conțin case situate în zone rezidențiale bune (**ZoningScore** ridicat), cu suprafețe mari de teren.\n",
    "În contrast, **Clusters 2, 4 și 7** reprezintă case mai ieftine, cu loturi mici și un **ZoningScore** scăzut, corespunzând zonelor cu densitate mai mare (**MSZoning_RM** ridicat).\n",
    "\n"
   ]
  },
  {
   "cell_type": "markdown",
   "id": "43b81fd7",
   "metadata": {},
   "source": [
    "`Clusters 0, 1 si 6` se situează în zona mediană, caracterizate de terenuri medii, condiții normale de amplasare și prețuri medii, tipice pentru zone suburbane."
   ]
  },
  {
   "cell_type": "markdown",
   "id": "eb131571",
   "metadata": {},
   "source": [
    "În general, distribuția ` SalePrice ` confirmă că modelul K-Means a identificat corect structuri naturale în date — clusterele mai bine poziționate și cu terenuri mari au prețuri semnificativ mai mari, în timp ce cele dense sau periferice au valori mai reduse"
   ]
  }
 ],
 "metadata": {
  "kernelspec": {
   "display_name": "Python (venv)",
   "language": "python",
   "name": "venv"
  },
  "language_info": {
   "codemirror_mode": {
    "name": "ipython",
    "version": 3
   },
   "file_extension": ".py",
   "mimetype": "text/x-python",
   "name": "python",
   "nbconvert_exporter": "python",
   "pygments_lexer": "ipython3",
   "version": "3.12.0"
  }
 },
 "nbformat": 4,
 "nbformat_minor": 5
}

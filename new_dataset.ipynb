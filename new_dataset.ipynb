{
 "cells": [
  {
   "cell_type": "code",
   "execution_count": 1,
   "id": "2d4970e3",
   "metadata": {},
   "outputs": [],
   "source": [
    "import pandas as pd"
   ]
  },
  {
   "cell_type": "code",
   "execution_count": 6,
   "id": "3d753698",
   "metadata": {},
   "outputs": [],
   "source": [
    "df = pd.read_csv(\"new_dataset.csv\")"
   ]
  },
  {
   "cell_type": "markdown",
   "id": "9d00be08",
   "metadata": {},
   "source": [
    "\n",
    "Instructiuni:\n",
    "Faceți un subset doar cu coloanele numerice.\n",
    "\n",
    "Analizați relațiile dintre variabile folosind un pairplot (similar cu laboratorul trecut).\n",
    "\n",
    "Scrieți în notebook observații despre:\n",
    "\n",
    "relația dintre SalePrice și fiecare variabilă numerică;\n",
    "\n",
    "relațiile dintre variabile între ele;\n",
    "\n",
    "dacă există linearitate și unde.\n",
    "\n",
    "Alegeți una sau mai multe variabile care se potrivesc cu SalePrice și dezvoltați un model de regresie.\n",
    "\n",
    "Faceți testul de normalitate și testul de homoscedasticitate.\n",
    "\n",
    "Scrieți concluziile voastre despre partea din dataset.\n",
    "\n",
    "\n"
   ]
  },
  {
   "cell_type": "code",
   "execution_count": null,
   "id": "6e96fc4e",
   "metadata": {},
   "outputs": [],
   "source": []
  }
 ],
 "metadata": {
  "kernelspec": {
   "display_name": "Python 3",
   "language": "python",
   "name": "python3"
  },
  "language_info": {
   "codemirror_mode": {
    "name": "ipython",
    "version": 3
   },
   "file_extension": ".py",
   "mimetype": "text/x-python",
   "name": "python",
   "nbconvert_exporter": "python",
   "pygments_lexer": "ipython3",
   "version": "3.13.5"
  }
 },
 "nbformat": 4,
 "nbformat_minor": 5
}

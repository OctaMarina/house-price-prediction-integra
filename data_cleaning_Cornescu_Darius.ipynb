{
 "cells": [
  {
   "cell_type": "code",
   "execution_count": 49,
   "id": "f1151cb3",
   "metadata": {},
   "outputs": [],
   "source": [
    "import pandas as pd\n",
    "from sklearn.model_selection import train_test_split\n",
    "import matplotlib.pyplot as plt\n",
    "import plotly.express as px\n",
    "import seaborn as sns\n",
    "import numpy as np"
   ]
  },
  {
   "cell_type": "code",
   "execution_count": 50,
   "id": "4ea783e6",
   "metadata": {},
   "outputs": [],
   "source": [
    "df = pd.read_csv(\"house_prices.csv\")\n",
    "train_df, test_df = train_test_split(df, test_size=0.2, random_state=42)"
   ]
  },
  {
   "cell_type": "code",
   "execution_count": 51,
   "id": "8d891518",
   "metadata": {},
   "outputs": [],
   "source": [
    "my_cols = [\n",
    "    'MSSubClass', 'MSZoning', 'LotFrontage', 'LotArea', 'Street', 'Alley', 'LotShape',\n",
    "'LandContour', 'Utilities', 'LotConfig', 'LandSlope', 'Neighborhood', 'Condition1', 'Condition2', 'SalePrice'\n",
    "]\n",
    "\n",
    "df_subset = train_df[my_cols].copy()"
   ]
  },
  {
   "cell_type": "code",
   "execution_count": 52,
   "id": "0b192654",
   "metadata": {},
   "outputs": [
    {
     "data": {
      "text/html": [
       "<div>\n",
       "<style scoped>\n",
       "    .dataframe tbody tr th:only-of-type {\n",
       "        vertical-align: middle;\n",
       "    }\n",
       "\n",
       "    .dataframe tbody tr th {\n",
       "        vertical-align: top;\n",
       "    }\n",
       "\n",
       "    .dataframe thead th {\n",
       "        text-align: right;\n",
       "    }\n",
       "</style>\n",
       "<table border=\"1\" class=\"dataframe\">\n",
       "  <thead>\n",
       "    <tr style=\"text-align: right;\">\n",
       "      <th></th>\n",
       "      <th>MSSubClass</th>\n",
       "      <th>MSZoning</th>\n",
       "      <th>LotFrontage</th>\n",
       "      <th>LotArea</th>\n",
       "      <th>Street</th>\n",
       "      <th>Alley</th>\n",
       "      <th>LotShape</th>\n",
       "      <th>LandContour</th>\n",
       "      <th>Utilities</th>\n",
       "      <th>LotConfig</th>\n",
       "      <th>LandSlope</th>\n",
       "      <th>Neighborhood</th>\n",
       "      <th>Condition1</th>\n",
       "      <th>Condition2</th>\n",
       "      <th>SalePrice</th>\n",
       "    </tr>\n",
       "  </thead>\n",
       "  <tbody>\n",
       "    <tr>\n",
       "      <th>254</th>\n",
       "      <td>20</td>\n",
       "      <td>RL</td>\n",
       "      <td>70.0</td>\n",
       "      <td>8400</td>\n",
       "      <td>Pave</td>\n",
       "      <td>NaN</td>\n",
       "      <td>Reg</td>\n",
       "      <td>Lvl</td>\n",
       "      <td>AllPub</td>\n",
       "      <td>Inside</td>\n",
       "      <td>Gtl</td>\n",
       "      <td>NAmes</td>\n",
       "      <td>Norm</td>\n",
       "      <td>Norm</td>\n",
       "      <td>145000</td>\n",
       "    </tr>\n",
       "    <tr>\n",
       "      <th>1066</th>\n",
       "      <td>60</td>\n",
       "      <td>RL</td>\n",
       "      <td>59.0</td>\n",
       "      <td>7837</td>\n",
       "      <td>Pave</td>\n",
       "      <td>NaN</td>\n",
       "      <td>IR1</td>\n",
       "      <td>Lvl</td>\n",
       "      <td>AllPub</td>\n",
       "      <td>Inside</td>\n",
       "      <td>Gtl</td>\n",
       "      <td>Gilbert</td>\n",
       "      <td>Norm</td>\n",
       "      <td>Norm</td>\n",
       "      <td>178000</td>\n",
       "    </tr>\n",
       "    <tr>\n",
       "      <th>638</th>\n",
       "      <td>30</td>\n",
       "      <td>RL</td>\n",
       "      <td>67.0</td>\n",
       "      <td>8777</td>\n",
       "      <td>Pave</td>\n",
       "      <td>NaN</td>\n",
       "      <td>Reg</td>\n",
       "      <td>Lvl</td>\n",
       "      <td>AllPub</td>\n",
       "      <td>Inside</td>\n",
       "      <td>Gtl</td>\n",
       "      <td>Edwards</td>\n",
       "      <td>Feedr</td>\n",
       "      <td>Norm</td>\n",
       "      <td>85000</td>\n",
       "    </tr>\n",
       "    <tr>\n",
       "      <th>799</th>\n",
       "      <td>50</td>\n",
       "      <td>RL</td>\n",
       "      <td>60.0</td>\n",
       "      <td>7200</td>\n",
       "      <td>Pave</td>\n",
       "      <td>NaN</td>\n",
       "      <td>Reg</td>\n",
       "      <td>Lvl</td>\n",
       "      <td>AllPub</td>\n",
       "      <td>Corner</td>\n",
       "      <td>Gtl</td>\n",
       "      <td>SWISU</td>\n",
       "      <td>Feedr</td>\n",
       "      <td>Norm</td>\n",
       "      <td>175000</td>\n",
       "    </tr>\n",
       "    <tr>\n",
       "      <th>380</th>\n",
       "      <td>50</td>\n",
       "      <td>RL</td>\n",
       "      <td>50.0</td>\n",
       "      <td>5000</td>\n",
       "      <td>Pave</td>\n",
       "      <td>Pave</td>\n",
       "      <td>Reg</td>\n",
       "      <td>Lvl</td>\n",
       "      <td>AllPub</td>\n",
       "      <td>Inside</td>\n",
       "      <td>Gtl</td>\n",
       "      <td>SWISU</td>\n",
       "      <td>Norm</td>\n",
       "      <td>Norm</td>\n",
       "      <td>127000</td>\n",
       "    </tr>\n",
       "  </tbody>\n",
       "</table>\n",
       "</div>"
      ],
      "text/plain": [
       "      MSSubClass MSZoning  LotFrontage  LotArea Street Alley LotShape  \\\n",
       "254           20       RL         70.0     8400   Pave   NaN      Reg   \n",
       "1066          60       RL         59.0     7837   Pave   NaN      IR1   \n",
       "638           30       RL         67.0     8777   Pave   NaN      Reg   \n",
       "799           50       RL         60.0     7200   Pave   NaN      Reg   \n",
       "380           50       RL         50.0     5000   Pave  Pave      Reg   \n",
       "\n",
       "     LandContour Utilities LotConfig LandSlope Neighborhood Condition1  \\\n",
       "254          Lvl    AllPub    Inside       Gtl        NAmes       Norm   \n",
       "1066         Lvl    AllPub    Inside       Gtl      Gilbert       Norm   \n",
       "638          Lvl    AllPub    Inside       Gtl      Edwards      Feedr   \n",
       "799          Lvl    AllPub    Corner       Gtl        SWISU      Feedr   \n",
       "380          Lvl    AllPub    Inside       Gtl        SWISU       Norm   \n",
       "\n",
       "     Condition2  SalePrice  \n",
       "254        Norm     145000  \n",
       "1066       Norm     178000  \n",
       "638        Norm      85000  \n",
       "799        Norm     175000  \n",
       "380        Norm     127000  "
      ]
     },
     "execution_count": 52,
     "metadata": {},
     "output_type": "execute_result"
    }
   ],
   "source": [
    "df_subset.head()\n",
    "\n"
   ]
  },
  {
   "cell_type": "code",
   "execution_count": 53,
   "id": "33296619",
   "metadata": {},
   "outputs": [
    {
     "data": {
      "text/html": [
       "<div>\n",
       "<style scoped>\n",
       "    .dataframe tbody tr th:only-of-type {\n",
       "        vertical-align: middle;\n",
       "    }\n",
       "\n",
       "    .dataframe tbody tr th {\n",
       "        vertical-align: top;\n",
       "    }\n",
       "\n",
       "    .dataframe thead th {\n",
       "        text-align: right;\n",
       "    }\n",
       "</style>\n",
       "<table border=\"1\" class=\"dataframe\">\n",
       "  <thead>\n",
       "    <tr style=\"text-align: right;\">\n",
       "      <th></th>\n",
       "      <th>MSSubClass</th>\n",
       "      <th>MSZoning</th>\n",
       "      <th>LotFrontage</th>\n",
       "      <th>LotArea</th>\n",
       "      <th>Street</th>\n",
       "      <th>Alley</th>\n",
       "      <th>LotShape</th>\n",
       "      <th>LandContour</th>\n",
       "      <th>Utilities</th>\n",
       "      <th>LotConfig</th>\n",
       "      <th>LandSlope</th>\n",
       "      <th>Neighborhood</th>\n",
       "      <th>Condition1</th>\n",
       "      <th>Condition2</th>\n",
       "      <th>SalePrice</th>\n",
       "    </tr>\n",
       "  </thead>\n",
       "  <tbody>\n",
       "    <tr>\n",
       "      <th>1095</th>\n",
       "      <td>20</td>\n",
       "      <td>RL</td>\n",
       "      <td>78.0</td>\n",
       "      <td>9317</td>\n",
       "      <td>Pave</td>\n",
       "      <td>NaN</td>\n",
       "      <td>IR1</td>\n",
       "      <td>Lvl</td>\n",
       "      <td>AllPub</td>\n",
       "      <td>Inside</td>\n",
       "      <td>Gtl</td>\n",
       "      <td>CollgCr</td>\n",
       "      <td>Norm</td>\n",
       "      <td>Norm</td>\n",
       "      <td>176432</td>\n",
       "    </tr>\n",
       "    <tr>\n",
       "      <th>1130</th>\n",
       "      <td>50</td>\n",
       "      <td>RL</td>\n",
       "      <td>65.0</td>\n",
       "      <td>7804</td>\n",
       "      <td>Pave</td>\n",
       "      <td>NaN</td>\n",
       "      <td>Reg</td>\n",
       "      <td>Lvl</td>\n",
       "      <td>AllPub</td>\n",
       "      <td>Inside</td>\n",
       "      <td>Gtl</td>\n",
       "      <td>SWISU</td>\n",
       "      <td>Norm</td>\n",
       "      <td>Norm</td>\n",
       "      <td>135000</td>\n",
       "    </tr>\n",
       "    <tr>\n",
       "      <th>1294</th>\n",
       "      <td>20</td>\n",
       "      <td>RL</td>\n",
       "      <td>60.0</td>\n",
       "      <td>8172</td>\n",
       "      <td>Pave</td>\n",
       "      <td>NaN</td>\n",
       "      <td>Reg</td>\n",
       "      <td>Lvl</td>\n",
       "      <td>AllPub</td>\n",
       "      <td>Inside</td>\n",
       "      <td>Gtl</td>\n",
       "      <td>Edwards</td>\n",
       "      <td>Norm</td>\n",
       "      <td>Norm</td>\n",
       "      <td>115000</td>\n",
       "    </tr>\n",
       "    <tr>\n",
       "      <th>860</th>\n",
       "      <td>50</td>\n",
       "      <td>RL</td>\n",
       "      <td>55.0</td>\n",
       "      <td>7642</td>\n",
       "      <td>Pave</td>\n",
       "      <td>NaN</td>\n",
       "      <td>Reg</td>\n",
       "      <td>Lvl</td>\n",
       "      <td>AllPub</td>\n",
       "      <td>Corner</td>\n",
       "      <td>Gtl</td>\n",
       "      <td>Crawfor</td>\n",
       "      <td>Norm</td>\n",
       "      <td>Norm</td>\n",
       "      <td>189950</td>\n",
       "    </tr>\n",
       "    <tr>\n",
       "      <th>1126</th>\n",
       "      <td>120</td>\n",
       "      <td>RL</td>\n",
       "      <td>53.0</td>\n",
       "      <td>3684</td>\n",
       "      <td>Pave</td>\n",
       "      <td>NaN</td>\n",
       "      <td>Reg</td>\n",
       "      <td>Lvl</td>\n",
       "      <td>AllPub</td>\n",
       "      <td>Inside</td>\n",
       "      <td>Gtl</td>\n",
       "      <td>Blmngtn</td>\n",
       "      <td>Norm</td>\n",
       "      <td>Norm</td>\n",
       "      <td>174000</td>\n",
       "    </tr>\n",
       "  </tbody>\n",
       "</table>\n",
       "</div>"
      ],
      "text/plain": [
       "      MSSubClass MSZoning  LotFrontage  LotArea Street Alley LotShape  \\\n",
       "1095          20       RL         78.0     9317   Pave   NaN      IR1   \n",
       "1130          50       RL         65.0     7804   Pave   NaN      Reg   \n",
       "1294          20       RL         60.0     8172   Pave   NaN      Reg   \n",
       "860           50       RL         55.0     7642   Pave   NaN      Reg   \n",
       "1126         120       RL         53.0     3684   Pave   NaN      Reg   \n",
       "\n",
       "     LandContour Utilities LotConfig LandSlope Neighborhood Condition1  \\\n",
       "1095         Lvl    AllPub    Inside       Gtl      CollgCr       Norm   \n",
       "1130         Lvl    AllPub    Inside       Gtl        SWISU       Norm   \n",
       "1294         Lvl    AllPub    Inside       Gtl      Edwards       Norm   \n",
       "860          Lvl    AllPub    Corner       Gtl      Crawfor       Norm   \n",
       "1126         Lvl    AllPub    Inside       Gtl      Blmngtn       Norm   \n",
       "\n",
       "     Condition2  SalePrice  \n",
       "1095       Norm     176432  \n",
       "1130       Norm     135000  \n",
       "1294       Norm     115000  \n",
       "860        Norm     189950  \n",
       "1126       Norm     174000  "
      ]
     },
     "execution_count": 53,
     "metadata": {},
     "output_type": "execute_result"
    }
   ],
   "source": [
    "df_subset.tail()"
   ]
  },
  {
   "cell_type": "code",
   "execution_count": 54,
   "id": "f7296a7a",
   "metadata": {},
   "outputs": [
    {
     "name": "stdout",
     "output_type": "stream",
     "text": [
      "<class 'pandas.core.frame.DataFrame'>\n",
      "Index: 1168 entries, 254 to 1126\n",
      "Data columns (total 15 columns):\n",
      " #   Column        Non-Null Count  Dtype  \n",
      "---  ------        --------------  -----  \n",
      " 0   MSSubClass    1168 non-null   int64  \n",
      " 1   MSZoning      1168 non-null   object \n",
      " 2   LotFrontage   951 non-null    float64\n",
      " 3   LotArea       1168 non-null   int64  \n",
      " 4   Street        1168 non-null   object \n",
      " 5   Alley         74 non-null     object \n",
      " 6   LotShape      1168 non-null   object \n",
      " 7   LandContour   1168 non-null   object \n",
      " 8   Utilities     1168 non-null   object \n",
      " 9   LotConfig     1168 non-null   object \n",
      " 10  LandSlope     1168 non-null   object \n",
      " 11  Neighborhood  1168 non-null   object \n",
      " 12  Condition1    1168 non-null   object \n",
      " 13  Condition2    1168 non-null   object \n",
      " 14  SalePrice     1168 non-null   int64  \n",
      "dtypes: float64(1), int64(3), object(11)\n",
      "memory usage: 146.0+ KB\n"
     ]
    }
   ],
   "source": [
    "df_subset.info()"
   ]
  },
  {
   "cell_type": "code",
   "execution_count": 55,
   "id": "0460c542",
   "metadata": {},
   "outputs": [
    {
     "data": {
      "text/html": [
       "<div>\n",
       "<style scoped>\n",
       "    .dataframe tbody tr th:only-of-type {\n",
       "        vertical-align: middle;\n",
       "    }\n",
       "\n",
       "    .dataframe tbody tr th {\n",
       "        vertical-align: top;\n",
       "    }\n",
       "\n",
       "    .dataframe thead th {\n",
       "        text-align: right;\n",
       "    }\n",
       "</style>\n",
       "<table border=\"1\" class=\"dataframe\">\n",
       "  <thead>\n",
       "    <tr style=\"text-align: right;\">\n",
       "      <th></th>\n",
       "      <th>MSSubClass</th>\n",
       "      <th>LotFrontage</th>\n",
       "      <th>LotArea</th>\n",
       "      <th>SalePrice</th>\n",
       "    </tr>\n",
       "  </thead>\n",
       "  <tbody>\n",
       "    <tr>\n",
       "      <th>count</th>\n",
       "      <td>1168.000000</td>\n",
       "      <td>951.000000</td>\n",
       "      <td>1168.000000</td>\n",
       "      <td>1168.000000</td>\n",
       "    </tr>\n",
       "    <tr>\n",
       "      <th>mean</th>\n",
       "      <td>56.849315</td>\n",
       "      <td>70.343849</td>\n",
       "      <td>10689.642123</td>\n",
       "      <td>181441.541952</td>\n",
       "    </tr>\n",
       "    <tr>\n",
       "      <th>std</th>\n",
       "      <td>42.531862</td>\n",
       "      <td>24.897021</td>\n",
       "      <td>10759.366198</td>\n",
       "      <td>77263.583862</td>\n",
       "    </tr>\n",
       "    <tr>\n",
       "      <th>min</th>\n",
       "      <td>20.000000</td>\n",
       "      <td>21.000000</td>\n",
       "      <td>1300.000000</td>\n",
       "      <td>34900.000000</td>\n",
       "    </tr>\n",
       "    <tr>\n",
       "      <th>25%</th>\n",
       "      <td>20.000000</td>\n",
       "      <td>59.000000</td>\n",
       "      <td>7587.250000</td>\n",
       "      <td>130000.000000</td>\n",
       "    </tr>\n",
       "    <tr>\n",
       "      <th>50%</th>\n",
       "      <td>50.000000</td>\n",
       "      <td>70.000000</td>\n",
       "      <td>9600.000000</td>\n",
       "      <td>165000.000000</td>\n",
       "    </tr>\n",
       "    <tr>\n",
       "      <th>75%</th>\n",
       "      <td>70.000000</td>\n",
       "      <td>80.000000</td>\n",
       "      <td>11700.000000</td>\n",
       "      <td>214925.000000</td>\n",
       "    </tr>\n",
       "    <tr>\n",
       "      <th>max</th>\n",
       "      <td>190.000000</td>\n",
       "      <td>313.000000</td>\n",
       "      <td>215245.000000</td>\n",
       "      <td>745000.000000</td>\n",
       "    </tr>\n",
       "  </tbody>\n",
       "</table>\n",
       "</div>"
      ],
      "text/plain": [
       "        MSSubClass  LotFrontage        LotArea      SalePrice\n",
       "count  1168.000000   951.000000    1168.000000    1168.000000\n",
       "mean     56.849315    70.343849   10689.642123  181441.541952\n",
       "std      42.531862    24.897021   10759.366198   77263.583862\n",
       "min      20.000000    21.000000    1300.000000   34900.000000\n",
       "25%      20.000000    59.000000    7587.250000  130000.000000\n",
       "50%      50.000000    70.000000    9600.000000  165000.000000\n",
       "75%      70.000000    80.000000   11700.000000  214925.000000\n",
       "max     190.000000   313.000000  215245.000000  745000.000000"
      ]
     },
     "execution_count": 55,
     "metadata": {},
     "output_type": "execute_result"
    }
   ],
   "source": [
    "df_subset.describe()"
   ]
  },
  {
   "cell_type": "code",
   "execution_count": 56,
   "id": "d860b543",
   "metadata": {},
   "outputs": [
    {
     "data": {
      "text/plain": [
       "(1460, 81)"
      ]
     },
     "execution_count": 56,
     "metadata": {},
     "output_type": "execute_result"
    }
   ],
   "source": [
    "df.shape"
   ]
  },
  {
   "cell_type": "markdown",
   "id": "d1cc611a",
   "metadata": {},
   "source": [
    "## Checking for missing values"
   ]
  },
  {
   "cell_type": "code",
   "execution_count": 57,
   "id": "c23e4e58",
   "metadata": {},
   "outputs": [
    {
     "name": "stdout",
     "output_type": "stream",
     "text": [
      "Total missing values: 1311\n"
     ]
    },
    {
     "data": {
      "text/plain": [
       "Alley           1094\n",
       "LotFrontage      217\n",
       "MSSubClass         0\n",
       "MSZoning           0\n",
       "LotArea            0\n",
       "Street             0\n",
       "LotShape           0\n",
       "LandContour        0\n",
       "Utilities          0\n",
       "LotConfig          0\n",
       "LandSlope          0\n",
       "Neighborhood       0\n",
       "Condition1         0\n",
       "Condition2         0\n",
       "SalePrice          0\n",
       "dtype: int64"
      ]
     },
     "execution_count": 57,
     "metadata": {},
     "output_type": "execute_result"
    }
   ],
   "source": [
    "missing_per_col = df_subset.isna().sum().sort_values(ascending = False) \n",
    "total_missing = int(missing_per_col.sum()) \n",
    "print(\"Total missing values:\", total_missing) \n",
    "missing_per_col "
   ]
  },
  {
   "cell_type": "code",
   "execution_count": 58,
   "id": "a89ee02f",
   "metadata": {},
   "outputs": [
    {
     "data": {
      "image/png": "[encoded data removed]",
      "text/plain": [
       "<Figure size 640x480 with 1 Axes>"
      ]
     },
     "metadata": {},
     "output_type": "display_data"
    }
   ],
   "source": [
    "plt.figure()\n",
    "df_subset['SalePrice'].hist(bins=80)\n",
    "plt.ylabel('Frecventa')\n",
    "plt.xlabel('SalePrice')\n",
    "plt.show()"
   ]
  },
  {
   "cell_type": "code",
   "execution_count": 59,
   "id": "6224f04a",
   "metadata": {},
   "outputs": [
    {
     "data": {
      "image/png": "[encoded data removed]",
      "text/plain": [
       "<Figure size 640x480 with 1 Axes>"
      ]
     },
     "metadata": {},
     "output_type": "display_data"
    },
    {
     "data": {
      "image/png": "[encoded data removed]",
      "text/plain": [
       "<Figure size 640x480 with 1 Axes>"
      ]
     },
     "metadata": {},
     "output_type": "display_data"
    },
    {
     "data": {
      "image/png": "[encoded data removed]",
      "text/plain": [
       "<Figure size 640x480 with 1 Axes>"
      ]
     },
     "metadata": {},
     "output_type": "display_data"
    },
    {
     "data": {
      "image/png": "[encoded data removed]",
      "text/plain": [
       "<Figure size 640x480 with 1 Axes>"
      ]
     },
     "metadata": {},
     "output_type": "display_data"
    }
   ],
   "source": [
    "numeric_cols = df_subset.select_dtypes(include=[np.number]).columns.tolist()\n",
    "for col in numeric_cols:\n",
    "    plt.figure()\n",
    "    df_subset[col].hist(bins=80)\n",
    "    plt.title(f'Distributia variabilei {col}')\n",
    "    plt.show()\n"
   ]
  },
  {
   "cell_type": "code",
   "execution_count": 60,
   "id": "3a95d656",
   "metadata": {},
   "outputs": [
    {
     "data": {
      "image/png": "[encoded data removed]",
      "text/plain": [
       "<Figure size 640x480 with 1 Axes>"
      ]
     },
     "metadata": {},
     "output_type": "display_data"
    },
    {
     "data": {
      "image/png": "[encoded data removed]",
      "text/plain": [
       "<Figure size 640x480 with 1 Axes>"
      ]
     },
     "metadata": {},
     "output_type": "display_data"
    },
    {
     "data": {
      "image/png": "[encoded data removed]",
      "text/plain": [
       "<Figure size 640x480 with 1 Axes>"
      ]
     },
     "metadata": {},
     "output_type": "display_data"
    },
    {
     "data": {
      "image/png": "[encoded data removed]",
      "text/plain": [
       "<Figure size 640x480 with 1 Axes>"
      ]
     },
     "metadata": {},
     "output_type": "display_data"
    }
   ],
   "source": [
    "for col in numeric_cols:\n",
    "    plt.figure()\n",
    "    df_subset.boxplot(column=col)\n",
    "    plt.title(f'Boxplot pentru {col}')\n",
    "    plt.ylabel(col)\n",
    "    plt.show()\n",
    "    "
   ]
  },
  {
   "cell_type": "code",
   "execution_count": 62,
   "id": "2b0df066",
   "metadata": {},
   "outputs": [
    {
     "data": {
      "application/vnd.plotly.v1+json": {
       "config": {
        "plotlyServerURL": "https://plot.ly"
       },
       "data": [
        {
         "alignmentgroup": "True",
         "hovertemplate": "MSSubClass=%{y}<extra></extra>",
         "legendgroup": "",
         "marker": {
          "color": "#636efa"
         },
         "name": "",
         "notched": false,
         "offsetgroup": "",
         "orientation": "v",
         "showlegend": false,
         "type": "box",
         "x0": " ",
         "xaxis": "x",
         "y": {
          "bdata": "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",
          "dtype": "i2"
         },
         "y0": " ",
         "yaxis": "y"
        }
       ],
       "layout": {
        "boxmode": "group",
        "legend": {
         "tracegroupgap": 0
        },
        "template": {
         "data": {
          "bar": [
           {
            "error_x": {
             "color": "#2a3f5f"
            },
            "error_y": {
             "color": "#2a3f5f"
            },
            "marker": {
             "line": {
              "color": "#E5ECF6",
              "width": 0.5
             },
             "pattern": {
              "fillmode": "overlay",
              "size": 10,
              "solidity": 0.2
             }
            },
            "type": "bar"
           }
          ],
          "barpolar": [
           {
            "marker": {
             "line": {
              "color": "#E5ECF6",
              "width": 0.5
             },
             "pattern": {
              "fillmode": "overlay",
              "size": 10,
              "solidity": 0.2
             }
            },
            "type": "barpolar"
           }
          ],
          "carpet": [
           {
            "aaxis": {
             "endlinecolor": "#2a3f5f",
             "gridcolor": "white",
             "linecolor": "white",
             "minorgridcolor": "white",
             "startlinecolor": "#2a3f5f"
            },
            "baxis": {
             "endlinecolor": "#2a3f5f",
             "gridcolor": "white",
             "linecolor": "white",
             "minorgridcolor": "white",
             "startlinecolor": "#2a3f5f"
            },
            "type": "carpet"
           }
          ],
          "choropleth": [
           {
            "colorbar": {
             "outlinewidth": 0,
             "ticks": ""
            },
            "type": "choropleth"
           }
          ],
          "contour": [
           {
            "colorbar": {
             "outlinewidth": 0,
             "ticks": ""
            },
            "colorscale": [
             [
              0,
              "#0d0887"
             ],
             [
              0.1111111111111111,
              "#46039f"
             ],
             [
              0.2222222222222222,
              "#7201a8"
             ],
             [
              0.3333333333333333,
              "#9c179e"
             ],
             [
              0.4444444444444444,
              "#bd3786"
             ],
             [
              0.5555555555555556,
              "#d8576b"
             ],
             [
              0.6666666666666666,
              "#ed7953"
             ],
             [
              0.7777777777777778,
              "#fb9f3a"
             ],
             [
              0.8888888888888888,
              "#fdca26"
             ],
             [
              1,
              "#f0f921"
             ]
            ],
            "type": "contour"
           }
          ],
          "contourcarpet": [
           {
            "colorbar": {
             "outlinewidth": 0,
             "ticks": ""
            },
            "type": "contourcarpet"
           }
          ],
          "heatmap": [
           {
            "colorbar": {
             "outlinewidth": 0,
             "ticks": ""
            },
            "colorscale": [
             [
              0,
              "#0d0887"
             ],
             [
              0.1111111111111111,
              "#46039f"
             ],
             [
              0.2222222222222222,
              "#7201a8"
             ],
             [
              0.3333333333333333,
              "#9c179e"
             ],
             [
              0.4444444444444444,
              "#bd3786"
             ],
             [
              0.5555555555555556,
              "#d8576b"
             ],
             [
              0.6666666666666666,
              "#ed7953"
             ],
             [
              0.7777777777777778,
              "#fb9f3a"
             ],
             [
              0.8888888888888888,
              "#fdca26"
             ],
             [
              1,
              "#f0f921"
             ]
            ],
            "type": "heatmap"
           }
          ],
          "histogram": [
           {
            "marker": {
             "pattern": {
              "fillmode": "overlay",
              "size": 10,
              "solidity": 0.2
             }
            },
            "type": "histogram"
           }
          ],
          "histogram2d": [
           {
            "colorbar": {
             "outlinewidth": 0,
             "ticks": ""
            },
            "colorscale": [
             [
              0,
              "#0d0887"
             ],
             [
              0.1111111111111111,
              "#46039f"
             ],
             [
              0.2222222222222222,
              "#7201a8"
             ],
             [
              0.3333333333333333,
              "#9c179e"
             ],
             [
              0.4444444444444444,
              "#bd3786"
             ],
             [
              0.5555555555555556,
              "#d8576b"
             ],
             [
              0.6666666666666666,
              "#ed7953"
             ],
             [
              0.7777777777777778,
              "#fb9f3a"
             ],
             [
              0.8888888888888888,
              "#fdca26"
             ],
             [
              1,
              "#f0f921"
             ]
            ],
            "type": "histogram2d"
           }
          ],
          "histogram2dcontour": [
           {
            "colorbar": {
             "outlinewidth": 0,
             "ticks": ""
            },
            "colorscale": [
             [
              0,
              "#0d0887"
             ],
             [
              0.1111111111111111,
              "#46039f"
             ],
             [
              0.2222222222222222,
              "#7201a8"
             ],
             [
              0.3333333333333333,
              "#9c179e"
             ],
             [
              0.4444444444444444,
              "#bd3786"
             ],
             [
              0.5555555555555556,
              "#d8576b"
             ],
             [
              0.6666666666666666,
              "#ed7953"
             ],
             [
              0.7777777777777778,
              "#fb9f3a"
             ],
             [
              0.8888888888888888,
              "#fdca26"
             ],
             [
              1,
              "#f0f921"
             ]
            ],
            "type": "histogram2dcontour"
           }
          ],
          "mesh3d": [
           {
            "colorbar": {
             "outlinewidth": 0,
             "ticks": ""
            },
            "type": "mesh3d"
           }
          ],
          "parcoords": [
           {
            "line": {
             "colorbar": {
              "outlinewidth": 0,
              "ticks": ""
             }
            },
            "type": "parcoords"
           }
          ],
          "pie": [
           {
            "automargin": true,
            "type": "pie"
           }
          ],
          "scatter": [
           {
            "fillpattern": {
             "fillmode": "overlay",
             "size": 10,
             "solidity": 0.2
            },
            "type": "scatter"
           }
          ],
          "scatter3d": [
           {
            "line": {
             "colorbar": {
              "outlinewidth": 0,
              "ticks": ""
             }
            },
            "marker": {
             "colorbar": {
              "outlinewidth": 0,
              "ticks": ""
             }
            },
            "type": "scatter3d"
           }
          ],
          "scattercarpet": [
           {
            "marker": {
             "colorbar": {
              "outlinewidth": 0,
              "ticks": ""
             }
            },
            "type": "scattercarpet"
           }
          ],
          "scattergeo": [
           {
            "marker": {
             "colorbar": {
              "outlinewidth": 0,
              "ticks": ""
             }
            },
            "type": "scattergeo"
           }
          ],
          "scattergl": [
           {
            "marker": {
             "colorbar": {
              "outlinewidth": 0,
              "ticks": ""
             }
            },
            "type": "scattergl"
           }
          ],
          "scattermap": [
           {
            "marker": {
             "colorbar": {
              "outlinewidth": 0,
              "ticks": ""
             }
            },
            "type": "scattermap"
           }
          ],
          "scattermapbox": [
           {
            "marker": {
             "colorbar": {
              "outlinewidth": 0,
              "ticks": ""
             }
            },
            "type": "scattermapbox"
           }
          ],
          "scatterpolar": [
           {
            "marker": {
             "colorbar": {
              "outlinewidth": 0,
              "ticks": ""
             }
            },
            "type": "scatterpolar"
           }
          ],
          "scatterpolargl": [
           {
            "marker": {
             "colorbar": {
              "outlinewidth": 0,
              "ticks": ""
             }
            },
            "type": "scatterpolargl"
           }
          ],
          "scatterternary": [
           {
            "marker": {
             "colorbar": {
              "outlinewidth": 0,
              "ticks": ""
             }
            },
            "type": "scatterternary"
           }
          ],
          "surface": [
           {
            "colorbar": {
             "outlinewidth": 0,
             "ticks": ""
            },
            "colorscale": [
             [
              0,
              "#0d0887"
             ],
             [
              0.1111111111111111,
              "#46039f"
             ],
             [
              0.2222222222222222,
              "#7201a8"
             ],
             [
              0.3333333333333333,
              "#9c179e"
             ],
             [
              0.4444444444444444,
              "#bd3786"
             ],
             [
              0.5555555555555556,
              "#d8576b"
             ],
             [
              0.6666666666666666,
              "#ed7953"
             ],
             [
              0.7777777777777778,
              "#fb9f3a"
             ],
             [
              0.8888888888888888,
              "#fdca26"
             ],
             [
              1,
              "#f0f921"
             ]
            ],
            "type": "surface"
           }
          ],
          "table": [
           {
            "cells": {
             "fill": {
              "color": "#EBF0F8"
             },
             "line": {
              "color": "white"
             }
            },
            "header": {
             "fill": {
              "color": "#C8D4E3"
             },
             "line": {
              "color": "white"
             }
            },
            "type": "table"
           }
          ]
         },
         "layout": {
          "annotationdefaults": {
           "arrowcolor": "#2a3f5f",
           "arrowhead": 0,
           "arrowwidth": 1
          },
          "autotypenumbers": "strict",
          "coloraxis": {
           "colorbar": {
            "outlinewidth": 0,
            "ticks": ""
           }
          },
          "colorscale": {
           "diverging": [
            [
             0,
             "#8e0152"
            ],
            [
             0.1,
             "#c51b7d"
            ],
            [
             0.2,
             "#de77ae"
            ],
            [
             0.3,
             "#f1b6da"
            ],
            [
             0.4,
             "#fde0ef"
            ],
            [
             0.5,
             "#f7f7f7"
            ],
            [
             0.6,
             "#e6f5d0"
            ],
            [
             0.7,
             "#b8e186"
            ],
            [
             0.8,
             "#7fbc41"
            ],
            [
             0.9,
             "#4d9221"
            ],
            [
             1,
             "#276419"
            ]
           ],
           "sequential": [
            [
             0,
             "#0d0887"
            ],
            [
             0.1111111111111111,
             "#46039f"
            ],
            [
             0.2222222222222222,
             "#7201a8"
            ],
            [
             0.3333333333333333,
             "#9c179e"
            ],
            [
             0.4444444444444444,
             "#bd3786"
            ],
            [
             0.5555555555555556,
             "#d8576b"
            ],
            [
             0.6666666666666666,
             "#ed7953"
            ],
            [
             0.7777777777777778,
             "#fb9f3a"
            ],
            [
             0.8888888888888888,
             "#fdca26"
            ],
            [
             1,
             "#f0f921"
            ]
           ],
           "sequentialminus": [
            [
             0,
             "#0d0887"
            ],
            [
             0.1111111111111111,
             "#46039f"
            ],
            [
             0.2222222222222222,
             "#7201a8"
            ],
            [
             0.3333333333333333,
             "#9c179e"
            ],
            [
             0.4444444444444444,
             "#bd3786"
            ],
            [
             0.5555555555555556,
             "#d8576b"
            ],
            [
             0.6666666666666666,
             "#ed7953"
            ],
            [
             0.7777777777777778,
             "#fb9f3a"
            ],
            [
             0.8888888888888888,
             "#fdca26"
            ],
            [
             1,
             "#f0f921"
            ]
           ]
          },
          "colorway": [
           "#636efa",
           "#EF553B",
           "#00cc96",
           "#ab63fa",
           "#FFA15A",
           "#19d3f3",
           "#FF6692",
           "#B6E880",
           "#FF97FF",
           "#FECB52"
          ],
          "font": {
           "color": "#2a3f5f"
          },
          "geo": {
           "bgcolor": "white",
           "lakecolor": "white",
           "landcolor": "#E5ECF6",
           "showlakes": true,
           "showland": true,
           "subunitcolor": "white"
          },
          "hoverlabel": {
           "align": "left"
          },
          "hovermode": "closest",
          "mapbox": {
           "style": "light"
          },
          "paper_bgcolor": "white",
          "plot_bgcolor": "#E5ECF6",
          "polar": {
           "angularaxis": {
            "gridcolor": "white",
            "linecolor": "white",
            "ticks": ""
           },
           "bgcolor": "#E5ECF6",
           "radialaxis": {
            "gridcolor": "white",
            "linecolor": "white",
            "ticks": ""
           }
          },
          "scene": {
           "xaxis": {
            "backgroundcolor": "#E5ECF6",
            "gridcolor": "white",
            "gridwidth": 2,
            "linecolor": "white",
            "showbackground": true,
            "ticks": "",
            "zerolinecolor": "white"
           },
           "yaxis": {
            "backgroundcolor": "#E5ECF6",
            "gridcolor": "white",
            "gridwidth": 2,
            "linecolor": "white",
            "showbackground": true,
            "ticks": "",
            "zerolinecolor": "white"
           },
           "zaxis": {
            "backgroundcolor": "#E5ECF6",
            "gridcolor": "white",
            "gridwidth": 2,
            "linecolor": "white",
            "showbackground": true,
            "ticks": "",
            "zerolinecolor": "white"
           }
          },
          "shapedefaults": {
           "line": {
            "color": "#2a3f5f"
           }
          },
          "ternary": {
           "aaxis": {
            "gridcolor": "white",
            "linecolor": "white",
            "ticks": ""
           },
           "baxis": {
            "gridcolor": "white",
            "linecolor": "white",
            "ticks": ""
           },
           "bgcolor": "#E5ECF6",
           "caxis": {
            "gridcolor": "white",
            "linecolor": "white",
            "ticks": ""
           }
          },
          "title": {
           "x": 0.05
          },
          "xaxis": {
           "automargin": true,
           "gridcolor": "white",
           "linecolor": "white",
           "ticks": "",
           "title": {
            "standoff": 15
           },
           "zerolinecolor": "white",
           "zerolinewidth": 2
          },
          "yaxis": {
           "automargin": true,
           "gridcolor": "white",
           "linecolor": "white",
           "ticks": "",
           "title": {
            "standoff": 15
           },
           "zerolinecolor": "white",
           "zerolinewidth": 2
          }
         }
        },
        "title": {
         "text": "Boxplot pentru MSSubClass"
        },
        "xaxis": {
         "anchor": "y",
         "domain": [
          0,
          1
         ]
        },
        "yaxis": {
         "anchor": "x",
         "domain": [
          0,
          1
         ],
         "title": {
          "text": "MSSubClass"
         }
        }
       }
      }
     },
     "metadata": {},
     "output_type": "display_data"
    },
    {
     "data": {
      "application/vnd.plotly.v1+json": {
       "config": {
        "plotlyServerURL": "https://plot.ly"
       },
       "data": [
        {
         "alignmentgroup": "True",
         "hovertemplate": "LotFrontage=%{y}<extra></extra>",
         "legendgroup": "",
         "marker": {
          "color": "#636efa"
         },
         "name": "",
         "notched": false,
         "offsetgroup": "",
         "orientation": "v",
         "showlegend": false,
         "type": "box",
         "x0": " ",
         "xaxis": "x",
         "y": {
          "bdata": "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",
          "dtype": "f8"
         },
         "y0": " ",
         "yaxis": "y"
        }
       ],
       "layout": {
        "boxmode": "group",
        "legend": {
         "tracegroupgap": 0
        },
        "template": {
         "data": {
          "bar": [
           {
            "error_x": {
             "color": "#2a3f5f"
            },
            "error_y": {
             "color": "#2a3f5f"
            },
            "marker": {
             "line": {
              "color": "#E5ECF6",
              "width": 0.5
             },
             "pattern": {
              "fillmode": "overlay",
              "size": 10,
              "solidity": 0.2
             }
            },
            "type": "bar"
           }
          ],
          "barpolar": [
           {
            "marker": {
             "line": {
              "color": "#E5ECF6",
              "width": 0.5
             },
             "pattern": {
              "fillmode": "overlay",
              "size": 10,
              "solidity": 0.2
             }
            },
            "type": "barpolar"
           }
          ],
          "carpet": [
           {
            "aaxis": {
             "endlinecolor": "#2a3f5f",
             "gridcolor": "white",
             "linecolor": "white",
             "minorgridcolor": "white",
             "startlinecolor": "#2a3f5f"
            },
            "baxis": {
             "endlinecolor": "#2a3f5f",
             "gridcolor": "white",
             "linecolor": "white",
             "minorgridcolor": "white",
             "startlinecolor": "#2a3f5f"
            },
            "type": "carpet"
           }
          ],
          "choropleth": [
           {
            "colorbar": {
             "outlinewidth": 0,
             "ticks": ""
            },
            "type": "choropleth"
           }
          ],
          "contour": [
           {
            "colorbar": {
             "outlinewidth": 0,
             "ticks": ""
            },
            "colorscale": [
             [
              0,
              "#0d0887"
             ],
             [
              0.1111111111111111,
              "#46039f"
             ],
             [
              0.2222222222222222,
              "#7201a8"
             ],
             [
              0.3333333333333333,
              "#9c179e"
             ],
             [
              0.4444444444444444,
              "#bd3786"
             ],
             [
              0.5555555555555556,
              "#d8576b"
             ],
             [
              0.6666666666666666,
              "#ed7953"
             ],
             [
              0.7777777777777778,
              "#fb9f3a"
             ],
             [
              0.8888888888888888,
              "#fdca26"
             ],
             [
              1,
              "#f0f921"
             ]
            ],
            "type": "contour"
           }
          ],
          "contourcarpet": [
           {
            "colorbar": {
             "outlinewidth": 0,
             "ticks": ""
            },
            "type": "contourcarpet"
           }
          ],
          "heatmap": [
           {
            "colorbar": {
             "outlinewidth": 0,
             "ticks": ""
            },
            "colorscale": [
             [
              0,
              "#0d0887"
             ],
             [
              0.1111111111111111,
              "#46039f"
             ],
             [
              0.2222222222222222,
              "#7201a8"
             ],
             [
              0.3333333333333333,
              "#9c179e"
             ],
             [
              0.4444444444444444,
              "#bd3786"
             ],
             [
              0.5555555555555556,
              "#d8576b"
             ],
             [
              0.6666666666666666,
              "#ed7953"
             ],
             [
              0.7777777777777778,
              "#fb9f3a"
             ],
             [
              0.8888888888888888,
              "#fdca26"
             ],
             [
              1,
              "#f0f921"
             ]
            ],
            "type": "heatmap"
           }
          ],
          "histogram": [
           {
            "marker": {
             "pattern": {
              "fillmode": "overlay",
              "size": 10,
              "solidity": 0.2
             }
            },
            "type": "histogram"
           }
          ],
          "histogram2d": [
           {
            "colorbar": {
             "outlinewidth": 0,
             "ticks": ""
            },
            "colorscale": [
             [
              0,
              "#0d0887"
             ],
             [
              0.1111111111111111,
              "#46039f"
             ],
             [
              0.2222222222222222,
              "#7201a8"
             ],
             [
              0.3333333333333333,
              "#9c179e"
             ],
             [
              0.4444444444444444,
              "#bd3786"
             ],
             [
              0.5555555555555556,
              "#d8576b"
             ],
             [
              0.6666666666666666,
              "#ed7953"
             ],
             [
              0.7777777777777778,
              "#fb9f3a"
             ],
             [
              0.8888888888888888,
              "#fdca26"
             ],
             [
              1,
              "#f0f921"
             ]
            ],
            "type": "histogram2d"
           }
          ],
          "histogram2dcontour": [
           {
            "colorbar": {
             "outlinewidth": 0,
             "ticks": ""
            },
            "colorscale": [
             [
              0,
              "#0d0887"
             ],
             [
              0.1111111111111111,
              "#46039f"
             ],
             [
              0.2222222222222222,
              "#7201a8"
             ],
             [
              0.3333333333333333,
              "#9c179e"
             ],
             [
              0.4444444444444444,
              "#bd3786"
             ],
             [
              0.5555555555555556,
              "#d8576b"
             ],
             [
              0.6666666666666666,
              "#ed7953"
             ],
             [
              0.7777777777777778,
              "#fb9f3a"
             ],
             [
              0.8888888888888888,
              "#fdca26"
             ],
             [
              1,
              "#f0f921"
             ]
            ],
            "type": "histogram2dcontour"
           }
          ],
          "mesh3d": [
           {
            "colorbar": {
             "outlinewidth": 0,
             "ticks": ""
            },
            "type": "mesh3d"
           }
          ],
          "parcoords": [
           {
            "line": {
             "colorbar": {
              "outlinewidth": 0,
              "ticks": ""
             }
            },
            "type": "parcoords"
           }
          ],
          "pie": [
           {
            "automargin": true,
            "type": "pie"
           }
          ],
          "scatter": [
           {
            "fillpattern": {
             "fillmode": "overlay",
             "size": 10,
             "solidity": 0.2
            },
            "type": "scatter"
           }
          ],
          "scatter3d": [
           {
            "line": {
             "colorbar": {
              "outlinewidth": 0,
              "ticks": ""
             }
            },
            "marker": {
             "colorbar": {
              "outlinewidth": 0,
              "ticks": ""
             }
            },
            "type": "scatter3d"
           }
          ],
          "scattercarpet": [
           {
            "marker": {
             "colorbar": {
              "outlinewidth": 0,
              "ticks": ""
             }
            },
            "type": "scattercarpet"
           }
          ],
          "scattergeo": [
           {
            "marker": {
             "colorbar": {
              "outlinewidth": 0,
              "ticks": ""
             }
            },
            "type": "scattergeo"
           }
          ],
          "scattergl": [
           {
            "marker": {
             "colorbar": {
              "outlinewidth": 0,
              "ticks": ""
             }
            },
            "type": "scattergl"
           }
          ],
          "scattermap": [
           {
            "marker": {
             "colorbar": {
              "outlinewidth": 0,
              "ticks": ""
             }
            },
            "type": "scattermap"
           }
          ],
          "scattermapbox": [
           {
            "marker": {
             "colorbar": {
              "outlinewidth": 0,
              "ticks": ""
             }
            },
            "type": "scattermapbox"
           }
          ],
          "scatterpolar": [
           {
            "marker": {
             "colorbar": {
              "outlinewidth": 0,
              "ticks": ""
             }
            },
            "type": "scatterpolar"
           }
          ],
          "scatterpolargl": [
           {
            "marker": {
             "colorbar": {
              "outlinewidth": 0,
              "ticks": ""
             }
            },
            "type": "scatterpolargl"
           }
          ],
          "scatterternary": [
           {
            "marker": {
             "colorbar": {
              "outlinewidth": 0,
              "ticks": ""
             }
            },
            "type": "scatterternary"
           }
          ],
          "surface": [
           {
            "colorbar": {
             "outlinewidth": 0,
             "ticks": ""
            },
            "colorscale": [
             [
              0,
              "#0d0887"
             ],
             [
              0.1111111111111111,
              "#46039f"
             ],
             [
              0.2222222222222222,
              "#7201a8"
             ],
             [
              0.3333333333333333,
              "#9c179e"
             ],
             [
              0.4444444444444444,
              "#bd3786"
             ],
             [
              0.5555555555555556,
              "#d8576b"
             ],
             [
              0.6666666666666666,
              "#ed7953"
             ],
             [
              0.7777777777777778,
              "#fb9f3a"
             ],
             [
              0.8888888888888888,
              "#fdca26"
             ],
             [
              1,
              "#f0f921"
             ]
            ],
            "type": "surface"
           }
          ],
          "table": [
           {
            "cells": {
             "fill": {
              "color": "#EBF0F8"
             },
             "line": {
              "color": "white"
             }
            },
            "header": {
             "fill": {
              "color": "#C8D4E3"
             },
             "line": {
              "color": "white"
             }
            },
            "type": "table"
           }
          ]
         },
         "layout": {
          "annotationdefaults": {
           "arrowcolor": "#2a3f5f",
           "arrowhead": 0,
           "arrowwidth": 1
          },
          "autotypenumbers": "strict",
          "coloraxis": {
           "colorbar": {
            "outlinewidth": 0,
            "ticks": ""
           }
          },
          "colorscale": {
           "diverging": [
            [
             0,
             "#8e0152"
            ],
            [
             0.1,
             "#c51b7d"
            ],
            [
             0.2,
             "#de77ae"
            ],
            [
             0.3,
             "#f1b6da"
            ],
            [
             0.4,
             "#fde0ef"
            ],
            [
             0.5,
             "#f7f7f7"
            ],
            [
             0.6,
             "#e6f5d0"
            ],
            [
             0.7,
             "#b8e186"
            ],
            [
             0.8,
             "#7fbc41"
            ],
            [
             0.9,
             "#4d9221"
            ],
            [
             1,
             "#276419"
            ]
           ],
           "sequential": [
            [
             0,
             "#0d0887"
            ],
            [
             0.1111111111111111,
             "#46039f"
            ],
            [
             0.2222222222222222,
             "#7201a8"
            ],
            [
             0.3333333333333333,
             "#9c179e"
            ],
            [
             0.4444444444444444,
             "#bd3786"
            ],
            [
             0.5555555555555556,
             "#d8576b"
            ],
            [
             0.6666666666666666,
             "#ed7953"
            ],
            [
             0.7777777777777778,
             "#fb9f3a"
            ],
            [
             0.8888888888888888,
             "#fdca26"
            ],
            [
             1,
             "#f0f921"
            ]
           ],
           "sequentialminus": [
            [
             0,
             "#0d0887"
            ],
            [
             0.1111111111111111,
             "#46039f"
            ],
            [
             0.2222222222222222,
             "#7201a8"
            ],
            [
             0.3333333333333333,
             "#9c179e"
            ],
            [
             0.4444444444444444,
             "#bd3786"
            ],
            [
             0.5555555555555556,
             "#d8576b"
            ],
            [
             0.6666666666666666,
             "#ed7953"
            ],
            [
             0.7777777777777778,
             "#fb9f3a"
            ],
            [
             0.8888888888888888,
             "#fdca26"
            ],
            [
             1,
             "#f0f921"
            ]
           ]
          },
          "colorway": [
           "#636efa",
           "#EF553B",
           "#00cc96",
           "#ab63fa",
           "#FFA15A",
           "#19d3f3",
           "#FF6692",
           "#B6E880",
           "#FF97FF",
           "#FECB52"
          ],
          "font": {
           "color": "#2a3f5f"
          },
          "geo": {
           "bgcolor": "white",
           "lakecolor": "white",
           "landcolor": "#E5ECF6",
           "showlakes": true,
           "showland": true,
           "subunitcolor": "white"
          },
          "hoverlabel": {
           "align": "left"
          },
          "hovermode": "closest",
          "mapbox": {
           "style": "light"
          },
          "paper_bgcolor": "white",
          "plot_bgcolor": "#E5ECF6",
          "polar": {
           "angularaxis": {
            "gridcolor": "white",
            "linecolor": "white",
            "ticks": ""
           },
           "bgcolor": "#E5ECF6",
           "radialaxis": {
            "gridcolor": "white",
            "linecolor": "white",
            "ticks": ""
           }
          },
          "scene": {
           "xaxis": {
            "backgroundcolor": "#E5ECF6",
            "gridcolor": "white",
            "gridwidth": 2,
            "linecolor": "white",
            "showbackground": true,
            "ticks": "",
            "zerolinecolor": "white"
           },
           "yaxis": {
            "backgroundcolor": "#E5ECF6",
            "gridcolor": "white",
            "gridwidth": 2,
            "linecolor": "white",
            "showbackground": true,
            "ticks": "",
            "zerolinecolor": "white"
           },
           "zaxis": {
            "backgroundcolor": "#E5ECF6",
            "gridcolor": "white",
            "gridwidth": 2,
            "linecolor": "white",
            "showbackground": true,
            "ticks": "",
            "zerolinecolor": "white"
           }
          },
          "shapedefaults": {
           "line": {
            "color": "#2a3f5f"
           }
          },
          "ternary": {
           "aaxis": {
            "gridcolor": "white",
            "linecolor": "white",
            "ticks": ""
           },
           "baxis": {
            "gridcolor": "white",
            "linecolor": "white",
            "ticks": ""
           },
           "bgcolor": "#E5ECF6",
           "caxis": {
            "gridcolor": "white",
            "linecolor": "white",
            "ticks": ""
           }
          },
          "title": {
           "x": 0.05
          },
          "xaxis": {
           "automargin": true,
           "gridcolor": "white",
           "linecolor": "white",
           "ticks": "",
           "title": {
            "standoff": 15
           },
           "zerolinecolor": "white",
           "zerolinewidth": 2
          },
          "yaxis": {
           "automargin": true,
           "gridcolor": "white",
           "linecolor": "white",
           "ticks": "",
           "title": {
            "standoff": 15
           },
           "zerolinecolor": "white",
           "zerolinewidth": 2
          }
         }
        },
        "title": {
         "text": "Boxplot pentru LotFrontage"
        },
        "xaxis": {
         "anchor": "y",
         "domain": [
          0,
          1
         ]
        },
        "yaxis": {
         "anchor": "x",
         "domain": [
          0,
          1
         ],
         "title": {
          "text": "LotFrontage"
         }
        }
       }
      }
     },
     "metadata": {},
     "output_type": "display_data"
    },
    {
     "data": {
      "application/vnd.plotly.v1+json": {
       "config": {
        "plotlyServerURL": "https://plot.ly"
       },
       "data": [
        {
         "alignmentgroup": "True",
         "hovertemplate": "LotArea=%{y}<extra></extra>",
         "legendgroup": "",
         "marker": {
          "color": "#636efa"
         },
         "name": "",
         "notched": false,
         "offsetgroup": "",
         "orientation": "v",
         "showlegend": false,
         "type": "box",
         "x0": " ",
         "xaxis": "x",
         "y": {
          "bdata": "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",
          "dtype": "i4"
         },
         "y0": " ",
         "yaxis": "y"
        }
       ],
       "layout": {
        "boxmode": "group",
        "legend": {
         "tracegroupgap": 0
        },
        "template": {
         "data": {
          "bar": [
           {
            "error_x": {
             "color": "#2a3f5f"
            },
            "error_y": {
             "color": "#2a3f5f"
            },
            "marker": {
             "line": {
              "color": "#E5ECF6",
              "width": 0.5
             },
             "pattern": {
              "fillmode": "overlay",
              "size": 10,
              "solidity": 0.2
             }
            },
            "type": "bar"
           }
          ],
          "barpolar": [
           {
            "marker": {
             "line": {
              "color": "#E5ECF6",
              "width": 0.5
             },
             "pattern": {
              "fillmode": "overlay",
              "size": 10,
              "solidity": 0.2
             }
            },
            "type": "barpolar"
           }
          ],
          "carpet": [
           {
            "aaxis": {
             "endlinecolor": "#2a3f5f",
             "gridcolor": "white",
             "linecolor": "white",
             "minorgridcolor": "white",
             "startlinecolor": "#2a3f5f"
            },
            "baxis": {
             "endlinecolor": "#2a3f5f",
             "gridcolor": "white",
             "linecolor": "white",
             "minorgridcolor": "white",
             "startlinecolor": "#2a3f5f"
            },
            "type": "carpet"
           }
          ],
          "choropleth": [
           {
            "colorbar": {
             "outlinewidth": 0,
             "ticks": ""
            },
            "type": "choropleth"
           }
          ],
          "contour": [
           {
            "colorbar": {
             "outlinewidth": 0,
             "ticks": ""
            },
            "colorscale": [
             [
              0,
              "#0d0887"
             ],
             [
              0.1111111111111111,
              "#46039f"
             ],
             [
              0.2222222222222222,
              "#7201a8"
             ],
             [
              0.3333333333333333,
              "#9c179e"
             ],
             [
              0.4444444444444444,
              "#bd3786"
             ],
             [
              0.5555555555555556,
              "#d8576b"
             ],
             [
              0.6666666666666666,
              "#ed7953"
             ],
             [
              0.7777777777777778,
              "#fb9f3a"
             ],
             [
              0.8888888888888888,
              "#fdca26"
             ],
             [
              1,
              "#f0f921"
             ]
            ],
            "type": "contour"
           }
          ],
          "contourcarpet": [
           {
            "colorbar": {
             "outlinewidth": 0,
             "ticks": ""
            },
            "type": "contourcarpet"
           }
          ],
          "heatmap": [
           {
            "colorbar": {
             "outlinewidth": 0,
             "ticks": ""
            },
            "colorscale": [
             [
              0,
              "#0d0887"
             ],
             [
              0.1111111111111111,
              "#46039f"
             ],
             [
              0.2222222222222222,
              "#7201a8"
             ],
             [
              0.3333333333333333,
              "#9c179e"
             ],
             [
              0.4444444444444444,
              "#bd3786"
             ],
             [
              0.5555555555555556,
              "#d8576b"
             ],
             [
              0.6666666666666666,
              "#ed7953"
             ],
             [
              0.7777777777777778,
              "#fb9f3a"
             ],
             [
              0.8888888888888888,
              "#fdca26"
             ],
             [
              1,
              "#f0f921"
             ]
            ],
            "type": "heatmap"
           }
          ],
          "histogram": [
           {
            "marker": {
             "pattern": {
              "fillmode": "overlay",
              "size": 10,
              "solidity": 0.2
             }
            },
            "type": "histogram"
           }
          ],
          "histogram2d": [
           {
            "colorbar": {
             "outlinewidth": 0,
             "ticks": ""
            },
            "colorscale": [
             [
              0,
              "#0d0887"
             ],
             [
              0.1111111111111111,
              "#46039f"
             ],
             [
              0.2222222222222222,
              "#7201a8"
             ],
             [
              0.3333333333333333,
              "#9c179e"
             ],
             [
              0.4444444444444444,
              "#bd3786"
             ],
             [
              0.5555555555555556,
              "#d8576b"
             ],
             [
              0.6666666666666666,
              "#ed7953"
             ],
             [
              0.7777777777777778,
              "#fb9f3a"
             ],
             [
              0.8888888888888888,
              "#fdca26"
             ],
             [
              1,
              "#f0f921"
             ]
            ],
            "type": "histogram2d"
           }
          ],
          "histogram2dcontour": [
           {
            "colorbar": {
             "outlinewidth": 0,
             "ticks": ""
            },
            "colorscale": [
             [
              0,
              "#0d0887"
             ],
             [
              0.1111111111111111,
              "#46039f"
             ],
             [
              0.2222222222222222,
              "#7201a8"
             ],
             [
              0.3333333333333333,
              "#9c179e"
             ],
             [
              0.4444444444444444,
              "#bd3786"
             ],
             [
              0.5555555555555556,
              "#d8576b"
             ],
             [
              0.6666666666666666,
              "#ed7953"
             ],
             [
              0.7777777777777778,
              "#fb9f3a"
             ],
             [
              0.8888888888888888,
              "#fdca26"
             ],
             [
              1,
              "#f0f921"
             ]
            ],
            "type": "histogram2dcontour"
           }
          ],
          "mesh3d": [
           {
            "colorbar": {
             "outlinewidth": 0,
             "ticks": ""
            },
            "type": "mesh3d"
           }
          ],
          "parcoords": [
           {
            "line": {
             "colorbar": {
              "outlinewidth": 0,
              "ticks": ""
             }
            },
            "type": "parcoords"
           }
          ],
          "pie": [
           {
            "automargin": true,
            "type": "pie"
           }
          ],
          "scatter": [
           {
            "fillpattern": {
             "fillmode": "overlay",
             "size": 10,
             "solidity": 0.2
            },
            "type": "scatter"
           }
          ],
          "scatter3d": [
           {
            "line": {
             "colorbar": {
              "outlinewidth": 0,
              "ticks": ""
             }
            },
            "marker": {
             "colorbar": {
              "outlinewidth": 0,
              "ticks": ""
             }
            },
            "type": "scatter3d"
           }
          ],
          "scattercarpet": [
           {
            "marker": {
             "colorbar": {
              "outlinewidth": 0,
              "ticks": ""
             }
            },
            "type": "scattercarpet"
           }
          ],
          "scattergeo": [
           {
            "marker": {
             "colorbar": {
              "outlinewidth": 0,
              "ticks": ""
             }
            },
            "type": "scattergeo"
           }
          ],
          "scattergl": [
           {
            "marker": {
             "colorbar": {
              "outlinewidth": 0,
              "ticks": ""
             }
            },
            "type": "scattergl"
           }
          ],
          "scattermap": [
           {
            "marker": {
             "colorbar": {
              "outlinewidth": 0,
              "ticks": ""
             }
            },
            "type": "scattermap"
           }
          ],
          "scattermapbox": [
           {
            "marker": {
             "colorbar": {
              "outlinewidth": 0,
              "ticks": ""
             }
            },
            "type": "scattermapbox"
           }
          ],
          "scatterpolar": [
           {
            "marker": {
             "colorbar": {
              "outlinewidth": 0,
              "ticks": ""
             }
            },
            "type": "scatterpolar"
           }
          ],
          "scatterpolargl": [
           {
            "marker": {
             "colorbar": {
              "outlinewidth": 0,
              "ticks": ""
             }
            },
            "type": "scatterpolargl"
           }
          ],
          "scatterternary": [
           {
            "marker": {
             "colorbar": {
              "outlinewidth": 0,
              "ticks": ""
             }
            },
            "type": "scatterternary"
           }
          ],
          "surface": [
           {
            "colorbar": {
             "outlinewidth": 0,
             "ticks": ""
            },
            "colorscale": [
             [
              0,
              "#0d0887"
             ],
             [
              0.1111111111111111,
              "#46039f"
             ],
             [
              0.2222222222222222,
              "#7201a8"
             ],
             [
              0.3333333333333333,
              "#9c179e"
             ],
             [
              0.4444444444444444,
              "#bd3786"
             ],
             [
              0.5555555555555556,
              "#d8576b"
             ],
             [
              0.6666666666666666,
              "#ed7953"
             ],
             [
              0.7777777777777778,
              "#fb9f3a"
             ],
             [
              0.8888888888888888,
              "#fdca26"
             ],
             [
              1,
              "#f0f921"
             ]
            ],
            "type": "surface"
           }
          ],
          "table": [
           {
            "cells": {
             "fill": {
              "color": "#EBF0F8"
             },
             "line": {
              "color": "white"
             }
            },
            "header": {
             "fill": {
              "color": "#C8D4E3"
             },
             "line": {
              "color": "white"
             }
            },
            "type": "table"
           }
          ]
         },
         "layout": {
          "annotationdefaults": {
           "arrowcolor": "#2a3f5f",
           "arrowhead": 0,
           "arrowwidth": 1
          },
          "autotypenumbers": "strict",
          "coloraxis": {
           "colorbar": {
            "outlinewidth": 0,
            "ticks": ""
           }
          },
          "colorscale": {
           "diverging": [
            [
             0,
             "#8e0152"
            ],
            [
             0.1,
             "#c51b7d"
            ],
            [
             0.2,
             "#de77ae"
            ],
            [
             0.3,
             "#f1b6da"
            ],
            [
             0.4,
             "#fde0ef"
            ],
            [
             0.5,
             "#f7f7f7"
            ],
            [
             0.6,
             "#e6f5d0"
            ],
            [
             0.7,
             "#b8e186"
            ],
            [
             0.8,
             "#7fbc41"
            ],
            [
             0.9,
             "#4d9221"
            ],
            [
             1,
             "#276419"
            ]
           ],
           "sequential": [
            [
             0,
             "#0d0887"
            ],
            [
             0.1111111111111111,
             "#46039f"
            ],
            [
             0.2222222222222222,
             "#7201a8"
            ],
            [
             0.3333333333333333,
             "#9c179e"
            ],
            [
             0.4444444444444444,
             "#bd3786"
            ],
            [
             0.5555555555555556,
             "#d8576b"
            ],
            [
             0.6666666666666666,
             "#ed7953"
            ],
            [
             0.7777777777777778,
             "#fb9f3a"
            ],
            [
             0.8888888888888888,
             "#fdca26"
            ],
            [
             1,
             "#f0f921"
            ]
           ],
           "sequentialminus": [
            [
             0,
             "#0d0887"
            ],
            [
             0.1111111111111111,
             "#46039f"
            ],
            [
             0.2222222222222222,
             "#7201a8"
            ],
            [
             0.3333333333333333,
             "#9c179e"
            ],
            [
             0.4444444444444444,
             "#bd3786"
            ],
            [
             0.5555555555555556,
             "#d8576b"
            ],
            [
             0.6666666666666666,
             "#ed7953"
            ],
            [
             0.7777777777777778,
             "#fb9f3a"
            ],
            [
             0.8888888888888888,
             "#fdca26"
            ],
            [
             1,
             "#f0f921"
            ]
           ]
          },
          "colorway": [
           "#636efa",
           "#EF553B",
           "#00cc96",
           "#ab63fa",
           "#FFA15A",
           "#19d3f3",
           "#FF6692",
           "#B6E880",
           "#FF97FF",
           "#FECB52"
          ],
          "font": {
           "color": "#2a3f5f"
          },
          "geo": {
           "bgcolor": "white",
           "lakecolor": "white",
           "landcolor": "#E5ECF6",
           "showlakes": true,
           "showland": true,
           "subunitcolor": "white"
          },
          "hoverlabel": {
           "align": "left"
          },
          "hovermode": "closest",
          "mapbox": {
           "style": "light"
          },
          "paper_bgcolor": "white",
          "plot_bgcolor": "#E5ECF6",
          "polar": {
           "angularaxis": {
            "gridcolor": "white",
            "linecolor": "white",
            "ticks": ""
           },
           "bgcolor": "#E5ECF6",
           "radialaxis": {
            "gridcolor": "white",
            "linecolor": "white",
            "ticks": ""
           }
          },
          "scene": {
           "xaxis": {
            "backgroundcolor": "#E5ECF6",
            "gridcolor": "white",
            "gridwidth": 2,
            "linecolor": "white",
            "showbackground": true,
            "ticks": "",
            "zerolinecolor": "white"
           },
           "yaxis": {
            "backgroundcolor": "#E5ECF6",
            "gridcolor": "white",
            "gridwidth": 2,
            "linecolor": "white",
            "showbackground": true,
            "ticks": "",
            "zerolinecolor": "white"
           },
           "zaxis": {
            "backgroundcolor": "#E5ECF6",
            "gridcolor": "white",
            "gridwidth": 2,
            "linecolor": "white",
            "showbackground": true,
            "ticks": "",
            "zerolinecolor": "white"
           }
          },
          "shapedefaults": {
           "line": {
            "color": "#2a3f5f"
           }
          },
          "ternary": {
           "aaxis": {
            "gridcolor": "white",
            "linecolor": "white",
            "ticks": ""
           },
           "baxis": {
            "gridcolor": "white",
            "linecolor": "white",
            "ticks": ""
           },
           "bgcolor": "#E5ECF6",
           "caxis": {
            "gridcolor": "white",
            "linecolor": "white",
            "ticks": ""
           }
          },
          "title": {
           "x": 0.05
          },
          "xaxis": {
           "automargin": true,
           "gridcolor": "white",
           "linecolor": "white",
           "ticks": "",
           "title": {
            "standoff": 15
           },
           "zerolinecolor": "white",
           "zerolinewidth": 2
          },
          "yaxis": {
           "automargin": true,
           "gridcolor": "white",
           "linecolor": "white",
           "ticks": "",
           "title": {
            "standoff": 15
           },
           "zerolinecolor": "white",
           "zerolinewidth": 2
          }
         }
        },
        "title": {
         "text": "Boxplot pentru LotArea"
        },
        "xaxis": {
         "anchor": "y",
         "domain": [
          0,
          1
         ]
        },
        "yaxis": {
         "anchor": "x",
         "domain": [
          0,
          1
         ],
         "title": {
          "text": "LotArea"
         }
        }
       }
      }
     },
     "metadata": {},
     "output_type": "display_data"
    },
    {
     "data": {
      "application/vnd.plotly.v1+json": {
       "config": {
        "plotlyServerURL": "https://plot.ly"
       },
       "data": [
        {
         "alignmentgroup": "True",
         "hovertemplate": "SalePrice=%{y}<extra></extra>",
         "legendgroup": "",
         "marker": {
          "color": "#636efa"
         },
         "name": "",
         "notched": false,
         "offsetgroup": "",
         "orientation": "v",
         "showlegend": false,
         "type": "box",
         "x0": " ",
         "xaxis": "x",
         "y": {
          "bdata": "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",
          "dtype": "i4"
         },
         "y0": " ",
         "yaxis": "y"
        }
       ],
       "layout": {
        "boxmode": "group",
        "legend": {
         "tracegroupgap": 0
        },
        "template": {
         "data": {
          "bar": [
           {
            "error_x": {
             "color": "#2a3f5f"
            },
            "error_y": {
             "color": "#2a3f5f"
            },
            "marker": {
             "line": {
              "color": "#E5ECF6",
              "width": 0.5
             },
             "pattern": {
              "fillmode": "overlay",
              "size": 10,
              "solidity": 0.2
             }
            },
            "type": "bar"
           }
          ],
          "barpolar": [
           {
            "marker": {
             "line": {
              "color": "#E5ECF6",
              "width": 0.5
             },
             "pattern": {
              "fillmode": "overlay",
              "size": 10,
              "solidity": 0.2
             }
            },
            "type": "barpolar"
           }
          ],
          "carpet": [
           {
            "aaxis": {
             "endlinecolor": "#2a3f5f",
             "gridcolor": "white",
             "linecolor": "white",
             "minorgridcolor": "white",
             "startlinecolor": "#2a3f5f"
            },
            "baxis": {
             "endlinecolor": "#2a3f5f",
             "gridcolor": "white",
             "linecolor": "white",
             "minorgridcolor": "white",
             "startlinecolor": "#2a3f5f"
            },
            "type": "carpet"
           }
          ],
          "choropleth": [
           {
            "colorbar": {
             "outlinewidth": 0,
             "ticks": ""
            },
            "type": "choropleth"
           }
          ],
          "contour": [
           {
            "colorbar": {
             "outlinewidth": 0,
             "ticks": ""
            },
            "colorscale": [
             [
              0,
              "#0d0887"
             ],
             [
              0.1111111111111111,
              "#46039f"
             ],
             [
              0.2222222222222222,
              "#7201a8"
             ],
             [
              0.3333333333333333,
              "#9c179e"
             ],
             [
              0.4444444444444444,
              "#bd3786"
             ],
             [
              0.5555555555555556,
              "#d8576b"
             ],
             [
              0.6666666666666666,
              "#ed7953"
             ],
             [
              0.7777777777777778,
              "#fb9f3a"
             ],
             [
              0.8888888888888888,
              "#fdca26"
             ],
             [
              1,
              "#f0f921"
             ]
            ],
            "type": "contour"
           }
          ],
          "contourcarpet": [
           {
            "colorbar": {
             "outlinewidth": 0,
             "ticks": ""
            },
            "type": "contourcarpet"
           }
          ],
          "heatmap": [
           {
            "colorbar": {
             "outlinewidth": 0,
             "ticks": ""
            },
            "colorscale": [
             [
              0,
              "#0d0887"
             ],
             [
              0.1111111111111111,
              "#46039f"
             ],
             [
              0.2222222222222222,
              "#7201a8"
             ],
             [
              0.3333333333333333,
              "#9c179e"
             ],
             [
              0.4444444444444444,
              "#bd3786"
             ],
             [
              0.5555555555555556,
              "#d8576b"
             ],
             [
              0.6666666666666666,
              "#ed7953"
             ],
             [
              0.7777777777777778,
              "#fb9f3a"
             ],
             [
              0.8888888888888888,
              "#fdca26"
             ],
             [
              1,
              "#f0f921"
             ]
            ],
            "type": "heatmap"
           }
          ],
          "histogram": [
           {
            "marker": {
             "pattern": {
              "fillmode": "overlay",
              "size": 10,
              "solidity": 0.2
             }
            },
            "type": "histogram"
           }
          ],
          "histogram2d": [
           {
            "colorbar": {
             "outlinewidth": 0,
             "ticks": ""
            },
            "colorscale": [
             [
              0,
              "#0d0887"
             ],
             [
              0.1111111111111111,
              "#46039f"
             ],
             [
              0.2222222222222222,
              "#7201a8"
             ],
             [
              0.3333333333333333,
              "#9c179e"
             ],
             [
              0.4444444444444444,
              "#bd3786"
             ],
             [
              0.5555555555555556,
              "#d8576b"
             ],
             [
              0.6666666666666666,
              "#ed7953"
             ],
             [
              0.7777777777777778,
              "#fb9f3a"
             ],
             [
              0.8888888888888888,
              "#fdca26"
             ],
             [
              1,
              "#f0f921"
             ]
            ],
            "type": "histogram2d"
           }
          ],
          "histogram2dcontour": [
           {
            "colorbar": {
             "outlinewidth": 0,
             "ticks": ""
            },
            "colorscale": [
             [
              0,
              "#0d0887"
             ],
             [
              0.1111111111111111,
              "#46039f"
             ],
             [
              0.2222222222222222,
              "#7201a8"
             ],
             [
              0.3333333333333333,
              "#9c179e"
             ],
             [
              0.4444444444444444,
              "#bd3786"
             ],
             [
              0.5555555555555556,
              "#d8576b"
             ],
             [
              0.6666666666666666,
              "#ed7953"
             ],
             [
              0.7777777777777778,
              "#fb9f3a"
             ],
             [
              0.8888888888888888,
              "#fdca26"
             ],
             [
              1,
              "#f0f921"
             ]
            ],
            "type": "histogram2dcontour"
           }
          ],
          "mesh3d": [
           {
            "colorbar": {
             "outlinewidth": 0,
             "ticks": ""
            },
            "type": "mesh3d"
           }
          ],
          "parcoords": [
           {
            "line": {
             "colorbar": {
              "outlinewidth": 0,
              "ticks": ""
             }
            },
            "type": "parcoords"
           }
          ],
          "pie": [
           {
            "automargin": true,
            "type": "pie"
           }
          ],
          "scatter": [
           {
            "fillpattern": {
             "fillmode": "overlay",
             "size": 10,
             "solidity": 0.2
            },
            "type": "scatter"
           }
          ],
          "scatter3d": [
           {
            "line": {
             "colorbar": {
              "outlinewidth": 0,
              "ticks": ""
             }
            },
            "marker": {
             "colorbar": {
              "outlinewidth": 0,
              "ticks": ""
             }
            },
            "type": "scatter3d"
           }
          ],
          "scattercarpet": [
           {
            "marker": {
             "colorbar": {
              "outlinewidth": 0,
              "ticks": ""
             }
            },
            "type": "scattercarpet"
           }
          ],
          "scattergeo": [
           {
            "marker": {
             "colorbar": {
              "outlinewidth": 0,
              "ticks": ""
             }
            },
            "type": "scattergeo"
           }
          ],
          "scattergl": [
           {
            "marker": {
             "colorbar": {
              "outlinewidth": 0,
              "ticks": ""
             }
            },
            "type": "scattergl"
           }
          ],
          "scattermap": [
           {
            "marker": {
             "colorbar": {
              "outlinewidth": 0,
              "ticks": ""
             }
            },
            "type": "scattermap"
           }
          ],
          "scattermapbox": [
           {
            "marker": {
             "colorbar": {
              "outlinewidth": 0,
              "ticks": ""
             }
            },
            "type": "scattermapbox"
           }
          ],
          "scatterpolar": [
           {
            "marker": {
             "colorbar": {
              "outlinewidth": 0,
              "ticks": ""
             }
            },
            "type": "scatterpolar"
           }
          ],
          "scatterpolargl": [
           {
            "marker": {
             "colorbar": {
              "outlinewidth": 0,
              "ticks": ""
             }
            },
            "type": "scatterpolargl"
           }
          ],
          "scatterternary": [
           {
            "marker": {
             "colorbar": {
              "outlinewidth": 0,
              "ticks": ""
             }
            },
            "type": "scatterternary"
           }
          ],
          "surface": [
           {
            "colorbar": {
             "outlinewidth": 0,
             "ticks": ""
            },
            "colorscale": [
             [
              0,
              "#0d0887"
             ],
             [
              0.1111111111111111,
              "#46039f"
             ],
             [
              0.2222222222222222,
              "#7201a8"
             ],
             [
              0.3333333333333333,
              "#9c179e"
             ],
             [
              0.4444444444444444,
              "#bd3786"
             ],
             [
              0.5555555555555556,
              "#d8576b"
             ],
             [
              0.6666666666666666,
              "#ed7953"
             ],
             [
              0.7777777777777778,
              "#fb9f3a"
             ],
             [
              0.8888888888888888,
              "#fdca26"
             ],
             [
              1,
              "#f0f921"
             ]
            ],
            "type": "surface"
           }
          ],
          "table": [
           {
            "cells": {
             "fill": {
              "color": "#EBF0F8"
             },
             "line": {
              "color": "white"
             }
            },
            "header": {
             "fill": {
              "color": "#C8D4E3"
             },
             "line": {
              "color": "white"
             }
            },
            "type": "table"
           }
          ]
         },
         "layout": {
          "annotationdefaults": {
           "arrowcolor": "#2a3f5f",
           "arrowhead": 0,
           "arrowwidth": 1
          },
          "autotypenumbers": "strict",
          "coloraxis": {
           "colorbar": {
            "outlinewidth": 0,
            "ticks": ""
           }
          },
          "colorscale": {
           "diverging": [
            [
             0,
             "#8e0152"
            ],
            [
             0.1,
             "#c51b7d"
            ],
            [
             0.2,
             "#de77ae"
            ],
            [
             0.3,
             "#f1b6da"
            ],
            [
             0.4,
             "#fde0ef"
            ],
            [
             0.5,
             "#f7f7f7"
            ],
            [
             0.6,
             "#e6f5d0"
            ],
            [
             0.7,
             "#b8e186"
            ],
            [
             0.8,
             "#7fbc41"
            ],
            [
             0.9,
             "#4d9221"
            ],
            [
             1,
             "#276419"
            ]
           ],
           "sequential": [
            [
             0,
             "#0d0887"
            ],
            [
             0.1111111111111111,
             "#46039f"
            ],
            [
             0.2222222222222222,
             "#7201a8"
            ],
            [
             0.3333333333333333,
             "#9c179e"
            ],
            [
             0.4444444444444444,
             "#bd3786"
            ],
            [
             0.5555555555555556,
             "#d8576b"
            ],
            [
             0.6666666666666666,
             "#ed7953"
            ],
            [
             0.7777777777777778,
             "#fb9f3a"
            ],
            [
             0.8888888888888888,
             "#fdca26"
            ],
            [
             1,
             "#f0f921"
            ]
           ],
           "sequentialminus": [
            [
             0,
             "#0d0887"
            ],
            [
             0.1111111111111111,
             "#46039f"
            ],
            [
             0.2222222222222222,
             "#7201a8"
            ],
            [
             0.3333333333333333,
             "#9c179e"
            ],
            [
             0.4444444444444444,
             "#bd3786"
            ],
            [
             0.5555555555555556,
             "#d8576b"
            ],
            [
             0.6666666666666666,
             "#ed7953"
            ],
            [
             0.7777777777777778,
             "#fb9f3a"
            ],
            [
             0.8888888888888888,
             "#fdca26"
            ],
            [
             1,
             "#f0f921"
            ]
           ]
          },
          "colorway": [
           "#636efa",
           "#EF553B",
           "#00cc96",
           "#ab63fa",
           "#FFA15A",
           "#19d3f3",
           "#FF6692",
           "#B6E880",
           "#FF97FF",
           "#FECB52"
          ],
          "font": {
           "color": "#2a3f5f"
          },
          "geo": {
           "bgcolor": "white",
           "lakecolor": "white",
           "landcolor": "#E5ECF6",
           "showlakes": true,
           "showland": true,
           "subunitcolor": "white"
          },
          "hoverlabel": {
           "align": "left"
          },
          "hovermode": "closest",
          "mapbox": {
           "style": "light"
          },
          "paper_bgcolor": "white",
          "plot_bgcolor": "#E5ECF6",
          "polar": {
           "angularaxis": {
            "gridcolor": "white",
            "linecolor": "white",
            "ticks": ""
           },
           "bgcolor": "#E5ECF6",
           "radialaxis": {
            "gridcolor": "white",
            "linecolor": "white",
            "ticks": ""
           }
          },
          "scene": {
           "xaxis": {
            "backgroundcolor": "#E5ECF6",
            "gridcolor": "white",
            "gridwidth": 2,
            "linecolor": "white",
            "showbackground": true,
            "ticks": "",
            "zerolinecolor": "white"
           },
           "yaxis": {
            "backgroundcolor": "#E5ECF6",
            "gridcolor": "white",
            "gridwidth": 2,
            "linecolor": "white",
            "showbackground": true,
            "ticks": "",
            "zerolinecolor": "white"
           },
           "zaxis": {
            "backgroundcolor": "#E5ECF6",
            "gridcolor": "white",
            "gridwidth": 2,
            "linecolor": "white",
            "showbackground": true,
            "ticks": "",
            "zerolinecolor": "white"
           }
          },
          "shapedefaults": {
           "line": {
            "color": "#2a3f5f"
           }
          },
          "ternary": {
           "aaxis": {
            "gridcolor": "white",
            "linecolor": "white",
            "ticks": ""
           },
           "baxis": {
            "gridcolor": "white",
            "linecolor": "white",
            "ticks": ""
           },
           "bgcolor": "#E5ECF6",
           "caxis": {
            "gridcolor": "white",
            "linecolor": "white",
            "ticks": ""
           }
          },
          "title": {
           "x": 0.05
          },
          "xaxis": {
           "automargin": true,
           "gridcolor": "white",
           "linecolor": "white",
           "ticks": "",
           "title": {
            "standoff": 15
           },
           "zerolinecolor": "white",
           "zerolinewidth": 2
          },
          "yaxis": {
           "automargin": true,
           "gridcolor": "white",
           "linecolor": "white",
           "ticks": "",
           "title": {
            "standoff": 15
           },
           "zerolinecolor": "white",
           "zerolinewidth": 2
          }
         }
        },
        "title": {
         "text": "Boxplot pentru SalePrice"
        },
        "xaxis": {
         "anchor": "y",
         "domain": [
          0,
          1
         ]
        },
        "yaxis": {
         "anchor": "x",
         "domain": [
          0,
          1
         ],
         "title": {
          "text": "SalePrice"
         }
        }
       }
      }
     },
     "metadata": {},
     "output_type": "display_data"
    }
   ],
   "source": [
    "for col in numeric_cols:\n",
    "    fig = px.box(df_subset, y=col,title=f'Boxplot pentru {col}')\n",
    "    fig.show()"
   ]
  },
  {
   "cell_type": "code",
   "execution_count": 65,
   "id": "07d83cae",
   "metadata": {},
   "outputs": [
    {
     "data": {
      "image/png": "[encoded data removed]",
      "text/plain": [
       "<Figure size 1000x500 with 1 Axes>"
      ]
     },
     "metadata": {},
     "output_type": "display_data"
    },
    {
     "data": {
      "image/png": "[encoded data removed]",
      "text/plain": [
       "<Figure size 1000x500 with 1 Axes>"
      ]
     },
     "metadata": {},
     "output_type": "display_data"
    },
    {
     "data": {
      "image/png": "[encoded data removed]",
      "text/plain": [
       "<Figure size 1000x500 with 1 Axes>"
      ]
     },
     "metadata": {},
     "output_type": "display_data"
    },
    {
     "data": {
      "image/png": "[encoded data removed]",
      "text/plain": [
       "<Figure size 1000x500 with 1 Axes>"
      ]
     },
     "metadata": {},
     "output_type": "display_data"
    },
    {
     "data": {
      "image/png": "[encoded data removed]",
      "text/plain": [
       "<Figure size 1000x500 with 1 Axes>"
      ]
     },
     "metadata": {},
     "output_type": "display_data"
    },
    {
     "data": {
      "image/png": "[encoded data removed]",
      "text/plain": [
       "<Figure size 1000x500 with 1 Axes>"
      ]
     },
     "metadata": {},
     "output_type": "display_data"
    },
    {
     "data": {
      "image/png": "[encoded data removed]",
      "text/plain": [
       "<Figure size 1000x500 with 1 Axes>"
      ]
     },
     "metadata": {},
     "output_type": "display_data"
    },
    {
     "data": {
      "image/png": "[encoded data removed]",
      "text/plain": [
       "<Figure size 1000x500 with 1 Axes>"
      ]
     },
     "metadata": {},
     "output_type": "display_data"
    },
    {
     "data": {
      "image/png": "[encoded data removed]",
      "text/plain": [
       "<Figure size 1000x500 with 1 Axes>"
      ]
     },
     "metadata": {},
     "output_type": "display_data"
    },
    {
     "data": {
      "image/png": "[encoded data removed]",
      "text/plain": [
       "<Figure size 1000x500 with 1 Axes>"
      ]
     },
     "metadata": {},
     "output_type": "display_data"
    },
    {
     "data": {
      "image/png": "[encoded data removed]",
      "text/plain": [
       "<Figure size 1000x500 with 1 Axes>"
      ]
     },
     "metadata": {},
     "output_type": "display_data"
    }
   ],
   "source": [
    "categorical_cols = df_subset.select_dtypes(include=[object]).columns.tolist()\n",
    "\n",
    "for col in categorical_cols:\n",
    "    plt.figure(figsize=(10,5))\n",
    "    sns.countplot(x=col, data=df_subset)\n",
    "    plt.title(f'Distributia pentru {col}')\n",
    "    plt.xticks(rotation=45)\n",
    "    plt.show()\n"
   ]
  }
 ],
 "metadata": {
  "kernelspec": {
   "display_name": "Python 3",
   "language": "python",
   "name": "python3"
  },
  "language_info": {
   "codemirror_mode": {
    "name": "ipython",
    "version": 3
   },
   "file_extension": ".py",
   "mimetype": "text/x-python",
   "name": "python",
   "nbconvert_exporter": "python",
   "pygments_lexer": "ipython3",
   "version": "3.12.0"
  }
 },
 "nbformat": 4,
 "nbformat_minor": 5
}
